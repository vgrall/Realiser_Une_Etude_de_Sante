{
 "cells": [
  {
   "cell_type": "markdown",
   "id": "e7316a32",
   "metadata": {},
   "source": [
    "<div style=\" background-color: RGB(0,114,200);\" >\n",
    "<h1 style=\"margin: auto; padding: 20px 0; color:#fff; text-align: center\">PROJET 4 DATA ANALYST</h1>\n",
    "<h2 style=\"margin: auto; padding: 20px 0; color:#fff; text-align: center\">Réalisez une étude de santé publique avec R ou Python\n",
    "</h2>\n",
    "</div>"
   ]
  },
  {
   "cell_type": "markdown",
   "id": "6e00fa8a",
   "metadata": {},
   "source": [
    "# OBJECTIF DE CE NOTEBOOK\n",
    "\n",
    "Bienvenue dans l'outil plébiscité par les analystes de données Jupyter.\n",
    "\n",
    "Il s'agit d'un outil permettant de mixer et d'alterner codes, textes et graphique.\n",
    "\n",
    "Cet outil est formidable pour plusieurs raisons:\n",
    "\n",
    "+ il permet de tester des lignes de codes au fur et à mesure de votre rédaction, de constater immédiatement le résultat d'un instruction, de la corriger si nécessaire.\n",
    "+ De rédiger du texte pour expliquer l'approche suivie ou les résultats d'une analyse et de le mettre en forme grâce à du code html ou plus simple avec **Markdown**\n",
    "+ d'agrémenter de graphiques\n",
    "\n",
    "Pour vous aider dans vos premiers pas à l'usage de Jupyter et de Python, nous avons rédigé ce notebook en vous indiquant les instructions à suivre.\n",
    "\n",
    "Il vous suffit pour cela de saisir le code Python répondant à l'instruction donnée.\n",
    "\n",
    "Vous verrez de temps à autre le code Python répondant à une instruction donnée mais cela est fait pour vous aider à comprendre la nature du travail qui vous est demandée.\n",
    "\n",
    "Et garder à l'esprit, qu'il n'y a pas de solution unique pour résoudre un problème et qu'il y a autant de résolutions de problèmes que de développeurs ;)...\n",
    "\n"
   ]
  },
  {
   "cell_type": "markdown",
   "id": "c33bcf57",
   "metadata": {},
   "source": [
    "Note jeremy \n",
    "Est ce qu'il faut faire le calcul de la sous nutrition sur les pays qu'on a ? \n",
    "Est ce qu'il faut faire des graphiques ?\n",
    "Rajouter le soja\n",
    "La liste des céréales est difficile a trouver ..."
   ]
  },
  {
   "cell_type": "markdown",
   "id": "9dad8326",
   "metadata": {},
   "source": [
    "<div style=\"background-color: RGB(0,150,250);\" >\n",
    "<h2 style=\"margin: auto; padding: 20px; color:#fff; \">Etape 1 - Importation des librairies et chargement des fichiers</h2>\n",
    "</div>"
   ]
  },
  {
   "cell_type": "markdown",
   "id": "4ee69457",
   "metadata": {},
   "source": [
    "<div style=\"border: 1px solid RGB(0,150,250);\" >\n",
    "<h3 style=\"margin: auto; padding: 20px; color: RGB(0,150,250); \">1.1 - Importation des librairies</h3>\n",
    "</div>"
   ]
  },
  {
   "cell_type": "code",
   "execution_count": 1,
   "id": "ffe62b56",
   "metadata": {},
   "outputs": [],
   "source": [
    "#Importation de la librairie Pandas\n",
    "import pandas as pd"
   ]
  },
  {
   "cell_type": "markdown",
   "id": "8bd8e7ed",
   "metadata": {},
   "source": [
    "<div style=\"border: 1px solid RGB(0,150,250);\" >\n",
    "<h3 style=\"margin: auto; padding: 20px; color: RGB(0,150,250); \">1.2 - Chargement des fichiers Excel</h3>\n",
    "</div>"
   ]
  },
  {
   "cell_type": "code",
   "execution_count": 2,
   "id": "b304f108",
   "metadata": {},
   "outputs": [],
   "source": [
    "#Importation du fichier population.csv\n",
    "population = pd.read_csv('population.csv')\n",
    "\n",
    "#Importation du fichier dispo_alimentaire.csv\n",
    "dispoAlimentaire = pd.read_csv('dispo_alimentaire.csv')\n",
    "\n",
    "#Importation du fichier aide_alimentaire.csv\n",
    "aideAlimentaire = pd.read_csv('aide_alimentaire.csv')\n",
    "\n",
    "#Importation du fichier sous_nutrition.csv\n",
    "sousNutrition = pd.read_csv('sous_nutrition.csv')"
   ]
  },
  {
   "cell_type": "markdown",
   "id": "1249847a",
   "metadata": {},
   "source": [
    "<div style=\"background-color: RGB(0,150,250);\" >\n",
    "<h2 style=\"margin: auto; padding: 20px; color:#fff; \">Etape 2 - Analyse exploratoire des fichiers</h2>\n",
    "</div>"
   ]
  },
  {
   "cell_type": "markdown",
   "id": "235e6e91",
   "metadata": {},
   "source": [
    "<div style=\"border: 1px solid RGB(0,150,250);\" >\n",
    "<h3 style=\"margin: auto; padding: 20px; color: RGB(0,150,250); \">2.1 - Analyse exploratoire du fichier population</h3>\n",
    "</div>"
   ]
  },
  {
   "cell_type": "code",
   "execution_count": 3,
   "id": "e6b639d2",
   "metadata": {},
   "outputs": [
    {
     "name": "stdout",
     "output_type": "stream",
     "text": [
      "Le tableau comporte 1416 observation(s) ou article(s)\n",
      "Le tableau comporte 3 colonne(s)\n"
     ]
    }
   ],
   "source": [
    "#Afficher les dimensions du dataset\n",
    "print(\"Le tableau comporte {} observation(s) ou article(s)\".format(population.shape[0]))\n",
    "print(\"Le tableau comporte {} colonne(s)\".format(population.shape[1]))"
   ]
  },
  {
   "cell_type": "code",
   "execution_count": 4,
   "id": "08f5061e",
   "metadata": {},
   "outputs": [
    {
     "name": "stdout",
     "output_type": "stream",
     "text": [
      "Le tableau comporte 3 colonne(s)\n",
      "La nature des colonnes est :\n",
      "              0\n",
      "Zone     object\n",
      "Année     int64\n",
      "Valeur  float64\n",
      "Le nombre de valeurs présentes dans chacune des colonnes est :\n",
      "Zone      1416\n",
      "Année     1416\n",
      "Valeur    1416\n",
      "dtype: int64\n"
     ]
    }
   ],
   "source": [
    "#Consulter le nombre de colonnes\n",
    "print(\"Le tableau comporte {} colonne(s)\".format(len(population.columns)))\n",
    "\n",
    "#La nature des données dans chacune des colonnes\n",
    "# Convertir la série des types de données en un DataFrame\n",
    "dtypes_df = population.dtypes.to_frame()\n",
    "# Formater le DataFrame en une chaîne\n",
    "dtypes_str = dtypes_df.to_string()\n",
    "# Afficher le résultat\n",
    "print(\"La nature des colonnes est :\\n{}\".format(dtypes_str))\n",
    "\n",
    "#Le nombre de valeurs présentes dans chacune des colonnes\n",
    "print(\"Le nombre de valeurs présentes dans chacune des colonnes est :\\n{}\".format(population.count()))"
   ]
  },
  {
   "cell_type": "markdown",
   "id": "d2a1eb61",
   "metadata": {},
   "source": [
    "Le tableau comporte 3 colonne(s)\n",
    "\n",
    "La nature des colonnes est :\n",
    "Zone     object\n",
    "Année     int64\n",
    "Valeur  float64\n",
    "\n",
    "Le nombre de valeurs présentes dans chacune des colonnes est :\n",
    "Zone      1416\n",
    "Année     1416\n",
    "Valeur    1416"
   ]
  },
  {
   "cell_type": "code",
   "execution_count": 5,
   "id": "3e50d9e6",
   "metadata": {},
   "outputs": [
    {
     "name": "stdout",
     "output_type": "stream",
     "text": [
      "Les 5 premières lignes de la table population\n",
      "          Zone  Année     Valeur\n",
      "0  Afghanistan   2013  32269.589\n",
      "1  Afghanistan   2014  33370.794\n",
      "2  Afghanistan   2015  34413.603\n",
      "3  Afghanistan   2016  35383.032\n",
      "4  Afghanistan   2017  36296.113\n"
     ]
    }
   ],
   "source": [
    "#Affichage les 5 premières lignes de la table\n",
    "print(\"Les 5 premières lignes de la table population\")\n",
    "print(population.head())\n"
   ]
  },
  {
   "cell_type": "markdown",
   "id": "927c83f9",
   "metadata": {},
   "source": [
    "Les 5 premières lignes de la table population\n",
    "          Zone  Année     Valeur\n",
    "0  Afghanistan   2013  32269.589\n",
    "1  Afghanistan   2014  33370.794\n",
    "2  Afghanistan   2015  34413.603\n",
    "3  Afghanistan   2016  35383.032\n",
    "4  Afghanistan   2017  36296.113"
   ]
  },
  {
   "cell_type": "code",
   "execution_count": 6,
   "id": "ab1a4af4",
   "metadata": {},
   "outputs": [
    {
     "name": "stdout",
     "output_type": "stream",
     "text": [
      "Nous allons harmoniser les unités en multipliant la population par 1000.\n",
      "Nous avons harmonisé les unités en multipliant la population par 1000 :\n",
      "             Zone  Année     Valeur  Population\n",
      "0     Afghanistan   2013  32269.589    32269589\n",
      "1     Afghanistan   2014  33370.794    33370794\n",
      "2     Afghanistan   2015  34413.603    34413603\n",
      "3     Afghanistan   2016  35383.032    35383032\n",
      "4     Afghanistan   2017  36296.113    36296113\n",
      "...           ...    ...        ...         ...\n",
      "1411     Zimbabwe   2014  13586.707    13586707\n",
      "1412     Zimbabwe   2015  13814.629    13814629\n",
      "1413     Zimbabwe   2016  14030.331    14030331\n",
      "1414     Zimbabwe   2017  14236.595    14236595\n",
      "1415     Zimbabwe   2018  14438.802    14438802\n",
      "\n",
      "[1416 rows x 4 columns]\n"
     ]
    }
   ],
   "source": [
    "#Nous allons harmoniser les unités. Pour cela, nous avons décidé de multiplier la population par 1000\n",
    "#Multiplication de la colonne valeur par 1000\n",
    "\n",
    "print(\"Nous allons harmoniser les unités en multipliant la population par 1000.\")\n",
    "\n",
    "# Multiplication de la colonne \"Valeur\" par 1000\n",
    "population['Population'] = population['Valeur'] * 1000\n",
    "\n",
    "# Convertir les valeurs en entiers\n",
    "population['Population'] = population['Population'].astype(int)\n",
    "\n",
    "# Afficher le résultat\n",
    "print(\"Nous avons harmonisé les unités en multipliant la population par 1000 :\\n{}\".format(population))\n"
   ]
  },
  {
   "cell_type": "markdown",
   "id": "e7dca7d6",
   "metadata": {},
   "source": [
    "Nous avons harmonisé les unités en multipliant la population par 1000 :\n",
    "0       32269589\n",
    "1       33370794\n",
    "2       34413603\n",
    "3       35383032\n",
    "4       36296113\n",
    "          ...   \n",
    "1411    13586707\n",
    "1412    13814629\n",
    "1413    14030331\n",
    "1414    14236595\n",
    "1415    14438802"
   ]
  },
  {
   "cell_type": "code",
   "execution_count": 7,
   "id": "38836b61",
   "metadata": {},
   "outputs": [
    {
     "name": "stdout",
     "output_type": "stream",
     "text": [
      "          Zone  Année  Population\n",
      "0  Afghanistan   2013    32269589\n",
      "1  Afghanistan   2014    33370794\n",
      "2  Afghanistan   2015    34413603\n",
      "3  Afghanistan   2016    35383032\n",
      "4  Afghanistan   2017    36296113\n"
     ]
    }
   ],
   "source": [
    "# Supprimer la colonne \"Valeur\" originale\n",
    "population.drop(columns=['Valeur'], inplace=True)\n",
    "\n",
    "# Afficher le résultat\n",
    "print(population.head())"
   ]
  },
  {
   "cell_type": "markdown",
   "id": "7347cc69",
   "metadata": {},
   "source": [
    "   Zone  Année  Population\n",
    "0  Afghanistan   2013   32269.589\n",
    "1  Afghanistan   2014   33370.794\n",
    "2  Afghanistan   2015   34413.603\n",
    "3  Afghanistan   2016   35383.032\n",
    "4  Afghanistan   2017   36296.113"
   ]
  },
  {
   "cell_type": "markdown",
   "id": "4224b896",
   "metadata": {},
   "source": [
    "<div style=\"border: 1px solid RGB(0,150,250);\" >\n",
    "<h3 style=\"margin: auto; padding: 20px; color: RGB(0,150,250); \">2.2 - Analyse exploratoire du fichier disponibilité alimentaire</h3>\n",
    "</div>"
   ]
  },
  {
   "cell_type": "code",
   "execution_count": 8,
   "id": "38f5b838",
   "metadata": {},
   "outputs": [
    {
     "name": "stdout",
     "output_type": "stream",
     "text": [
      "Le tableau comporte 15605 observation(s) ou article(s)\n"
     ]
    }
   ],
   "source": [
    "#Afficher les dimensions du dataset\n",
    "\n",
    "print(\"Le tableau comporte {} observation(s) ou article(s)\".format(dispoAlimentaire.shape[0]))"
   ]
  },
  {
   "cell_type": "markdown",
   "id": "01195f35",
   "metadata": {},
   "source": [
    "Le tableau comporte 15605 observation(s) ou article(s)"
   ]
  },
  {
   "cell_type": "code",
   "execution_count": 9,
   "id": "99735a22",
   "metadata": {},
   "outputs": [
    {
     "name": "stdout",
     "output_type": "stream",
     "text": [
      "Le tableau comporte 18 colonne(s)\n"
     ]
    }
   ],
   "source": [
    "#Consulter le nombre de colonnes\n",
    "print(\"Le tableau comporte {} colonne(s)\".format(dispoAlimentaire.shape[1]))\n"
   ]
  },
  {
   "cell_type": "markdown",
   "id": "9d408e72",
   "metadata": {},
   "source": [
    "Le tableau comporte 18 colonne(s)"
   ]
  },
  {
   "cell_type": "code",
   "execution_count": 10,
   "id": "0058032d",
   "metadata": {},
   "outputs": [
    {
     "name": "stdout",
     "output_type": "stream",
     "text": [
      "Les 5 premières lignes de la table dispositions alimentaires sont :\n",
      "          Zone                Produit   Origine  Aliments pour animaux  \\\n",
      "0  Afghanistan       Abats Comestible   animale                    NaN   \n",
      "1  Afghanistan        Agrumes, Autres  vegetale                    NaN   \n",
      "2  Afghanistan  Aliments pour enfants  vegetale                    NaN   \n",
      "3  Afghanistan                 Ananas  vegetale                    NaN   \n",
      "4  Afghanistan                Bananes  vegetale                    NaN   \n",
      "\n",
      "   Autres Utilisations  Disponibilité alimentaire (Kcal/personne/jour)  \\\n",
      "0                  NaN                                             5.0   \n",
      "1                  NaN                                             1.0   \n",
      "2                  NaN                                             1.0   \n",
      "3                  NaN                                             0.0   \n",
      "4                  NaN                                             4.0   \n",
      "\n",
      "   Disponibilité alimentaire en quantité (kg/personne/an)  \\\n",
      "0                                               1.72        \n",
      "1                                               1.29        \n",
      "2                                               0.06        \n",
      "3                                               0.00        \n",
      "4                                               2.70        \n",
      "\n",
      "   Disponibilité de matière grasse en quantité (g/personne/jour)  \\\n",
      "0                                               0.20               \n",
      "1                                               0.01               \n",
      "2                                               0.01               \n",
      "3                                                NaN               \n",
      "4                                               0.02               \n",
      "\n",
      "   Disponibilité de protéines en quantité (g/personne/jour)  \\\n",
      "0                                               0.77          \n",
      "1                                               0.02          \n",
      "2                                               0.03          \n",
      "3                                                NaN          \n",
      "4                                               0.05          \n",
      "\n",
      "   Disponibilité intérieure  Exportations - Quantité  Importations - Quantité  \\\n",
      "0                      53.0                      NaN                      NaN   \n",
      "1                      41.0                      2.0                     40.0   \n",
      "2                       2.0                      NaN                      2.0   \n",
      "3                       0.0                      NaN                      0.0   \n",
      "4                      82.0                      NaN                     82.0   \n",
      "\n",
      "   Nourriture  Pertes  Production  Semences  Traitement  Variation de stock  \n",
      "0        53.0     NaN        53.0       NaN         NaN                 NaN  \n",
      "1        39.0     2.0         3.0       NaN         NaN                 NaN  \n",
      "2         2.0     NaN         NaN       NaN         NaN                 NaN  \n",
      "3         0.0     NaN         NaN       NaN         NaN                 NaN  \n",
      "4        82.0     NaN         NaN       NaN         NaN                 NaN  \n"
     ]
    }
   ],
   "source": [
    "#Affichage les 5 premières lignes de la table\n",
    "print(\"Les 5 premières lignes de la table dispositions alimentaires sont :\")\n",
    "print(dispoAlimentaire.head())\n"
   ]
  },
  {
   "cell_type": "markdown",
   "id": "8e54a0d6",
   "metadata": {},
   "source": [
    "Les 5 premières lignes de la table dispositions alimentaires sont :\n",
    "          Zone                Produit   Origine  Aliments pour animaux  Autres Utilisations  ...  Pertes  Production  Semences  Traitement  Variation de stock\n",
    "0  Afghanistan       Abats Comestible   animale                    NaN                  NaN  ...     NaN        53.0       NaN         NaN                 NaN\n",
    "1  Afghanistan        Agrumes, Autres  vegetale                    NaN                  NaN  ...     2.0         3.0       NaN         NaN                 NaN\n",
    "2  Afghanistan  Aliments pour enfants  vegetale                    NaN                  NaN  ...     NaN         NaN       NaN         NaN                 NaN\n",
    "3  Afghanistan                 Ananas  vegetale                    NaN                  NaN  ...     NaN         NaN       NaN         NaN                 NaN\n",
    "4  Afghanistan                Bananes  vegetale                    NaN                  NaN  ...     NaN         NaN       NaN         NaN                 NaN"
   ]
  },
  {
   "cell_type": "code",
   "execution_count": 11,
   "id": "f3832569",
   "metadata": {},
   "outputs": [
    {
     "name": "stdout",
     "output_type": "stream",
     "text": [
      "          Zone                Produit   Origine  Aliments pour animaux  \\\n",
      "0  Afghanistan       Abats Comestible   animale                    0.0   \n",
      "1  Afghanistan        Agrumes, Autres  vegetale                    0.0   \n",
      "2  Afghanistan  Aliments pour enfants  vegetale                    0.0   \n",
      "3  Afghanistan                 Ananas  vegetale                    0.0   \n",
      "4  Afghanistan                Bananes  vegetale                    0.0   \n",
      "\n",
      "   Autres Utilisations  Disponibilité alimentaire (Kcal/personne/jour)  \\\n",
      "0                  0.0                                             5.0   \n",
      "1                  0.0                                             1.0   \n",
      "2                  0.0                                             1.0   \n",
      "3                  0.0                                             0.0   \n",
      "4                  0.0                                             4.0   \n",
      "\n",
      "   Disponibilité alimentaire en quantité (kg/personne/an)  \\\n",
      "0                                               1.72        \n",
      "1                                               1.29        \n",
      "2                                               0.06        \n",
      "3                                               0.00        \n",
      "4                                               2.70        \n",
      "\n",
      "   Disponibilité de matière grasse en quantité (g/personne/jour)  \\\n",
      "0                                               0.20               \n",
      "1                                               0.01               \n",
      "2                                               0.01               \n",
      "3                                               0.00               \n",
      "4                                               0.02               \n",
      "\n",
      "   Disponibilité de protéines en quantité (g/personne/jour)  \\\n",
      "0                                               0.77          \n",
      "1                                               0.02          \n",
      "2                                               0.03          \n",
      "3                                               0.00          \n",
      "4                                               0.05          \n",
      "\n",
      "   Disponibilité intérieure  Exportations - Quantité  Importations - Quantité  \\\n",
      "0                      53.0                      0.0                      0.0   \n",
      "1                      41.0                      2.0                     40.0   \n",
      "2                       2.0                      0.0                      2.0   \n",
      "3                       0.0                      0.0                      0.0   \n",
      "4                      82.0                      0.0                     82.0   \n",
      "\n",
      "   Nourriture  Pertes  Production  Semences  Traitement  Variation de stock  \n",
      "0        53.0     0.0        53.0       0.0         0.0                 0.0  \n",
      "1        39.0     2.0         3.0       0.0         0.0                 0.0  \n",
      "2         2.0     0.0         0.0       0.0         0.0                 0.0  \n",
      "3         0.0     0.0         0.0       0.0         0.0                 0.0  \n",
      "4        82.0     0.0         0.0       0.0         0.0                 0.0  \n"
     ]
    }
   ],
   "source": [
    "#remplacement des NaN dans le dataset par des 0\n",
    "dispoAlimentaire = dispoAlimentaire.fillna(0)\n",
    "print(dispoAlimentaire.head())\n"
   ]
  },
  {
   "cell_type": "markdown",
   "id": "6be8a6fa",
   "metadata": {},
   "source": [
    "     Zone                Produit   Origine  Aliments pour animaux  Autres Utilisations  Disponibilité alimentaire (Kcal/personne/jour)  Disponibilité alimentaire en quantité (kg/personne/an)  ...  Importations - Quantité  Nourriture  Pertes  Production  Semences  Traitement  Variation de stock\n",
    "0  Afghanistan       Abats Comestible   animale                    0.0                  0.0                                             5.0                                               1.72       ...                      0.0        53.0     0.0        53.0       0.0         0.0                 0.0\n",
    "1  Afghanistan        Agrumes, Autres  vegetale                    0.0                  0.0                                             1.0                                               1.29       ...                     40.0        39.0     2.0         3.0       0.0         0.0                 0.0\n",
    "2  Afghanistan  Aliments pour enfants  vegetale                    0.0                  0.0                                             1.0                                               0.06       ...                      2.0         2.0     0.0         0.0       0.0         0.0                 0.0\n",
    "3  Afghanistan                 Ananas  vegetale                    0.0                  0.0                                             0.0                                               0.00       ...                      0.0         0.0     0.0         0.0       0.0         0.0                 0.0\n",
    "4  Afghanistan                Bananes  vegetale                    0.0                  0.0                                             4.0                                               2.70       ...                     82.0        82.0     0.0         0.0       0.0         0.0                 0.0"
   ]
  },
  {
   "cell_type": "code",
   "execution_count": 12,
   "id": "db4432e3",
   "metadata": {},
   "outputs": [],
   "source": [
    "#multiplication de toutes les lignes contenant des milliers de tonnes en Kg\n",
    "colonnes_a_convertir = ['Autres Utilisations', 'Disponibilité intérieure', 'Exportations - Quantité',\n",
    "                        'Importations - Quantité', 'Nourriture', 'Pertes', 'Production', 'Semences', \n",
    "                        'Traitement', 'Variation de stock']\n",
    "\n",
    "for colonne in colonnes_a_convertir:\n",
    "    dispoAlimentaire[colonne] *= 1000  # Convertir de milliers de tonnes à kg\n",
    "\n"
   ]
  },
  {
   "cell_type": "code",
   "execution_count": 13,
   "id": "7f1689bf",
   "metadata": {},
   "outputs": [
    {
     "name": "stdout",
     "output_type": "stream",
     "text": [
      "          Zone                Produit   Origine  Aliments pour animaux  \\\n",
      "0  Afghanistan       Abats Comestible   animale                    0.0   \n",
      "1  Afghanistan        Agrumes, Autres  vegetale                    0.0   \n",
      "2  Afghanistan  Aliments pour enfants  vegetale                    0.0   \n",
      "3  Afghanistan                 Ananas  vegetale                    0.0   \n",
      "4  Afghanistan                Bananes  vegetale                    0.0   \n",
      "\n",
      "   Autres Utilisations  Disponibilité alimentaire (Kcal/personne/jour)  \\\n",
      "0                  0.0                                             5.0   \n",
      "1                  0.0                                             1.0   \n",
      "2                  0.0                                             1.0   \n",
      "3                  0.0                                             0.0   \n",
      "4                  0.0                                             4.0   \n",
      "\n",
      "   Disponibilité alimentaire en quantité (kg/personne/an)  \\\n",
      "0                                               1.72        \n",
      "1                                               1.29        \n",
      "2                                               0.06        \n",
      "3                                               0.00        \n",
      "4                                               2.70        \n",
      "\n",
      "   Disponibilité de matière grasse en quantité (g/personne/jour)  \\\n",
      "0                                               0.20               \n",
      "1                                               0.01               \n",
      "2                                               0.01               \n",
      "3                                               0.00               \n",
      "4                                               0.02               \n",
      "\n",
      "   Disponibilité de protéines en quantité (g/personne/jour)  \\\n",
      "0                                               0.77          \n",
      "1                                               0.02          \n",
      "2                                               0.03          \n",
      "3                                               0.00          \n",
      "4                                               0.05          \n",
      "\n",
      "   Disponibilité intérieure  Exportations - Quantité  Importations - Quantité  \\\n",
      "0                   53000.0                      0.0                      0.0   \n",
      "1                   41000.0                   2000.0                  40000.0   \n",
      "2                    2000.0                      0.0                   2000.0   \n",
      "3                       0.0                      0.0                      0.0   \n",
      "4                   82000.0                      0.0                  82000.0   \n",
      "\n",
      "   Nourriture  Pertes  Production  Semences  Traitement  Variation de stock  \n",
      "0     53000.0     0.0     53000.0       0.0         0.0                 0.0  \n",
      "1     39000.0  2000.0      3000.0       0.0         0.0                 0.0  \n",
      "2      2000.0     0.0         0.0       0.0         0.0                 0.0  \n",
      "3         0.0     0.0         0.0       0.0         0.0                 0.0  \n",
      "4     82000.0     0.0         0.0       0.0         0.0                 0.0  \n"
     ]
    }
   ],
   "source": [
    "#Affichage les 5 premières lignes de la table\n",
    "print(dispoAlimentaire.head())"
   ]
  },
  {
   "cell_type": "markdown",
   "id": "a99b3100",
   "metadata": {},
   "source": [
    " Aliments pour animaux  Autres Utilisations  Disponibilité alimentaire (Kcal/personne/jour)  Disponibilité alimentaire en quantité (kg/personne/an)  Disponibilité de matière grasse en quantité (g/personne/jour)  Disponibilité de protéines en quantité (g/personne/jour)  ...  Nourriture   Pertes  Production  Semences  Traitement  Variation de stock\n",
    "0                      0                    0                                         5000000                                            1720000                                                  200000                                                         770000         ...    53000000        0    53000000         0           0                   0\n",
    "1                      0                    0                                         1000000                                            1290000                                                   10000                                                          20000         ...    39000000  2000000     3000000         0           0                   0\n",
    "2                      0                    0                                         1000000                                              60000                                                   10000                                                          30000         ...     2000000        0           0         0           0                   0\n",
    "3                      0                    0                                               0                                                  0                                                       0                                                              0         ...           0        0           0         0           0                   0\n",
    "4                      0                    0                                         4000000                                            2700000                                                   20000                                                          50000         ...    82000000        0           0         0           0                   0"
   ]
  },
  {
   "cell_type": "markdown",
   "id": "a09233e4",
   "metadata": {},
   "source": [
    "<div style=\"border: 1px solid RGB(0,150,250);\" >\n",
    "<h3 style=\"margin: auto; padding: 20px; color: RGB(0,150,250); \">2.3 - Analyse exploratoire du fichier aide alimentaire</h3>\n",
    "</div>"
   ]
  },
  {
   "cell_type": "code",
   "execution_count": 14,
   "id": "702f6322",
   "metadata": {},
   "outputs": [
    {
     "name": "stdout",
     "output_type": "stream",
     "text": [
      "Le tableau comporte 1475 observation(s) ou article(s)\n",
      "Le tableau comporte 4 colonne(s)\n"
     ]
    }
   ],
   "source": [
    "#Afficher les dimensions du dataset\n",
    "print(\"Le tableau comporte {} observation(s) ou article(s)\".format(aideAlimentaire.shape[0]))\n",
    "print(\"Le tableau comporte {} colonne(s)\".format(aideAlimentaire.shape[1]))"
   ]
  },
  {
   "cell_type": "code",
   "execution_count": 15,
   "id": "8fead3f9",
   "metadata": {},
   "outputs": [
    {
     "name": "stdout",
     "output_type": "stream",
     "text": [
      "Le nombre de colonnes est : 4\n"
     ]
    }
   ],
   "source": [
    "#Consulter le nombre de colonnes\n",
    "print(\"Le nombre de colonnes est : {}\".format(aideAlimentaire.shape[1]))\n"
   ]
  },
  {
   "cell_type": "code",
   "execution_count": 16,
   "id": "443ec245",
   "metadata": {},
   "outputs": [
    {
     "name": "stdout",
     "output_type": "stream",
     "text": [
      "les 5 premières lignes de la table aideAlimentaire sont : \n",
      "  Pays bénéficiaire  Année              Produit  Valeur\n",
      "0       Afghanistan   2013  Autres non-céréales     682\n",
      "1       Afghanistan   2014  Autres non-céréales     335\n",
      "2       Afghanistan   2013         Blé et Farin   39224\n",
      "3       Afghanistan   2014         Blé et Farin   15160\n",
      "4       Afghanistan   2013             Céréales   40504\n"
     ]
    }
   ],
   "source": [
    "#Affichage les 5 premières lignes de la table\n",
    "print(\"les 5 premières lignes de la table aideAlimentaire sont : \")\n",
    "print(aideAlimentaire.head())"
   ]
  },
  {
   "cell_type": "code",
   "execution_count": 17,
   "id": "af47212b",
   "metadata": {},
   "outputs": [
    {
     "name": "stdout",
     "output_type": "stream",
     "text": [
      "          Zone  Année              Produit  Valeur\n",
      "0  Afghanistan   2013  Autres non-céréales     682\n",
      "1  Afghanistan   2014  Autres non-céréales     335\n",
      "2  Afghanistan   2013         Blé et Farin   39224\n",
      "3  Afghanistan   2014         Blé et Farin   15160\n",
      "4  Afghanistan   2013             Céréales   40504\n"
     ]
    }
   ],
   "source": [
    "#changement du nom de la colonne Pays bénéficiaire par Zone\n",
    "aideAlimentaire.rename(columns={'Pays bénéficiaire':'Zone'}, inplace=True)\n",
    "print(aideAlimentaire.head())\n"
   ]
  },
  {
   "cell_type": "code",
   "execution_count": 18,
   "id": "c32cd1d8",
   "metadata": {},
   "outputs": [],
   "source": [
    "#Multiplication de la colonne Aide_alimentaire qui contient des tonnes par 1000 pour avoir des kg\n",
    "aideAlimentaire['Valeur'] = aideAlimentaire['Valeur']*1000\n"
   ]
  },
  {
   "cell_type": "code",
   "execution_count": 19,
   "id": "d951d8df",
   "metadata": {},
   "outputs": [
    {
     "name": "stdout",
     "output_type": "stream",
     "text": [
      "          Zone  Année              Produit    Valeur\n",
      "0  Afghanistan   2013  Autres non-céréales    682000\n",
      "1  Afghanistan   2014  Autres non-céréales    335000\n",
      "2  Afghanistan   2013         Blé et Farin  39224000\n",
      "3  Afghanistan   2014         Blé et Farin  15160000\n",
      "4  Afghanistan   2013             Céréales  40504000\n"
     ]
    }
   ],
   "source": [
    "#Affichage les 5 premières lignes de la table\n",
    "print(aideAlimentaire.head())"
   ]
  },
  {
   "cell_type": "markdown",
   "id": "eeae9043",
   "metadata": {},
   "source": [
    "<div style=\"border: 1px solid RGB(0,150,250);\" >\n",
    "<h3 style=\"margin: auto; padding: 20px; color: RGB(0,150,250); \">2.3 - Analyse exploratoire du fichier sous nutrition</h3>\n",
    "</div>"
   ]
  },
  {
   "cell_type": "code",
   "execution_count": 20,
   "id": "882add3d",
   "metadata": {},
   "outputs": [
    {
     "name": "stdout",
     "output_type": "stream",
     "text": [
      "Le tableau comporte 1218 observation(s) ou article(s)\n"
     ]
    }
   ],
   "source": [
    "#Afficher les dimensions du dataset\n",
    "print(\"Le tableau comporte {} observation(s) ou article(s)\".format(sousNutrition.shape[0]))\n"
   ]
  },
  {
   "cell_type": "code",
   "execution_count": 21,
   "id": "70c1a7a9",
   "metadata": {},
   "outputs": [
    {
     "name": "stdout",
     "output_type": "stream",
     "text": [
      "Le tableau comporte 3 colonne(s)\n"
     ]
    }
   ],
   "source": [
    "#Consulter le nombre de colonnes\n",
    "print(\"Le tableau comporte {} colonne(s)\".format(sousNutrition.shape[1]))"
   ]
  },
  {
   "cell_type": "code",
   "execution_count": 22,
   "id": "5c6469e5",
   "metadata": {},
   "outputs": [
    {
     "name": "stdout",
     "output_type": "stream",
     "text": [
      "          Zone      Année Valeur\n",
      "0  Afghanistan  2012-2014    8.6\n",
      "1  Afghanistan  2013-2015    8.8\n",
      "2  Afghanistan  2014-2016    8.9\n",
      "3  Afghanistan  2015-2017    9.7\n",
      "4  Afghanistan  2016-2018   10.5\n"
     ]
    }
   ],
   "source": [
    "#Afficher les 5 premières lignes de la table\n",
    "print(sousNutrition.head())\n"
   ]
  },
  {
   "cell_type": "code",
   "execution_count": 23,
   "id": "11b6a6c8",
   "metadata": {},
   "outputs": [],
   "source": [
    "#Conversion de la colonne sous nutrition en numérique\n",
    "sousNutrition['Valeur'] = pd.to_numeric(sousNutrition['Valeur'], errors='coerce')\n",
    "\n"
   ]
  },
  {
   "cell_type": "code",
   "execution_count": 24,
   "id": "d31d2724",
   "metadata": {},
   "outputs": [
    {
     "name": "stdout",
     "output_type": "stream",
     "text": [
      "0        8.6\n",
      "1        8.8\n",
      "2        8.9\n",
      "3        9.7\n",
      "4       10.5\n",
      "        ... \n",
      "1213     0.0\n",
      "1214     0.0\n",
      "1215     0.0\n",
      "1216     0.0\n",
      "1217     0.0\n",
      "Name: Valeur, Length: 1218, dtype: float64\n"
     ]
    }
   ],
   "source": [
    "#Conversion de la colonne (avec l'argument errors=coerce qui permet de convertir automatiquement les lignes qui ne sont pas des nombres en NaN)\n",
    "#Puis remplacement des NaN en 0\n",
    "sousNutrition['Valeur'] = sousNutrition['Valeur'].fillna(0)\n",
    "print(sousNutrition['Valeur'])\n"
   ]
  },
  {
   "cell_type": "code",
   "execution_count": 25,
   "id": "34c98232",
   "metadata": {},
   "outputs": [
    {
     "name": "stdout",
     "output_type": "stream",
     "text": [
      "             Zone      Année  sous_nutrition\n",
      "0     Afghanistan  2012-2014             8.6\n",
      "1     Afghanistan  2013-2015             8.8\n",
      "2     Afghanistan  2014-2016             8.9\n",
      "3     Afghanistan  2015-2017             9.7\n",
      "4     Afghanistan  2016-2018            10.5\n",
      "...           ...        ...             ...\n",
      "1213     Zimbabwe  2013-2015             0.0\n",
      "1214     Zimbabwe  2014-2016             0.0\n",
      "1215     Zimbabwe  2015-2017             0.0\n",
      "1216     Zimbabwe  2016-2018             0.0\n",
      "1217     Zimbabwe  2017-2019             0.0\n",
      "\n",
      "[1218 rows x 3 columns]\n"
     ]
    }
   ],
   "source": [
    "#changement du nom de la colonne Valeur par sous_nutrition\n",
    "sousNutrition = sousNutrition.rename(columns={'Valeur': 'sous_nutrition'})\n",
    "print(sousNutrition)"
   ]
  },
  {
   "cell_type": "code",
   "execution_count": 26,
   "id": "002110fa",
   "metadata": {},
   "outputs": [],
   "source": [
    "#Multiplication de la colonne sous_nutrition par 1000000\n",
    "sousNutrition['sous_nutrition'] *= 1000000\n",
    "\n",
    "# Conversion en chiffres entiers\n",
    "sousNutrition['sous_nutrition'] = sousNutrition['sous_nutrition'].astype(int)\n",
    "\n",
    "\n",
    "\n",
    "\n"
   ]
  },
  {
   "cell_type": "code",
   "execution_count": 27,
   "id": "58259b55",
   "metadata": {},
   "outputs": [
    {
     "name": "stdout",
     "output_type": "stream",
     "text": [
      "          Zone      Année  sous_nutrition\n",
      "0  Afghanistan  2012-2014         8600000\n",
      "1  Afghanistan  2013-2015         8800000\n",
      "2  Afghanistan  2014-2016         8900000\n",
      "3  Afghanistan  2015-2017         9700000\n",
      "4  Afghanistan  2016-2018        10500000\n"
     ]
    }
   ],
   "source": [
    "#Afficher les 5 premières lignes de la table\n",
    "print(sousNutrition.head())"
   ]
  },
  {
   "cell_type": "markdown",
   "id": "df6dcabd",
   "metadata": {},
   "source": [
    "<div style=\"border: 1px solid RGB(0,150,250);\" >\n",
    "<h3 style=\"margin: auto; padding: 20px; color: RGB(0,150,250); \">3.1 - Proportion de personnes en sous nutrition</h3>\n",
    "</div>"
   ]
  },
  {
   "cell_type": "code",
   "execution_count": 28,
   "id": "a63e1567",
   "metadata": {},
   "outputs": [],
   "source": [
    "# TRAVAIL SUR LA TABLE SOUS NUTRITION\n",
    "\n",
    "\n",
    "# Déploiement du groupe d'année sur une ligne ['2012-2014'] => ['2012', '2013', '2014']\n",
    "sousNutrition['Année'] = sousNutrition['Année'].str.split('-').apply(lambda x: list(range(int(x[0]), int(x[1])+1)))\n",
    "sousNutrition = sousNutrition.explode('Année')\n",
    "sousNutrition['Année'] = sousNutrition['Année'].astype(int)\n",
    "\n",
    "# Réinitialiser les index /garantit que chaque ligne a un index unique et que les index sont contigus, ce qui facilite l'accès et la manipulation des données.\n",
    "sousNutrition = sousNutrition.reset_index(drop=True)\n",
    "\n",
    "# Convertir la colonne 'Année' en type entier (int)\n",
    "sousNutrition['Année'] = sousNutrition['Année'].astype(int)\n",
    "\n",
    "\n",
    "# ************************************************************\n",
    "\n",
    "\n",
    "# Jointure entre les tables population et sousNutrition sur les colonnes 'Zone' et 'Année'\n",
    "jointure = pd.merge(population, sousNutrition, on=['Zone', 'Année'])\n",
    "\n",
    "# Filtrer les résultats pour ne conserver que les lignes avec l'année 2017\n",
    "resultats_2017 = jointure[jointure['Année'] == 2017]\n",
    "\n",
    "#Regrouper les données en fonction de la colonne Zone \n",
    "#puis retenir la première valeur de la colonne Population et la dernière valeurs de la colonne sous_nutrition\n",
    "# les données de la FAO en sous-nutrition sont déjà une moyenne sur trois ans (vérification sur le site FAOSTAT), donc je récupère la valeur la plus récente\n",
    "# Trouver la valeur de personnes en sous-nutrition pour chaque pays en 2017\n",
    "resultats_2017 = resultats_2017.groupby('Zone').agg({'Population': 'first', 'sous_nutrition': 'last'}).reset_index()\n",
    "\n",
    "# Convertir la colonne 'sous_nutrition' en type entier\n",
    "resultats_2017['sous_nutrition'] = resultats_2017['sous_nutrition'].astype(int)\n",
    "\n",
    "# Calculer la proportion de sous-nutrition\n",
    "resultats_2017['proportion_sous_nutrition'] = resultats_2017['sous_nutrition'] / resultats_2017['Population']*100\n",
    "\n",
    "# Arrondir les valeurs à deux chiffres après la virgule et rajouter le signe % à la fin\n",
    "resultats_2017['proportion_sous_nutrition'] = resultats_2017['proportion_sous_nutrition'].round(2).astype(str) + '%'\n",
    "\n"
   ]
  },
  {
   "cell_type": "code",
   "execution_count": 29,
   "id": "731eea39",
   "metadata": {},
   "outputs": [
    {
     "name": "stdout",
     "output_type": "stream",
     "text": [
      "                      Zone  Population  sous_nutrition  \\\n",
      "0              Afghanistan    36296113        11100000   \n",
      "1           Afrique du Sud    57009756         3300000   \n",
      "2                  Albanie     2884169          100000   \n",
      "3                  Algérie    41389189         1200000   \n",
      "4                Allemagne    82658409               0   \n",
      "..                     ...         ...             ...   \n",
      "198  États-Unis d'Amérique   325084756               0   \n",
      "199               Éthiopie   106399924        21500000   \n",
      "200              Îles Cook       17507               0   \n",
      "201          Îles Marshall       58058               0   \n",
      "202           Îles Salomon      636039               0   \n",
      "\n",
      "    proportion_sous_nutrition  \n",
      "0                      30.58%  \n",
      "1                       5.79%  \n",
      "2                       3.47%  \n",
      "3                        2.9%  \n",
      "4                        0.0%  \n",
      "..                        ...  \n",
      "198                      0.0%  \n",
      "199                    20.21%  \n",
      "200                      0.0%  \n",
      "201                      0.0%  \n",
      "202                      0.0%  \n",
      "\n",
      "[203 rows x 4 columns]\n"
     ]
    }
   ],
   "source": [
    "#Affichage du dataset\n",
    "# Afficher le DataFrame résultant\n",
    "print(resultats_2017)\n"
   ]
  },
  {
   "cell_type": "code",
   "execution_count": 30,
   "id": "28e2741f",
   "metadata": {},
   "outputs": [
    {
     "name": "stdout",
     "output_type": "stream",
     "text": [
      "Le nombre de personnes en état de sous-nutrition en 2017 est de : 544,200,000 personnes\n",
      "Le nombre de personnes dans la population mondiale en 2017 est de : 7,543,798,769 personnes\n",
      "Le pourcentage de personnes en état de sous-nutrition dans le monde en 2017 est de : 7.21%\n"
     ]
    }
   ],
   "source": [
    "\n",
    "# Calcul et affichage du nombre de personnes en état de sous-nutrition en 2017 avec des séparateurs entre les milliers\n",
    "total_sous_nutrition = round(resultats_2017['sous_nutrition'].sum())\n",
    "\n",
    "# Utiliser la méthode format avec le spécificateur de format {:,} pour ajouter des séparateurs entre les milliers\n",
    "formatted_total_sous_nutrition = \"{:,.0f}\".format(total_sous_nutrition)\n",
    "\n",
    "print(\"Le nombre de personnes en état de sous-nutrition en 2017 est de : {} personnes\".format(formatted_total_sous_nutrition))\n",
    "\n",
    "#calcul du nombre de personnes dans la population mondiale en 2017\n",
    "total_population = round(resultats_2017['Population'].sum())\n",
    "formatted_total_population = \"{:,.0f}\".format(total_population)\n",
    "print(\"Le nombre de personnes dans la population mondiale en 2017 est de : {} personnes\".format(formatted_total_population))\n",
    "\n",
    "# Calcul et affichage du pourcentage de personnes en état de sous-nutrition dans le monde en 2017\n",
    "pourcentage_sous_nutrition = total_sous_nutrition / total_population * 100\n",
    "pourcentage_sous_nutrition_arrondi = round(pourcentage_sous_nutrition, 2)\n",
    "print(\"Le pourcentage de personnes en état de sous-nutrition dans le monde en 2017 est de : {}%\".format(pourcentage_sous_nutrition_arrondi))\n"
   ]
  },
  {
   "cell_type": "markdown",
   "id": "b4134a24",
   "metadata": {},
   "source": [
    "<div style=\"border: 1px solid RGB(0,150,250);\" >\n",
    "<h3 style=\"margin: auto; padding: 20px; color: RGB(0,150,250); \">3.2 - Nombre théorique de personne qui pourrait être nourries</h3>\n",
    "</div>"
   ]
  },
  {
   "cell_type": "code",
   "execution_count": 31,
   "id": "2b63df85",
   "metadata": {},
   "outputs": [
    {
     "name": "stdout",
     "output_type": "stream",
     "text": [
      "                        Disponibilité alimentaire en quantité (kg/personne/an)\n",
      "Produit                                                                       \n",
      "Abats Comestible                                                 2.730345     \n",
      "Agrumes, Autres                                                  1.306688     \n",
      "Alcool, non Comestible                                           0.000000     \n",
      "Aliments pour enfants                                            0.380936     \n",
      "Ananas                                                           3.890536     \n",
      "...                                                                   ...     \n",
      "Viande de Suides                                                14.407616     \n",
      "Viande de Volailles                                             20.561322     \n",
      "Viande, Autre                                                    1.800977     \n",
      "Vin                                                              6.161337     \n",
      "Épices, Autres                                                   0.622616     \n",
      "\n",
      "[98 rows x 1 columns]\n"
     ]
    }
   ],
   "source": [
    "#Combien mange en moyenne un être humain ? Source => dispoAlimentaire\n",
    "# Calculer la disponibilité alimentaire moyenne par personne par produit\n",
    "disponibilite_moyenne_par_personne = dispoAlimentaire[['Produit', 'Disponibilité alimentaire en quantité (kg/personne/an)']].groupby('Produit').mean()\n",
    "print(disponibilite_moyenne_par_personne)"
   ]
  },
  {
   "cell_type": "code",
   "execution_count": 32,
   "id": "5e3f262d",
   "metadata": {},
   "outputs": [],
   "source": [
    "#On commence par faire une jointure entre le data frame population et Dispo_alimentaire afin d'ajouter dans ce dernier la population\n",
    "#Faire une jointure entre les tables disponibilité alimentaire et population sur la colonne Zone\n",
    "# la table disponibilité alimentaire ne comporte pas de colonne année, il faut donc faire une moyenne de population par pays\n",
    "# pour pouvoir faire la jointure\n",
    "# Calculer la population moyenne par pays\n",
    "population_moyenne = population.groupby('Zone')['Population'].mean().reset_index()\n",
    "\n",
    "# Renommer la colonne 'Population' en 'Population_moyenne'\n",
    "population_moyenne.rename(columns={'Population': 'Population_moyenne'}, inplace=True)\n",
    "\n",
    "# Faire une jointure entre les tables disponibilité alimentaire et population sur la colonne Zone\n",
    "dispoAlimentaire = pd.merge(dispoAlimentaire, population_moyenne, on='Zone')\n"
   ]
  },
  {
   "cell_type": "code",
   "execution_count": 33,
   "id": "4538126c",
   "metadata": {},
   "outputs": [
    {
     "name": "stdout",
     "output_type": "stream",
     "text": [
      "          Zone                Produit   Origine  Aliments pour animaux  \\\n",
      "0  Afghanistan       Abats Comestible   animale                    0.0   \n",
      "1  Afghanistan        Agrumes, Autres  vegetale                    0.0   \n",
      "2  Afghanistan  Aliments pour enfants  vegetale                    0.0   \n",
      "3  Afghanistan                 Ananas  vegetale                    0.0   \n",
      "4  Afghanistan                Bananes  vegetale                    0.0   \n",
      "\n",
      "   Autres Utilisations  Disponibilité alimentaire (Kcal/personne/jour)  \\\n",
      "0                  0.0                                             5.0   \n",
      "1                  0.0                                             1.0   \n",
      "2                  0.0                                             1.0   \n",
      "3                  0.0                                             0.0   \n",
      "4                  0.0                                             4.0   \n",
      "\n",
      "   Disponibilité alimentaire en quantité (kg/personne/an)  \\\n",
      "0                                               1.72        \n",
      "1                                               1.29        \n",
      "2                                               0.06        \n",
      "3                                               0.00        \n",
      "4                                               2.70        \n",
      "\n",
      "   Disponibilité de matière grasse en quantité (g/personne/jour)  \\\n",
      "0                                               0.20               \n",
      "1                                               0.01               \n",
      "2                                               0.01               \n",
      "3                                               0.00               \n",
      "4                                               0.02               \n",
      "\n",
      "   Disponibilité de protéines en quantité (g/personne/jour)  \\\n",
      "0                                               0.77          \n",
      "1                                               0.02          \n",
      "2                                               0.03          \n",
      "3                                               0.00          \n",
      "4                                               0.05          \n",
      "\n",
      "   Disponibilité intérieure  Exportations - Quantité  Importations - Quantité  \\\n",
      "0                   53000.0                      0.0                      0.0   \n",
      "1                   41000.0                   2000.0                  40000.0   \n",
      "2                    2000.0                      0.0                   2000.0   \n",
      "3                       0.0                      0.0                      0.0   \n",
      "4                   82000.0                      0.0                  82000.0   \n",
      "\n",
      "   Nourriture  Pertes  Production  Semences  Traitement  Variation de stock  \\\n",
      "0     53000.0     0.0     53000.0       0.0         0.0                 0.0   \n",
      "1     39000.0  2000.0      3000.0       0.0         0.0                 0.0   \n",
      "2      2000.0     0.0         0.0       0.0         0.0                 0.0   \n",
      "3         0.0     0.0         0.0       0.0         0.0                 0.0   \n",
      "4     82000.0     0.0         0.0       0.0         0.0                 0.0   \n",
      "\n",
      "  Population_moyenne  \n",
      "0         34 817 509  \n",
      "1         34 817 509  \n",
      "2         34 817 509  \n",
      "3         34 817 509  \n",
      "4         34 817 509  \n"
     ]
    }
   ],
   "source": [
    "#Affichage du nouveau dataframe\n",
    "# Définition de la fonction de formatage\n",
    "def format_population(valeur):\n",
    "    return \"{:,.0f}\".format(valeur).replace(\",\", \" \")\n",
    "\n",
    "# Appliquer la fonction de formatage à la colonne 'Population_moyenne'\n",
    "dispoAlimentaire['Population_moyenne'] = dispoAlimentaire['Population_moyenne'].apply(format_population)\n",
    "\n",
    "# Afficher les premières lignes du DataFrame\n",
    "print(dispoAlimentaire.head())"
   ]
  },
  {
   "cell_type": "code",
   "execution_count": 34,
   "id": "5305ba25",
   "metadata": {},
   "outputs": [
    {
     "name": "stdout",
     "output_type": "stream",
     "text": [
      "          Zone                Produit   Origine  Aliments pour animaux  \\\n",
      "0  Afghanistan       Abats Comestible   animale                    0.0   \n",
      "1  Afghanistan        Agrumes, Autres  vegetale                    0.0   \n",
      "2  Afghanistan  Aliments pour enfants  vegetale                    0.0   \n",
      "3  Afghanistan                 Ananas  vegetale                    0.0   \n",
      "4  Afghanistan                Bananes  vegetale                    0.0   \n",
      "\n",
      "   Autres Utilisations  Disponibilité alimentaire (Kcal/personne/jour)  \\\n",
      "0                  0.0                                             5.0   \n",
      "1                  0.0                                             1.0   \n",
      "2                  0.0                                             1.0   \n",
      "3                  0.0                                             0.0   \n",
      "4                  0.0                                             4.0   \n",
      "\n",
      "   Disponibilité alimentaire en quantité (kg/personne/an)  \\\n",
      "0                                               1.72        \n",
      "1                                               1.29        \n",
      "2                                               0.06        \n",
      "3                                               0.00        \n",
      "4                                               2.70        \n",
      "\n",
      "   Disponibilité de matière grasse en quantité (g/personne/jour)  \\\n",
      "0                                               0.20               \n",
      "1                                               0.01               \n",
      "2                                               0.01               \n",
      "3                                               0.00               \n",
      "4                                               0.02               \n",
      "\n",
      "   Disponibilité de protéines en quantité (g/personne/jour)  \\\n",
      "0                                               0.77          \n",
      "1                                               0.02          \n",
      "2                                               0.03          \n",
      "3                                               0.00          \n",
      "4                                               0.05          \n",
      "\n",
      "   Disponibilité intérieure  Exportations - Quantité  Importations - Quantité  \\\n",
      "0                   53000.0                      0.0                      0.0   \n",
      "1                   41000.0                   2000.0                  40000.0   \n",
      "2                    2000.0                      0.0                   2000.0   \n",
      "3                       0.0                      0.0                      0.0   \n",
      "4                   82000.0                      0.0                  82000.0   \n",
      "\n",
      "   Nourriture  Pertes  Production  Semences  Traitement  Variation de stock  \\\n",
      "0     53000.0     0.0     53000.0       0.0         0.0                 0.0   \n",
      "1     39000.0  2000.0      3000.0       0.0         0.0                 0.0   \n",
      "2      2000.0     0.0         0.0       0.0         0.0                 0.0   \n",
      "3         0.0     0.0         0.0       0.0         0.0                 0.0   \n",
      "4     82000.0     0.0         0.0       0.0         0.0                 0.0   \n",
      "\n",
      "   Population_moyenne      dispo_kcal  \n",
      "0          34817509.0  63 541 953 925  \n",
      "1          34817509.0  12 708 390 785  \n",
      "2          34817509.0  12 708 390 785  \n",
      "3          34817509.0               0  \n",
      "4          34817509.0  50 833 563 140  \n"
     ]
    }
   ],
   "source": [
    "#Création de la colonne dispo_kcal avec calcul des kcal disponibles mondialement\n",
    "#Convertir le type de la colonne 'Population_moyenne' en entier float64\n",
    "\n",
    "dispoAlimentaire['Population_moyenne'] = dispoAlimentaire['Population_moyenne'].str.replace(' ', '').astype('float64')\n",
    "\n",
    "\n",
    "# Création de la colonne dispo_kcal à partir de la colonne Disponibilité alimentaire (Kcal/personne/jour) de la table dispoAlimentaire\n",
    "# puis calcul des kcal disponibles mondialement\n",
    "dispoAlimentaire['dispo_kcal'] = dispoAlimentaire['Disponibilité alimentaire (Kcal/personne/jour)'] * dispoAlimentaire['Population_moyenne'] * 365\n",
    "\n",
    "# Définition de la fonction de formatage pour dispo_kcal\n",
    "def format_dispo_kcal(valeur):\n",
    "    return \"{:,.0f}\".format(valeur).replace(\",\", \" \")\n",
    "\n",
    "# Appliquer la fonction de formatage à la colonne 'dispo_kcal'\n",
    "dispoAlimentaire['dispo_kcal'] = dispoAlimentaire['dispo_kcal'].apply(format_dispo_kcal)\n",
    "\n",
    "# Afficher les premières lignes du DataFrame\n",
    "print(dispoAlimentaire.head())\n"
   ]
  },
  {
   "cell_type": "code",
   "execution_count": 35,
   "id": "a6d4af90",
   "metadata": {},
   "outputs": [
    {
     "name": "stdout",
     "output_type": "stream",
     "text": [
      "Le nombre d'humains pouvant être nourris avec les kcal disponibles dans le monde est de : 8,236,607,151 personnes\n"
     ]
    }
   ],
   "source": [
    "#Calcul du nombre d'humains pouvant être nourris\n",
    "#convertir le type de la colonne 'dispo_kcal' en entier float64\n",
    "dispoAlimentaire['dispo_kcal'] = dispoAlimentaire['dispo_kcal'].str.replace(' ', '').astype('float64')\n",
    "\n",
    "# Calculer le nombre d'humains pouvant être nourris avec les kcal disponibles dans le monde\n",
    "kcal_disponibles = dispoAlimentaire['dispo_kcal'].sum()\n",
    "nb_humains_nourris = kcal_disponibles / 2500 / 365\n",
    "\n",
    "# Afficher le nombre d'humains pouvant être nourris\n",
    "print(\"Le nombre d'humains pouvant être nourris avec les kcal disponibles dans le monde est de : {:,.0f} personnes\".format(nb_humains_nourris))\n"
   ]
  },
  {
   "cell_type": "markdown",
   "id": "e97c8886",
   "metadata": {},
   "source": [
    "<div style=\"border: 1px solid RGB(0,150,250);\" >\n",
    "<h3 style=\"margin: auto; padding: 20px; color: RGB(0,150,250); \">3.3 - Nombre théorique de personne qui pourrait être nourrie avec les produits végétaux</h3>\n",
    "</div>"
   ]
  },
  {
   "cell_type": "code",
   "execution_count": 36,
   "id": "c2e3c87c",
   "metadata": {},
   "outputs": [
    {
     "name": "stdout",
     "output_type": "stream",
     "text": [
      "          Zone                Produit   Origine  Aliments pour animaux  \\\n",
      "1  Afghanistan        Agrumes, Autres  vegetale                    0.0   \n",
      "2  Afghanistan  Aliments pour enfants  vegetale                    0.0   \n",
      "3  Afghanistan                 Ananas  vegetale                    0.0   \n",
      "4  Afghanistan                Bananes  vegetale                    0.0   \n",
      "6  Afghanistan                  Bière  vegetale                    0.0   \n",
      "\n",
      "   Autres Utilisations  Disponibilité alimentaire (Kcal/personne/jour)  \\\n",
      "1                  0.0                                             1.0   \n",
      "2                  0.0                                             1.0   \n",
      "3                  0.0                                             0.0   \n",
      "4                  0.0                                             4.0   \n",
      "6                  0.0                                             0.0   \n",
      "\n",
      "   Disponibilité alimentaire en quantité (kg/personne/an)  \\\n",
      "1                                               1.29        \n",
      "2                                               0.06        \n",
      "3                                               0.00        \n",
      "4                                               2.70        \n",
      "6                                               0.09        \n",
      "\n",
      "   Disponibilité de matière grasse en quantité (g/personne/jour)  \\\n",
      "1                                               0.01               \n",
      "2                                               0.01               \n",
      "3                                               0.00               \n",
      "4                                               0.02               \n",
      "6                                               0.00               \n",
      "\n",
      "   Disponibilité de protéines en quantité (g/personne/jour)  \\\n",
      "1                                               0.02          \n",
      "2                                               0.03          \n",
      "3                                               0.00          \n",
      "4                                               0.05          \n",
      "6                                               0.00          \n",
      "\n",
      "   Disponibilité intérieure  Exportations - Quantité  Importations - Quantité  \\\n",
      "1                   41000.0                   2000.0                  40000.0   \n",
      "2                    2000.0                      0.0                   2000.0   \n",
      "3                       0.0                      0.0                      0.0   \n",
      "4                   82000.0                      0.0                  82000.0   \n",
      "6                    3000.0                      0.0                   3000.0   \n",
      "\n",
      "   Nourriture  Pertes  Production  Semences  Traitement  Variation de stock  \\\n",
      "1     39000.0  2000.0      3000.0       0.0         0.0                 0.0   \n",
      "2      2000.0     0.0         0.0       0.0         0.0                 0.0   \n",
      "3         0.0     0.0         0.0       0.0         0.0                 0.0   \n",
      "4     82000.0     0.0         0.0       0.0         0.0                 0.0   \n",
      "6      3000.0     0.0         0.0       0.0         0.0                 0.0   \n",
      "\n",
      "   Population_moyenne    dispo_kcal  \n",
      "1          34817509.0  1.270839e+10  \n",
      "2          34817509.0  1.270839e+10  \n",
      "3          34817509.0  0.000000e+00  \n",
      "4          34817509.0  5.083356e+10  \n",
      "6          34817509.0  0.000000e+00  \n"
     ]
    }
   ],
   "source": [
    "#Transfert des données avec les végétaux dans un nouveau dataframe\n",
    "dispoAlimentaire_vegetaux = dispoAlimentaire[dispoAlimentaire['Origine'] == 'vegetale']\n",
    "print(dispoAlimentaire_vegetaux.head())"
   ]
  },
  {
   "cell_type": "code",
   "execution_count": 37,
   "id": "534f3ad7",
   "metadata": {},
   "outputs": [
    {
     "name": "stdout",
     "output_type": "stream",
     "text": [
      "Le nombre total de calories disponibles dans l'alimentation végétale est de : 6,197,100,980,039,760 kcal\n"
     ]
    }
   ],
   "source": [
    "#Calcul du nombre de kcal disponible pour les végétaux\n",
    "kcal_disponibles_vegetaux = dispoAlimentaire_vegetaux['dispo_kcal'].sum()\n",
    "print(\"Le nombre total de calories disponibles dans l'alimentation végétale est de : {:,.0f} kcal\".format(kcal_disponibles_vegetaux))\n",
    "\n"
   ]
  },
  {
   "cell_type": "code",
   "execution_count": 38,
   "id": "8c82da41",
   "metadata": {},
   "outputs": [
    {
     "name": "stdout",
     "output_type": "stream",
     "text": [
      "Le nombre d'humains pouvant être nourris avec les végétaux disponibles dans le monde est de : 6,791,343,540 personnes\n"
     ]
    }
   ],
   "source": [
    "#Calcul du nombre d'humains pouvant être nourris avec les végétaux\n",
    "nb_humains_nourris_vegetaux = kcal_disponibles_vegetaux / 2500 / 365\n",
    "print(\"Le nombre d'humains pouvant être nourris avec les végétaux disponibles dans le monde est de : {:,.0f} personnes\".format(nb_humains_nourris_vegetaux))"
   ]
  },
  {
   "cell_type": "markdown",
   "id": "cd07afb1",
   "metadata": {},
   "source": [
    "<div style=\"border: 1px solid RGB(0,150,250);\" >\n",
    "<h3 style=\"margin: auto; padding: 20px; color: RGB(0,150,250); \">3.4 - Utilisation de la disponibilité intérieure</h3>\n",
    "</div>"
   ]
  },
  {
   "cell_type": "code",
   "execution_count": 39,
   "id": "71328746",
   "metadata": {},
   "outputs": [
    {
     "name": "stdout",
     "output_type": "stream",
     "text": [
      "La disponibilité intérieure mondiale pour toutes les origines est de : 9,733,927,000 kg\n"
     ]
    }
   ],
   "source": [
    "#Calcul de la disponibilité totale\n",
    "dispo_int = dispoAlimentaire['Disponibilité intérieure'].sum()\n",
    "print(\"La disponibilité intérieure mondiale pour toutes les origines est de : {:,.0f} kg\".format(dispo_int))\n"
   ]
  },
  {
   "cell_type": "code",
   "execution_count": 40,
   "id": "03248095",
   "metadata": {},
   "outputs": [
    {
     "name": "stdout",
     "output_type": "stream",
     "text": [
      "La disponibilité intérieure mondiale pour la colonne Aliments pour animaux est de : 1,288,002 kg\n",
      "La disponibilité intérieure mondiale pour la colonne Pertes est de : 452,283,000 kg\n",
      "La disponibilité intérieure mondiale pour la colonne Nourriture est de : 4,805,525,000 kg\n"
     ]
    }
   ],
   "source": [
    "#création d'une boucle for pour afficher les différentes valeurs en fonction des colonnes aliments pour animaux, pertes, nourritures, \n",
    "# Création d'une liste des colonnes à traiter\n",
    "colonnes = ['Aliments pour animaux', 'Pertes', 'Nourriture']\n",
    "\n",
    "# Boucle for pour afficher les différentes valeurs en fonction des colonnes aliments pour animaux, pertes, nourritures\n",
    "for colonne in colonnes:\n",
    "    dispo_int_colonne = dispoAlimentaire[colonne].sum()\n",
    "    print(\"La disponibilité intérieure mondiale pour la colonne {} est de : {:,.0f} kg\".format(colonne, dispo_int_colonne))\n"
   ]
  },
  {
   "cell_type": "markdown",
   "id": "141d05df",
   "metadata": {},
   "source": [
    "<div style=\"border: 1px solid RGB(0,150,250);\" >\n",
    "<h3 style=\"margin: auto; padding: 20px; color: RGB(0,150,250); \">3.5 - Utilisation des céréales</h3>\n",
    "</div>"
   ]
  },
  {
   "cell_type": "code",
   "execution_count": 41,
   "id": "c27448ff",
   "metadata": {},
   "outputs": [],
   "source": [
    "#Création d'une liste avec toutes les variables\n",
    "variables = [\n",
    "    'Zone',\n",
    "    'Produit',\n",
    "    'Origine',\n",
    "    'Aliments pour animaux',\n",
    "    'Autres Utilisations',\n",
    "    'Disponibilité alimentaire (Kcal/personne/jour)',\n",
    "    'Disponibilité alimentaire en quantité (kg/personne/an)',\n",
    "    'Disponibilité de matière grasse en quantité (g/personne/jour)',\n",
    "    'Disponibilité de protéines en quantité (g/personne/jour)',\n",
    "    'Disponibilité intérieure',\n",
    "    'Exportations - Quantité',\n",
    "    'Importations - Quantité',\n",
    "    'Nourriture',\n",
    "    'Pertes',\n",
    "    'Production',\n",
    "    'Semences',\n",
    "    'Traitement',\n",
    "    'Variation de stock']\n"
   ]
  },
  {
   "cell_type": "code",
   "execution_count": 42,
   "id": "5dc5586d",
   "metadata": {},
   "outputs": [
    {
     "name": "stdout",
     "output_type": "stream",
     "text": [
      "           Zone           Produit   Origine  Aliments pour animaux  \\\n",
      "7   Afghanistan               Blé  vegetale                    0.0   \n",
      "32  Afghanistan              Maïs  vegetale                  200.0   \n",
      "34  Afghanistan            Millet  vegetale                    0.0   \n",
      "40  Afghanistan              Orge  vegetale                  360.0   \n",
      "47  Afghanistan  Riz (Eq Blanchi)  vegetale                    0.0   \n",
      "\n",
      "    Autres Utilisations  Disponibilité alimentaire (Kcal/personne/jour)  \\\n",
      "7                   0.0                                          1369.0   \n",
      "32                  0.0                                            21.0   \n",
      "34                  0.0                                             3.0   \n",
      "40                  0.0                                            26.0   \n",
      "47                  0.0                                           141.0   \n",
      "\n",
      "    Disponibilité alimentaire en quantité (kg/personne/an)  \\\n",
      "7                                              160.23        \n",
      "32                                               2.50        \n",
      "34                                               0.40        \n",
      "40                                               2.92        \n",
      "47                                              13.82        \n",
      "\n",
      "    Disponibilité de matière grasse en quantité (g/personne/jour)  \\\n",
      "7                                                4.69               \n",
      "32                                               0.30               \n",
      "34                                               0.02               \n",
      "40                                               0.24               \n",
      "47                                               0.27               \n",
      "\n",
      "    Disponibilité de protéines en quantité (g/personne/jour)  \\\n",
      "7                                               36.91          \n",
      "32                                               0.56          \n",
      "34                                               0.08          \n",
      "40                                               0.79          \n",
      "47                                               2.70          \n",
      "\n",
      "    Disponibilité intérieure  Exportations - Quantité  \\\n",
      "7                  5992000.0                      0.0   \n",
      "32                  313000.0                      0.0   \n",
      "34                   13000.0                      0.0   \n",
      "40                  524000.0                      0.0   \n",
      "47                  461000.0                      0.0   \n",
      "\n",
      "    Importations - Quantité  Nourriture    Pertes  Production  Semences  \\\n",
      "7                 1173000.0   4895000.0  775000.0   5169000.0  322000.0   \n",
      "32                   1000.0     76000.0   31000.0    312000.0    5000.0   \n",
      "34                      0.0     12000.0    1000.0     13000.0       0.0   \n",
      "40                  10000.0     89000.0   52000.0    514000.0   22000.0   \n",
      "47                 119000.0    422000.0   24000.0    342000.0   14000.0   \n",
      "\n",
      "    Traitement  Variation de stock  Population_moyenne    dispo_kcal  \n",
      "7          0.0           -350000.0          34817509.0  1.739779e+13  \n",
      "32         0.0                 0.0          34817509.0  2.668762e+11  \n",
      "34         0.0                 0.0          34817509.0  3.812517e+10  \n",
      "40         0.0                 0.0          34817509.0  3.304182e+11  \n",
      "47         0.0                 0.0          34817509.0  1.791883e+12  \n"
     ]
    }
   ],
   "source": [
    "#Création d'un dataframe avec les informations uniquement pour ces céréales\n",
    "cereales = dispoAlimentaire[dispoAlimentaire['Produit'].isin(['Blé', 'Riz (Eq Blanchi)', 'Orge', 'Maïs', 'Millet', 'Seigle', 'Avoine', 'Sorgho'])]\n",
    "print(cereales.head())"
   ]
  },
  {
   "cell_type": "code",
   "execution_count": 43,
   "id": "8365de95",
   "metadata": {},
   "outputs": [
    {
     "name": "stdout",
     "output_type": "stream",
     "text": [
      "La proportion d'aliments destinés aux animaux dans la disponibilité intérieure mondiale de produits végétaux est de : 0.03%\n"
     ]
    }
   ],
   "source": [
    "#Affichage de la proportion d'alimentation animale\n",
    "proportion_animale = dispoAlimentaire['Aliments pour animaux'].sum() / dispoAlimentaire['Nourriture'].sum() * 100\n",
    "print(\"La proportion d'aliments destinés aux animaux dans la disponibilité intérieure mondiale de produits végétaux est de : {:.2f}%\".format(proportion_animale))"
   ]
  },
  {
   "cell_type": "code",
   "execution_count": 44,
   "id": "6f5e93c7",
   "metadata": {},
   "outputs": [
    {
     "name": "stdout",
     "output_type": "stream",
     "text": [
      "La proportion d'aliments destinés aux animaux dans la disponibilité intérieure mondiale de ces céréales est de : 0.08%\n"
     ]
    }
   ],
   "source": [
    "#Affichage de la proportion d'alimentation animale\n",
    "proportion_animale_cereales = cereales['Aliments pour animaux'].sum() / cereales['Nourriture'].sum() * 100\n",
    "print(\"La proportion d'aliments destinés aux animaux dans la disponibilité intérieure mondiale de ces céréales est de : {:.2f}%\".format(proportion_animale_cereales))\n",
    "\n"
   ]
  },
  {
   "cell_type": "markdown",
   "id": "a603be79",
   "metadata": {},
   "source": [
    "<div style=\"border: 1px solid RGB(0,150,250);\" >\n",
    "<h3 style=\"margin: auto; padding: 20px; color: RGB(0,150,250); \">3.6 - Pays avec la proportion de personnes sous-alimentée la plus forte en 2017</h3>\n",
    "</div>"
   ]
  },
  {
   "cell_type": "code",
   "execution_count": 45,
   "id": "1884c270",
   "metadata": {},
   "outputs": [
    {
     "name": "stdout",
     "output_type": "stream",
     "text": [
      "             Zone  Population  sous_nutrition  proportion_sous_nutrition\n",
      "0     Afghanistan    36296113        11100000                  30.581787\n",
      "1  Afrique du Sud    57009756         3300000                   5.788483\n",
      "2         Albanie     2884169          100000                   3.467203\n",
      "3         Algérie    41389189         1200000                   2.899308\n",
      "4       Allemagne    82658409               0                   0.000000\n"
     ]
    }
   ],
   "source": [
    "#Création de la colonne proportion par pays\n",
    "\n",
    "resultats_2017['proportion_sous_nutrition'] = (resultats_2017['sous_nutrition'] / resultats_2017['Population']) * 100\n",
    "print(resultats_2017.head())"
   ]
  },
  {
   "cell_type": "code",
   "execution_count": 46,
   "id": "25a185b6",
   "metadata": {},
   "outputs": [
    {
     "name": "stdout",
     "output_type": "stream",
     "text": [
      "                                           Zone  Population  sous_nutrition  \\\n",
      "72                                        Haïti    10982366         5400000   \n",
      "151  République populaire démocratique de Corée    25429825        12200000   \n",
      "99                                   Madagascar    25570512        11000000   \n",
      "174                                       Tchad    15016753         6100000   \n",
      "95                                      Libéria     4702226         1800000   \n",
      "143                                      Rwanda    11980961         4400000   \n",
      "112                                  Mozambique    28649018         9600000   \n",
      "91                                      Lesotho     2091534          700000   \n",
      "177                                 Timor-Leste     1243258          400000   \n",
      "189      Venezuela (République bolivarienne du)    29402484         9100000   \n",
      "\n",
      "     proportion_sous_nutrition  \n",
      "72                   49.169733  \n",
      "151                  47.975163  \n",
      "99                   43.018302  \n",
      "174                  40.621298  \n",
      "95                   38.279742  \n",
      "143                  36.724934  \n",
      "112                  33.509002  \n",
      "91                   33.468258  \n",
      "177                  32.173531  \n",
      "189                  30.949766  \n"
     ]
    }
   ],
   "source": [
    "#affichage après trie des 10 pires pays\n",
    "pays_max_sous_nutrition = resultats_2017.nlargest(10, 'proportion_sous_nutrition')\n",
    "print(pays_max_sous_nutrition)\n"
   ]
  },
  {
   "cell_type": "markdown",
   "id": "4f610008",
   "metadata": {},
   "source": [
    "<div style=\"border: 1px solid RGB(0,150,250);\" >\n",
    "<h3 style=\"margin: auto; padding: 20px; color: RGB(0,150,250); \">3.7 - Pays qui ont le plus bénéficié d'aide alimentaire depuis 2013</h3>\n",
    "</div>"
   ]
  },
  {
   "cell_type": "code",
   "execution_count": 47,
   "id": "ff1b24a3",
   "metadata": {},
   "outputs": [
    {
     "name": "stdout",
     "output_type": "stream",
     "text": [
      "Les années disponibles dans la table Aide Alimentaires sont : [2013 2014 2015 2016]\n",
      "Le total des aides alimentaires par pays depuis 2013 est :\n",
      "             Zone  Année                   Produit    Valeur  \\\n",
      "0     Afghanistan   2013       Autres non-céréales    682000   \n",
      "1     Afghanistan   2014       Autres non-céréales    335000   \n",
      "2     Afghanistan   2013              Blé et Farin  39224000   \n",
      "3     Afghanistan   2014              Blé et Farin  15160000   \n",
      "4     Afghanistan   2013                  Céréales  40504000   \n",
      "...           ...    ...                       ...       ...   \n",
      "1470     Zimbabwe   2015  Mélanges et préparations     96000   \n",
      "1471     Zimbabwe   2013              Non-céréales   5022000   \n",
      "1472     Zimbabwe   2014              Non-céréales   2310000   \n",
      "1473     Zimbabwe   2015              Non-céréales    306000   \n",
      "1474     Zimbabwe   2013                Riz, total     64000   \n",
      "\n",
      "      Total_aide_alimentaire  \n",
      "0                  185452000  \n",
      "1                  185452000  \n",
      "2                  185452000  \n",
      "3                  185452000  \n",
      "4                  185452000  \n",
      "...                      ...  \n",
      "1470                62570000  \n",
      "1471                62570000  \n",
      "1472                62570000  \n",
      "1473                62570000  \n",
      "1474                62570000  \n",
      "\n",
      "[1475 rows x 5 columns]\n"
     ]
    }
   ],
   "source": [
    "#calcul du total de l'aide alimentaire par pays\n",
    "# Afficher les années disponibles dans la table aideAlimentaire\n",
    "print(\"Les années disponibles dans la table Aide Alimentaires sont :\", aideAlimentaire['Année'].unique())\n",
    "\n",
    "#calcul du total de l'aide alimentaire par pays\n",
    "aideAlimentaire['Total_aide_alimentaire'] = aideAlimentaire.groupby('Zone')['Valeur'].transform('sum')\n",
    "print(\"Le total des aides alimentaires par pays depuis 2013 est :\\n{}\".format(aideAlimentaire))\n",
    "\n"
   ]
  },
  {
   "cell_type": "code",
   "execution_count": 48,
   "id": "ee1ac6fb",
   "metadata": {},
   "outputs": [
    {
     "name": "stdout",
     "output_type": "stream",
     "text": [
      "                           Zone  Année              Produit     Valeur  \\\n",
      "1002  République arabe syrienne   2013  Autres non-céréales     559000   \n",
      "1003  République arabe syrienne   2014  Autres non-céréales      30000   \n",
      "1004  République arabe syrienne   2015  Autres non-céréales    3196000   \n",
      "1005  République arabe syrienne   2013         Blé et Farin  122708000   \n",
      "1006  République arabe syrienne   2014         Blé et Farin  103823000   \n",
      "1007  République arabe syrienne   2015         Blé et Farin   68726000   \n",
      "1008  République arabe syrienne   2016         Blé et Farin   11428000   \n",
      "1009  République arabe syrienne   2013         BulgurFarEnt   12033000   \n",
      "1010  République arabe syrienne   2014         BulgurFarEnt   47816000   \n",
      "1011  République arabe syrienne   2015         BulgurFarEnt   24673000   \n",
      "\n",
      "      Total_aide_alimentaire  \n",
      "1002              1858943000  \n",
      "1003              1858943000  \n",
      "1004              1858943000  \n",
      "1005              1858943000  \n",
      "1006              1858943000  \n",
      "1007              1858943000  \n",
      "1008              1858943000  \n",
      "1009              1858943000  \n",
      "1010              1858943000  \n",
      "1011              1858943000  \n"
     ]
    }
   ],
   "source": [
    "#affichage après tri des 10 pays qui ont bénéficié le plus de l'aide alimentaire\n",
    "pays_max_aide_alimentaire = aideAlimentaire.nlargest(10, 'Total_aide_alimentaire')\n",
    "print(pays_max_aide_alimentaire)"
   ]
  },
  {
   "cell_type": "markdown",
   "id": "a361ce61",
   "metadata": {},
   "source": [
    "<div style=\"border: 1px solid RGB(0,150,250);\" >\n",
    "<h3 style=\"margin: auto; padding: 20px; color: RGB(0,150,250); \">3.8 - Evolution des 5 pays qui ont le plus bénéficiés de l'aide alimentaire entre 2013 et 2016</h3>\n",
    "</div>"
   ]
  },
  {
   "cell_type": "code",
   "execution_count": 49,
   "id": "09d55114",
   "metadata": {},
   "outputs": [
    {
     "name": "stdout",
     "output_type": "stream",
     "text": [
      "Aide alimentaire groupée par pays et année :  \n",
      "             Zone  Année     Valeur\n",
      "0    Afghanistan   2013  128238000\n",
      "1    Afghanistan   2014   57214000\n",
      "2        Algérie   2013   35234000\n",
      "3        Algérie   2014   18980000\n",
      "4        Algérie   2015   17424000\n",
      "..           ...    ...        ...\n",
      "223       Égypte   2013    1122000\n",
      "224     Équateur   2013    1362000\n",
      "225     Éthiopie   2013  591404000\n",
      "226     Éthiopie   2014  586624000\n",
      "227     Éthiopie   2015  203266000\n",
      "\n",
      "[228 rows x 3 columns]\n"
     ]
    }
   ],
   "source": [
    "#Création d'un dataframe avec la zone, l'année et l'aide alimentaire puis groupby sur zone et année \n",
    "# Filtrer les données pour les années 2013 à 2016\n",
    "aideAlimentaire_2013_2016 = aideAlimentaire[(aideAlimentaire['Année'] >= 2013) & (aideAlimentaire['Année'] <= 2016)]\n",
    "\n",
    "# Grouper par pays et année, puis calculer le total de l'aide alimentaire\n",
    "aideAlimentaire_grouped = aideAlimentaire_2013_2016.groupby(['Zone', 'Année'])['Valeur'].sum().reset_index()\n",
    "print('Aide alimentaire groupée par pays et année : ','\\n', aideAlimentaire_grouped)\n"
   ]
  },
  {
   "cell_type": "code",
   "execution_count": 50,
   "id": "6bd577b0",
   "metadata": {},
   "outputs": [
    {
     "name": "stdout",
     "output_type": "stream",
     "text": [
      "                         Zone  Année     Valeur\n",
      "0                    Éthiopie   2013  591404000\n",
      "1   République arabe syrienne   2013  563566000\n",
      "2                      Soudan   2013  330230000\n",
      "3                       Yémen   2013  264764000\n",
      "4                       Kenya   2013  220966000\n",
      "5   République arabe syrienne   2014  651870000\n",
      "6                    Éthiopie   2014  586624000\n",
      "7               Soudan du Sud   2014  450610000\n",
      "8                      Soudan   2014  321904000\n",
      "9                       Kenya   2014  217418000\n",
      "10  République arabe syrienne   2015  524949000\n",
      "11                      Yémen   2015  372306000\n",
      "12                   Éthiopie   2015  203266000\n",
      "13                      Kenya   2015  114452000\n",
      "14                      Tchad   2015   73678000\n",
      "15                      Yémen   2016  465574000\n",
      "16  République arabe syrienne   2016  118558000\n",
      "17                      Niger   2016   92742000\n",
      "18                      Haïti   2016   12462000\n",
      "19                    Algérie   2016    9476000\n"
     ]
    }
   ],
   "source": [
    "#Création d'une liste contenant les 5 pays qui ont le plus bénéficiées de l'aide alimentaire\n",
    "top_5_pays_par_annee = aideAlimentaire_grouped.groupby('Année').apply(lambda x: x.nlargest(5, 'Valeur')).reset_index(drop=True)\n",
    "print(top_5_pays_par_annee)"
   ]
  },
  {
   "cell_type": "code",
   "execution_count": 51,
   "id": "41612dbd",
   "metadata": {},
   "outputs": [
    {
     "name": "stdout",
     "output_type": "stream",
     "text": [
      "                          Zone  Année     Valeur\n",
      "157  République arabe syrienne   2013  563566000\n",
      "158  République arabe syrienne   2014  651870000\n",
      "159  République arabe syrienne   2015  524949000\n",
      "160  République arabe syrienne   2016  118558000\n",
      "189                     Soudan   2013  330230000\n",
      "190                     Soudan   2014  321904000\n",
      "191                     Soudan   2015   17650000\n",
      "192              Soudan du Sud   2013  196330000\n",
      "193              Soudan du Sud   2014  450610000\n",
      "194              Soudan du Sud   2015   48308000\n",
      "214                      Yémen   2013  264764000\n",
      "215                      Yémen   2014  103840000\n",
      "216                      Yémen   2015  372306000\n",
      "217                      Yémen   2016  465574000\n",
      "225                   Éthiopie   2013  591404000\n",
      "226                   Éthiopie   2014  586624000\n",
      "227                   Éthiopie   2015  203266000\n"
     ]
    }
   ],
   "source": [
    "#On filtre sur le dataframe avec notre liste\n",
    "# Tri des pays par le total de l'aide alimentaire reçue sur la période 2013-2016\n",
    "top_pays_aide_alimentaire = aideAlimentaire_grouped.groupby('Zone')['Valeur'].sum().nlargest(5).index\n",
    "\n",
    "# Filtrer les données pour inclure uniquement les 5 pays sélectionnés\n",
    "top_pays_aide_alimentaire_data = aideAlimentaire_grouped[aideAlimentaire_grouped['Zone'].isin(top_pays_aide_alimentaire)]\n",
    "\n",
    "# Affichage des données\n",
    "print(top_pays_aide_alimentaire_data)\n",
    "\n"
   ]
  },
  {
   "cell_type": "code",
   "execution_count": 52,
   "id": "5680e72d",
   "metadata": {},
   "outputs": [
    {
     "name": "stdout",
     "output_type": "stream",
     "text": [
      "            Zone  Année     Valeur\n",
      "0    Afghanistan   2013  128238000\n",
      "1    Afghanistan   2014   57214000\n",
      "2        Algérie   2013   35234000\n",
      "3        Algérie   2014   18980000\n",
      "4        Algérie   2015   17424000\n",
      "..           ...    ...        ...\n",
      "223       Égypte   2013    1122000\n",
      "224     Équateur   2013    1362000\n",
      "225     Éthiopie   2013  591404000\n",
      "226     Éthiopie   2014  586624000\n",
      "227     Éthiopie   2015  203266000\n",
      "\n",
      "[228 rows x 3 columns]\n"
     ]
    }
   ],
   "source": [
    "# Affichage des pays avec l'aide alimentaire par année\n",
    "# Grouper par année et pays, puis calculer la somme de l'aide alimentaire pour chaque année\n",
    "aide_alimentaire_par_annee = aideAlimentaire.groupby(['Zone', 'Année'])['Valeur'].sum().reset_index()\n",
    "\n",
    "# Afficher les données\n",
    "print(aide_alimentaire_par_annee)\n",
    "\n"
   ]
  },
  {
   "cell_type": "markdown",
   "id": "bd392dac",
   "metadata": {},
   "source": [
    "<div style=\"border: 1px solid RGB(0,150,250);\" >\n",
    "<h3 style=\"margin: auto; padding: 20px; color: RGB(0,150,250); \">3.9 - Pays avec le moins de disponibilité par habitant</h3>\n",
    "</div>"
   ]
  },
  {
   "cell_type": "code",
   "execution_count": 53,
   "id": "fb3a378b",
   "metadata": {},
   "outputs": [
    {
     "name": "stdout",
     "output_type": "stream",
     "text": [
      "Disponibilité alimentaire en kcal par habitant pour chaque produit :  \n",
      "                Zone                Produit  \\\n",
      "0       Afghanistan       Abats Comestible   \n",
      "1       Afghanistan        Agrumes, Autres   \n",
      "2       Afghanistan  Aliments pour enfants   \n",
      "3       Afghanistan                 Ananas   \n",
      "4       Afghanistan                Bananes   \n",
      "...             ...                    ...   \n",
      "15411  Îles Salomon       Viande de Suides   \n",
      "15412  Îles Salomon    Viande de Volailles   \n",
      "15413  Îles Salomon          Viande, Autre   \n",
      "15414  Îles Salomon                    Vin   \n",
      "15415  Îles Salomon         Épices, Autres   \n",
      "\n",
      "       Disponibilité alimentaire (Kcal/personne/jour)  \n",
      "0                                                 5.0  \n",
      "1                                                 1.0  \n",
      "2                                                 1.0  \n",
      "3                                                 0.0  \n",
      "4                                                 4.0  \n",
      "...                                               ...  \n",
      "15411                                            45.0  \n",
      "15412                                            11.0  \n",
      "15413                                             0.0  \n",
      "15414                                             0.0  \n",
      "15415                                             4.0  \n",
      "\n",
      "[15416 rows x 3 columns]\n"
     ]
    }
   ],
   "source": [
    "#Calcul de la disponibilité en kcal par personne par jour par pays\n",
    "# Calculer la disponibilité alimentaire en kcal par habitant pour chaque produit\n",
    "dispo_alim_kcal_par_habitant = dispoAlimentaire.groupby(['Zone', 'Produit'])['Disponibilité alimentaire (Kcal/personne/jour)'].sum().reset_index()\n",
    "print('Disponibilité alimentaire en kcal par habitant pour chaque produit : ','\\n', dispo_alim_kcal_par_habitant)\n"
   ]
  },
  {
   "cell_type": "code",
   "execution_count": 54,
   "id": "70c0f689",
   "metadata": {},
   "outputs": [
    {
     "name": "stdout",
     "output_type": "stream",
     "text": [
      "Les 10 pays avec la disponibilité alimentaire la plus faible par habitant :  \n",
      " Zone\n",
      "République centrafricaine                     1879.0\n",
      "Zambie                                        1924.0\n",
      "Madagascar                                    2056.0\n",
      "Afghanistan                                   2087.0\n",
      "Haïti                                         2089.0\n",
      "République populaire démocratique de Corée    2093.0\n",
      "Tchad                                         2109.0\n",
      "Zimbabwe                                      2113.0\n",
      "Ouganda                                       2126.0\n",
      "Timor-Leste                                   2129.0\n",
      "Name: Disponibilité alimentaire (Kcal/personne/jour), dtype: float64\n"
     ]
    }
   ],
   "source": [
    "#Affichage des 10 pays qui ont le moins de dispo alimentaire par personne \n",
    "pays_min_dispo_alim = dispo_alim_kcal_par_habitant.groupby('Zone')['Disponibilité alimentaire (Kcal/personne/jour)'].sum().nsmallest(10)\n",
    "print('Les 10 pays avec la disponibilité alimentaire la plus faible par habitant : ','\\n', pays_min_dispo_alim)\n"
   ]
  },
  {
   "cell_type": "markdown",
   "id": "2553ed12",
   "metadata": {},
   "source": [
    "<div style=\"border: 1px solid RGB(0,150,250);\" >\n",
    "<h3 style=\"margin: auto; padding: 20px; color: RGB(0,150,250); \">3.10 - Pays avec le plus de disponibilité par habitant</h3>\n",
    "</div>"
   ]
  },
  {
   "cell_type": "code",
   "execution_count": 55,
   "id": "63e835c6",
   "metadata": {},
   "outputs": [
    {
     "name": "stdout",
     "output_type": "stream",
     "text": [
      "Les 10 pays avec la disponibilité alimentaire la plus élevée par habitant :  \n",
      " Zone\n",
      "Autriche                 3770.0\n",
      "Belgique                 3737.0\n",
      "Turquie                  3708.0\n",
      "États-Unis d'Amérique    3682.0\n",
      "Israël                   3610.0\n",
      "Irlande                  3602.0\n",
      "Italie                   3578.0\n",
      "Luxembourg               3540.0\n",
      "Égypte                   3518.0\n",
      "Allemagne                3503.0\n",
      "Name: Disponibilité alimentaire (Kcal/personne/jour), dtype: float64\n"
     ]
    }
   ],
   "source": [
    "#Affichage des 10 pays qui ont le plus de dispo alimentaire par personne \n",
    "dispo_alim_kcal_par_habitant = dispoAlimentaire.groupby(['Zone', 'Produit'])['Disponibilité alimentaire (Kcal/personne/jour)'].sum().reset_index()\n",
    "\n",
    "pays_max_dispo_alim = dispo_alim_kcal_par_habitant.groupby('Zone')['Disponibilité alimentaire (Kcal/personne/jour)'].sum().nlargest(10)\n",
    "print('Les 10 pays avec la disponibilité alimentaire la plus élevée par habitant : ','\\n', pays_max_dispo_alim)\n"
   ]
  },
  {
   "cell_type": "markdown",
   "id": "58d7248b",
   "metadata": {},
   "source": [
    "<div style=\"border: 1px solid RGB(0,150,250);\" >\n",
    "<h3 style=\"margin: auto; padding: 20px; color: RGB(0,150,250); \">3.11 - Exemple de la Thaïlande pour le Manioc</h3>\n",
    "</div>"
   ]
  },
  {
   "cell_type": "code",
   "execution_count": 56,
   "id": "ec9ca912",
   "metadata": {},
   "outputs": [
    {
     "name": "stdout",
     "output_type": "stream",
     "text": [
      "            Zone                 Produit   Origine  Aliments pour animaux  \\\n",
      "13570  Thaïlande        Abats Comestible   animale                    0.0   \n",
      "13571  Thaïlande         Agrumes, Autres  vegetale                    0.0   \n",
      "13572  Thaïlande  Alcool, non Comestible  vegetale                    0.0   \n",
      "13573  Thaïlande   Aliments pour enfants  vegetale                    0.0   \n",
      "13574  Thaïlande                  Ananas  vegetale                    0.0   \n",
      "...          ...                     ...       ...                    ...   \n",
      "13660  Thaïlande        Viande de Suides   animale                    0.0   \n",
      "13661  Thaïlande     Viande de Volailles   animale                    0.0   \n",
      "13662  Thaïlande           Viande, Autre   animale                    0.0   \n",
      "13663  Thaïlande                     Vin  vegetale                    0.0   \n",
      "13664  Thaïlande          Épices, Autres  vegetale                    0.0   \n",
      "\n",
      "       Autres Utilisations  Disponibilité alimentaire (Kcal/personne/jour)  \\\n",
      "13570                  0.0                                             3.0   \n",
      "13571                  0.0                                             0.0   \n",
      "13572             358000.0                                             0.0   \n",
      "13573                  0.0                                             2.0   \n",
      "13574                  0.0                                            10.0   \n",
      "...                    ...                                             ...   \n",
      "13660                  0.0                                           124.0   \n",
      "13661                  0.0                                            52.0   \n",
      "13662                  0.0                                             0.0   \n",
      "13663                  0.0                                             0.0   \n",
      "13664                  0.0                                            16.0   \n",
      "\n",
      "       Disponibilité alimentaire en quantité (kg/personne/an)  \\\n",
      "13570                                               1.11        \n",
      "13571                                               0.09        \n",
      "13572                                               0.00        \n",
      "13573                                               0.18        \n",
      "13574                                              10.02        \n",
      "...                                                  ...        \n",
      "13660                                              13.00        \n",
      "13661                                              13.69        \n",
      "13662                                               0.03        \n",
      "13663                                               0.12        \n",
      "13664                                               1.70        \n",
      "\n",
      "       Disponibilité de matière grasse en quantité (g/personne/jour)  \\\n",
      "13570                                               0.09               \n",
      "13571                                               0.00               \n",
      "13572                                               0.00               \n",
      "13573                                               0.01               \n",
      "13574                                               0.04               \n",
      "...                                                  ...               \n",
      "13660                                              11.83               \n",
      "13661                                               3.62               \n",
      "13662                                               0.01               \n",
      "13663                                               0.00               \n",
      "13664                                               0.30               \n",
      "\n",
      "       Disponibilité de protéines en quantité (g/personne/jour)  \\\n",
      "13570                                               0.56          \n",
      "13571                                               0.00          \n",
      "13572                                               0.00          \n",
      "13573                                               0.08          \n",
      "13574                                               0.08          \n",
      "...                                                  ...          \n",
      "13660                                               3.92          \n",
      "13661                                               4.49          \n",
      "13662                                               0.02          \n",
      "13663                                               0.00          \n",
      "13664                                               0.43          \n",
      "\n",
      "       Disponibilité intérieure  Exportations - Quantité  \\\n",
      "13570                   74000.0                   5000.0   \n",
      "13571                    8000.0                   6000.0   \n",
      "13572                  358000.0                 110000.0   \n",
      "13573                   12000.0                   7000.0   \n",
      "13574                  782000.0                1449000.0   \n",
      "...                         ...                      ...   \n",
      "13660                  871000.0                  22000.0   \n",
      "13661                  945000.0                 536000.0   \n",
      "13662                  -92000.0                  96000.0   \n",
      "13663                    8000.0                   8000.0   \n",
      "13664                  114000.0                  42000.0   \n",
      "\n",
      "       Importations - Quantité  Nourriture    Pertes  Production  Semences  \\\n",
      "13570                  33000.0     75000.0       0.0     45000.0       0.0   \n",
      "13571                   2000.0      6000.0       0.0     12000.0       0.0   \n",
      "13572                  21000.0         0.0       0.0    447000.0       0.0   \n",
      "13573                  19000.0     12000.0       0.0         0.0       0.0   \n",
      "13574                   9000.0    671000.0  110000.0   2209000.0       0.0   \n",
      "...                        ...         ...       ...         ...       ...   \n",
      "13660                   1000.0    871000.0       0.0    891000.0       0.0   \n",
      "13661                  11000.0    917000.0   28000.0   1470000.0       0.0   \n",
      "13662                   4000.0      2000.0       0.0         0.0       0.0   \n",
      "13663                  16000.0      8000.0       0.0         0.0       0.0   \n",
      "13664                  13000.0    114000.0       0.0    143000.0       0.0   \n",
      "\n",
      "       Traitement  Variation de stock  Population_moyenne    dispo_kcal  \n",
      "13570         0.0                 0.0          68817891.0  7.535559e+10  \n",
      "13571      2000.0                 0.0          68817891.0  0.000000e+00  \n",
      "13572         0.0                 0.0          68817891.0  0.000000e+00  \n",
      "13573         0.0                 0.0          68817891.0  5.023706e+10  \n",
      "13574         0.0             13000.0          68817891.0  2.511853e+11  \n",
      "...           ...                 ...                 ...           ...  \n",
      "13660         0.0                 0.0          68817891.0  3.114698e+12  \n",
      "13661         0.0                 0.0          68817891.0  1.306164e+12  \n",
      "13662         0.0                 0.0          68817891.0  0.000000e+00  \n",
      "13663         0.0                 0.0          68817891.0  0.000000e+00  \n",
      "13664         0.0                 0.0          68817891.0  4.018965e+11  \n",
      "\n",
      "[95 rows x 20 columns]\n"
     ]
    }
   ],
   "source": [
    "#création d'un dataframe avec uniquement la Thaïlande \n",
    "# Créer un DataFrame pour la Thaïlande\n",
    "thailande = dispoAlimentaire[dispoAlimentaire['Zone'] == 'Thaïlande']\n",
    "print(thailande)\n"
   ]
  },
  {
   "cell_type": "code",
   "execution_count": 57,
   "id": "85693912",
   "metadata": {},
   "outputs": [
    {
     "name": "stdout",
     "output_type": "stream",
     "text": [
      "           Zone  Année  sous_nutrition\n",
      "3330  Thaïlande   2012         6200000\n",
      "3331  Thaïlande   2013         6200000\n",
      "3332  Thaïlande   2014         6200000\n",
      "3333  Thaïlande   2013         6000000\n",
      "3334  Thaïlande   2014         6000000\n",
      "3335  Thaïlande   2015         6000000\n",
      "3336  Thaïlande   2014         5900000\n",
      "3337  Thaïlande   2015         5900000\n",
      "3338  Thaïlande   2016         5900000\n",
      "3339  Thaïlande   2015         6000000\n",
      "3340  Thaïlande   2016         6000000\n",
      "3341  Thaïlande   2017         6000000\n",
      "3342  Thaïlande   2016         6200000\n",
      "3343  Thaïlande   2017         6200000\n",
      "3344  Thaïlande   2018         6200000\n",
      "3345  Thaïlande   2017         6500000\n",
      "3346  Thaïlande   2018         6500000\n",
      "3347  Thaïlande   2019         6500000\n"
     ]
    }
   ],
   "source": [
    "#Calcul de la sous nutrition en Thaïlande\n",
    "sous_nutrition_thailande = sousNutrition[sousNutrition['Zone'] == 'Thaïlande']\n",
    "print(sous_nutrition_thailande)"
   ]
  },
  {
   "cell_type": "code",
   "execution_count": 58,
   "id": "f19cd96e",
   "metadata": {},
   "outputs": [
    {
     "name": "stdout",
     "output_type": "stream",
     "text": [
      "            Zone                 Produit   Origine  Aliments pour animaux  \\\n",
      "13570  Thaïlande        Abats Comestible   animale                    0.0   \n",
      "13571  Thaïlande         Agrumes, Autres  vegetale                    0.0   \n",
      "13572  Thaïlande  Alcool, non Comestible  vegetale                    0.0   \n",
      "13573  Thaïlande   Aliments pour enfants  vegetale                    0.0   \n",
      "13574  Thaïlande                  Ananas  vegetale                    0.0   \n",
      "...          ...                     ...       ...                    ...   \n",
      "13660  Thaïlande        Viande de Suides   animale                    0.0   \n",
      "13661  Thaïlande     Viande de Volailles   animale                    0.0   \n",
      "13662  Thaïlande           Viande, Autre   animale                    0.0   \n",
      "13663  Thaïlande                     Vin  vegetale                    0.0   \n",
      "13664  Thaïlande          Épices, Autres  vegetale                    0.0   \n",
      "\n",
      "       Autres Utilisations  Disponibilité alimentaire (Kcal/personne/jour)  \\\n",
      "13570                  0.0                                             3.0   \n",
      "13571                  0.0                                             0.0   \n",
      "13572             358000.0                                             0.0   \n",
      "13573                  0.0                                             2.0   \n",
      "13574                  0.0                                            10.0   \n",
      "...                    ...                                             ...   \n",
      "13660                  0.0                                           124.0   \n",
      "13661                  0.0                                            52.0   \n",
      "13662                  0.0                                             0.0   \n",
      "13663                  0.0                                             0.0   \n",
      "13664                  0.0                                            16.0   \n",
      "\n",
      "       Disponibilité alimentaire en quantité (kg/personne/an)  \\\n",
      "13570                                               1.11        \n",
      "13571                                               0.09        \n",
      "13572                                               0.00        \n",
      "13573                                               0.18        \n",
      "13574                                              10.02        \n",
      "...                                                  ...        \n",
      "13660                                              13.00        \n",
      "13661                                              13.69        \n",
      "13662                                               0.03        \n",
      "13663                                               0.12        \n",
      "13664                                               1.70        \n",
      "\n",
      "       Disponibilité de matière grasse en quantité (g/personne/jour)  \\\n",
      "13570                                               0.09               \n",
      "13571                                               0.00               \n",
      "13572                                               0.00               \n",
      "13573                                               0.01               \n",
      "13574                                               0.04               \n",
      "...                                                  ...               \n",
      "13660                                              11.83               \n",
      "13661                                               3.62               \n",
      "13662                                               0.01               \n",
      "13663                                               0.00               \n",
      "13664                                               0.30               \n",
      "\n",
      "       Disponibilité de protéines en quantité (g/personne/jour)  \\\n",
      "13570                                               0.56          \n",
      "13571                                               0.00          \n",
      "13572                                               0.00          \n",
      "13573                                               0.08          \n",
      "13574                                               0.08          \n",
      "...                                                  ...          \n",
      "13660                                               3.92          \n",
      "13661                                               4.49          \n",
      "13662                                               0.02          \n",
      "13663                                               0.00          \n",
      "13664                                               0.43          \n",
      "\n",
      "       Disponibilité intérieure  ...  Importations - Quantité  Nourriture  \\\n",
      "13570                   74000.0  ...                  33000.0     75000.0   \n",
      "13571                    8000.0  ...                   2000.0      6000.0   \n",
      "13572                  358000.0  ...                  21000.0         0.0   \n",
      "13573                   12000.0  ...                  19000.0     12000.0   \n",
      "13574                  782000.0  ...                   9000.0    671000.0   \n",
      "...                         ...  ...                      ...         ...   \n",
      "13660                  871000.0  ...                   1000.0    871000.0   \n",
      "13661                  945000.0  ...                  11000.0    917000.0   \n",
      "13662                  -92000.0  ...                   4000.0      2000.0   \n",
      "13663                    8000.0  ...                  16000.0      8000.0   \n",
      "13664                  114000.0  ...                  13000.0    114000.0   \n",
      "\n",
      "         Pertes  Production  Semences  Traitement  Variation de stock  \\\n",
      "13570       0.0     45000.0       0.0         0.0                 0.0   \n",
      "13571       0.0     12000.0       0.0      2000.0                 0.0   \n",
      "13572       0.0    447000.0       0.0         0.0                 0.0   \n",
      "13573       0.0         0.0       0.0         0.0                 0.0   \n",
      "13574  110000.0   2209000.0       0.0         0.0             13000.0   \n",
      "...         ...         ...       ...         ...                 ...   \n",
      "13660       0.0    891000.0       0.0         0.0                 0.0   \n",
      "13661   28000.0   1470000.0       0.0         0.0                 0.0   \n",
      "13662       0.0         0.0       0.0         0.0                 0.0   \n",
      "13663       0.0         0.0       0.0         0.0                 0.0   \n",
      "13664       0.0    143000.0       0.0         0.0                 0.0   \n",
      "\n",
      "       Population_moyenne    dispo_kcal  proportion_exportee  \n",
      "13570          68817891.0  7.535559e+10             6.756757  \n",
      "13571          68817891.0  0.000000e+00            75.000000  \n",
      "13572          68817891.0  0.000000e+00            30.726257  \n",
      "13573          68817891.0  5.023706e+10            58.333333  \n",
      "13574          68817891.0  2.511853e+11           185.294118  \n",
      "...                   ...           ...                  ...  \n",
      "13660          68817891.0  3.114698e+12             2.525832  \n",
      "13661          68817891.0  1.306164e+12            56.719577  \n",
      "13662          68817891.0  0.000000e+00          -104.347826  \n",
      "13663          68817891.0  0.000000e+00           100.000000  \n",
      "13664          68817891.0  4.018965e+11            36.842105  \n",
      "\n",
      "[95 rows x 21 columns]\n"
     ]
    },
    {
     "name": "stderr",
     "output_type": "stream",
     "text": [
      "/var/folders/fk/2614w5d17vl_s_3w8_y9cvkr0000gn/T/ipykernel_33052/4063108728.py:4: SettingWithCopyWarning: \n",
      "A value is trying to be set on a copy of a slice from a DataFrame.\n",
      "Try using .loc[row_indexer,col_indexer] = value instead\n",
      "\n",
      "See the caveats in the documentation: https://pandas.pydata.org/pandas-docs/stable/user_guide/indexing.html#returning-a-view-versus-a-copy\n",
      "  thailande.loc[:, 'proportion_exportee'] = thailande['Exportations - Quantité'] / thailande['Disponibilité intérieure'] * 100\n"
     ]
    }
   ],
   "source": [
    "# On calcule la proportion exportée en fonction de la proportion\n",
    "# disponible intérieurement\n",
    "# Créer une colonne 'proportion_exportee' dans le DataFrame thailande\n",
    "thailande.loc[:, 'proportion_exportee'] = thailande['Exportations - Quantité'] / thailande['Disponibilité intérieure'] * 100\n",
    "\n",
    "print(thailande)"
   ]
  },
  {
   "cell_type": "markdown",
   "id": "7de4e914",
   "metadata": {},
   "source": [
    "<div style=\"background-color: RGB(0,150,250);\" >\n",
    "<h2 style=\"margin: auto; padding: 20px; color:#fff; \">Etape 6 - Analyse complémentaires</h2>\n",
    "</div>"
   ]
  },
  {
   "cell_type": "code",
   "execution_count": 59,
   "id": "e42062e9",
   "metadata": {},
   "outputs": [],
   "source": [
    "#Rajouter en dessous toutes les analyses complémetaires suite à la demande de mélanie :\n",
    "#\"et toutes les infos que tu trouverais utiles pour mettre en relief les pays qui semblent être \n",
    "#le plus en difficulté au niveau alimentaire\""
   ]
  }
 ],
 "metadata": {
  "kernelspec": {
   "display_name": "Python 3",
   "language": "python",
   "name": "python3"
  },
  "language_info": {
   "codemirror_mode": {
    "name": "ipython",
    "version": 3
   },
   "file_extension": ".py",
   "mimetype": "text/x-python",
   "name": "python",
   "nbconvert_exporter": "python",
   "pygments_lexer": "ipython3",
   "version": "3.11.7"
  }
 },
 "nbformat": 4,
 "nbformat_minor": 5
}
