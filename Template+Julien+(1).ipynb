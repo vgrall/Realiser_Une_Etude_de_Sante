{
 "cells": [
  {
   "cell_type": "markdown",
   "id": "e7316a32",
   "metadata": {},
   "source": [
    "<div style=\" background-color: RGB(0,114,200);\" >\n",
    "<h1 style=\"margin: auto; padding: 20px 0; color:#fff; text-align: center\">PROJET 4 DATA ANALYST</h1>\n",
    "<h2 style=\"margin: auto; padding: 20px 0; color:#fff; text-align: center\">Réalisez une étude de santé publique avec R ou Python\n",
    "</h2>\n",
    "</div>"
   ]
  },
  {
   "cell_type": "markdown",
   "id": "6e00fa8a",
   "metadata": {},
   "source": [
    "# OBJECTIF DE CE NOTEBOOK\n",
    "\n",
    "Bienvenue dans l'outil plébiscité par les analystes de données Jupyter.\n",
    "\n",
    "Il s'agit d'un outil permettant de mixer et d'alterner codes, textes et graphique.\n",
    "\n",
    "Cet outil est formidable pour plusieurs raisons:\n",
    "\n",
    "+ il permet de tester des lignes de codes au fur et à mesure de votre rédaction, de constater immédiatement le résultat d'un instruction, de la corriger si nécessaire.\n",
    "+ De rédiger du texte pour expliquer l'approche suivie ou les résultats d'une analyse et de le mettre en forme grâce à du code html ou plus simple avec **Markdown**\n",
    "+ d'agrémenter de graphiques\n",
    "\n",
    "Pour vous aider dans vos premiers pas à l'usage de Jupyter et de Python, nous avons rédigé ce notebook en vous indiquant les instructions à suivre.\n",
    "\n",
    "Il vous suffit pour cela de saisir le code Python répondant à l'instruction donnée.\n",
    "\n",
    "Vous verrez de temps à autre le code Python répondant à une instruction donnée mais cela est fait pour vous aider à comprendre la nature du travail qui vous est demandée.\n",
    "\n",
    "Et garder à l'esprit, qu'il n'y a pas de solution unique pour résoudre un problème et qu'il y a autant de résolutions de problèmes que de développeurs ;)...\n",
    "\n"
   ]
  },
  {
   "cell_type": "markdown",
   "id": "c33bcf57",
   "metadata": {},
   "source": [
    "Note jeremy \n",
    "Est ce qu'il faut faire le calcul de la sous nutrition sur les pays qu'on a ? \n",
    "Est ce qu'il faut faire des graphiques ?\n",
    "Rajouter le soja\n",
    "La liste des céréales est difficile a trouver ..."
   ]
  },
  {
   "cell_type": "markdown",
   "id": "9dad8326",
   "metadata": {},
   "source": [
    "<div style=\"background-color: RGB(0,150,250);\" >\n",
    "<h2 style=\"margin: auto; padding: 20px; color:#fff; \">Etape 1 - Importation des librairies et chargement des fichiers</h2>\n",
    "</div>"
   ]
  },
  {
   "cell_type": "markdown",
   "id": "4ee69457",
   "metadata": {},
   "source": [
    "<div style=\"border: 1px solid RGB(0,150,250);\" >\n",
    "<h3 style=\"margin: auto; padding: 20px; color: RGB(0,150,250); \">1.1 - Importation des librairies</h3>\n",
    "</div>"
   ]
  },
  {
   "cell_type": "code",
<<<<<<< HEAD
   "execution_count": 619,
=======
   "execution_count": 1403,
>>>>>>> 7a3849ab3370f396efa32897aa7c73e573d96985
   "id": "ffe62b56",
   "metadata": {},
   "outputs": [],
   "source": [
    "#Importation de la librairie Pandas\n",
    "import pandas as pd"
   ]
  },
  {
   "cell_type": "markdown",
   "id": "8bd8e7ed",
   "metadata": {},
   "source": [
    "<div style=\"border: 1px solid RGB(0,150,250);\" >\n",
    "<h3 style=\"margin: auto; padding: 20px; color: RGB(0,150,250); \">1.2 - Chargement des fichiers Excel</h3>\n",
    "</div>"
   ]
  },
  {
   "cell_type": "code",
<<<<<<< HEAD
   "execution_count": 620,
=======
   "execution_count": 1404,
>>>>>>> 7a3849ab3370f396efa32897aa7c73e573d96985
   "id": "b304f108",
   "metadata": {},
   "outputs": [],
   "source": [
    "#Importation du fichier population.csv\n",
    "population = pd.read_csv('population.csv')\n",
    "\n",
    "#Importation du fichier dispo_alimentaire.csv\n",
    "dispoAlimentaire = pd.read_csv('dispo_alimentaire.csv')\n",
    "\n",
    "#Importation du fichier aide_alimentaire.csv\n",
    "aideAlimentaire = pd.read_csv('aide_alimentaire.csv')\n",
    "\n",
    "#Importation du fichier sous_nutrition.csv\n",
    "sousNutrition = pd.read_csv('sous_nutrition.csv')"
   ]
  },
  {
   "cell_type": "markdown",
   "id": "1249847a",
   "metadata": {},
   "source": [
    "<div style=\"background-color: RGB(0,150,250);\" >\n",
    "<h2 style=\"margin: auto; padding: 20px; color:#fff; \">Etape 2 - Analyse exploratoire des fichiers</h2>\n",
    "</div>"
   ]
  },
  {
   "cell_type": "markdown",
   "id": "235e6e91",
   "metadata": {},
   "source": [
    "<div style=\"border: 1px solid RGB(0,150,250);\" >\n",
    "<h3 style=\"margin: auto; padding: 20px; color: RGB(0,150,250); \">2.1 - Analyse exploratoire du fichier population</h3>\n",
    "</div>"
   ]
  },
  {
   "cell_type": "code",
<<<<<<< HEAD
   "execution_count": 621,
=======
   "execution_count": 1405,
>>>>>>> 7a3849ab3370f396efa32897aa7c73e573d96985
   "id": "e6b639d2",
   "metadata": {},
   "outputs": [
    {
     "name": "stdout",
     "output_type": "stream",
     "text": [
      "Le tableau comporte 1416 observation(s) ou article(s)\n",
      "Le tableau comporte 3 colonne(s)\n"
     ]
    }
   ],
   "source": [
    "#Afficher les dimensions du dataset\n",
    "print(\"Le tableau comporte {} observation(s) ou article(s)\".format(population.shape[0]))\n",
    "print(\"Le tableau comporte {} colonne(s)\".format(population.shape[1]))"
   ]
  },
  {
   "cell_type": "code",
<<<<<<< HEAD
   "execution_count": 622,
=======
   "execution_count": 1406,
>>>>>>> 7a3849ab3370f396efa32897aa7c73e573d96985
   "id": "08f5061e",
   "metadata": {},
   "outputs": [
    {
     "name": "stdout",
     "output_type": "stream",
     "text": [
      "Le tableau comporte 3 colonne(s)\n",
      "La nature des colonnes est :\n",
      "              0\n",
      "Zone     object\n",
      "Année     int64\n",
      "Valeur  float64\n",
      "Le nombre de valeurs présentes dans chacune des colonnes est :\n",
      "Zone      1416\n",
      "Année     1416\n",
      "Valeur    1416\n",
      "dtype: int64\n"
     ]
    }
   ],
   "source": [
    "#Consulter le nombre de colonnes\n",
    "print(\"Le tableau comporte {} colonne(s)\".format(len(population.columns)))\n",
    "\n",
    "#La nature des données dans chacune des colonnes\n",
    "# Convertir la série des types de données en un DataFrame\n",
    "dtypes_df = population.dtypes.to_frame()\n",
    "# Formater le DataFrame en une chaîne\n",
    "dtypes_str = dtypes_df.to_string()\n",
    "# Afficher le résultat\n",
    "print(\"La nature des colonnes est :\\n{}\".format(dtypes_str))\n",
    "\n",
    "#Le nombre de valeurs présentes dans chacune des colonnes\n",
    "print(\"Le nombre de valeurs présentes dans chacune des colonnes est :\\n{}\".format(population.count()))"
   ]
  },
  {
   "cell_type": "markdown",
   "id": "d2a1eb61",
   "metadata": {},
   "source": [
    "Le tableau comporte 3 colonne(s)\n",
    "\n",
    "La nature des colonnes est :\n",
    "Zone     object\n",
    "Année     int64\n",
    "Valeur  float64\n",
    "\n",
    "Le nombre de valeurs présentes dans chacune des colonnes est :\n",
    "Zone      1416\n",
    "Année     1416\n",
    "Valeur    1416"
   ]
  },
  {
   "cell_type": "code",
<<<<<<< HEAD
   "execution_count": 623,
=======
   "execution_count": 1407,
>>>>>>> 7a3849ab3370f396efa32897aa7c73e573d96985
   "id": "3e50d9e6",
   "metadata": {},
   "outputs": [
    {
     "name": "stdout",
     "output_type": "stream",
     "text": [
      "Les 5 premières lignes de la table population\n",
      "          Zone  Année     Valeur\n",
      "0  Afghanistan   2013  32269.589\n",
      "1  Afghanistan   2014  33370.794\n",
      "2  Afghanistan   2015  34413.603\n",
      "3  Afghanistan   2016  35383.032\n",
      "4  Afghanistan   2017  36296.113\n"
     ]
    }
   ],
   "source": [
    "#Affichage les 5 premières lignes de la table\n",
    "print(\"Les 5 premières lignes de la table population\")\n",
    "print(population.head())\n"
   ]
  },
  {
   "cell_type": "markdown",
   "id": "927c83f9",
   "metadata": {},
   "source": [
    "Les 5 premières lignes de la table population\n",
    "          Zone  Année     Valeur\n",
    "0  Afghanistan   2013  32269.589\n",
    "1  Afghanistan   2014  33370.794\n",
    "2  Afghanistan   2015  34413.603\n",
    "3  Afghanistan   2016  35383.032\n",
    "4  Afghanistan   2017  36296.113"
   ]
  },
  {
   "cell_type": "code",
<<<<<<< HEAD
   "execution_count": 624,
=======
   "execution_count": 1408,
>>>>>>> 7a3849ab3370f396efa32897aa7c73e573d96985
   "id": "ab1a4af4",
   "metadata": {},
   "outputs": [
    {
     "name": "stdout",
     "output_type": "stream",
     "text": [
      "Nous allons harmoniser les unités en multipliant la population par 1000.\n",
      "Nous avons harmonisé les unités en multipliant la population par 1000 :\n",
      "0       32269589\n",
      "1       33370794\n",
      "2       34413603\n",
      "3       35383032\n",
      "4       36296113\n",
      "          ...   \n",
      "1411    13586707\n",
      "1412    13814629\n",
      "1413    14030331\n",
      "1414    14236595\n",
      "1415    14438802\n",
      "Name: Valeur, Length: 1416, dtype: int64\n"
     ]
    }
   ],
   "source": [
    "#Nous allons harmoniser les unités. Pour cela, nous avons décidé de multiplier la population par 1000\n",
    "#Multiplication de la colonne valeur par 1000\n",
    "\n",
    "print(\"Nous allons harmoniser les unités en multipliant la population par 1000.\")\n",
    "\n",
    "\n",
    "# Multiplication de la colonne \"valeur\" par 1000\n",
    "Newvaleur = population[\"Valeur\"] * 1000\n",
    "\n",
    "# Convertir les valeurs en entiers\n",
    "Newvaleur_entiers = Newvaleur.astype(int)\n",
    "\n",
    "# Afficher le résultat\n",
    "print(\"Nous avons harmonisé les unités en multipliant la population par 1000 :\\n{}\".format(Newvaleur_entiers))\n"
   ]
  },
  {
   "cell_type": "markdown",
   "id": "e7dca7d6",
   "metadata": {},
   "source": [
    "Nous avons harmonisé les unités en multipliant la population par 1000 :\n",
    "0       32269589\n",
    "1       33370794\n",
    "2       34413603\n",
    "3       35383032\n",
    "4       36296113\n",
    "          ...   \n",
    "1411    13586707\n",
    "1412    13814629\n",
    "1413    14030331\n",
    "1414    14236595\n",
    "1415    14438802"
   ]
  },
  {
   "cell_type": "code",
<<<<<<< HEAD
   "execution_count": 625,
=======
   "execution_count": 1409,
>>>>>>> 7a3849ab3370f396efa32897aa7c73e573d96985
   "id": "38836b61",
   "metadata": {},
   "outputs": [
    {
     "name": "stdout",
     "output_type": "stream",
     "text": [
      "          Zone  Année  Population\n",
      "0  Afghanistan   2013   32269.589\n",
      "1  Afghanistan   2014   33370.794\n",
      "2  Afghanistan   2015   34413.603\n",
      "3  Afghanistan   2016   35383.032\n",
      "4  Afghanistan   2017   36296.113\n"
     ]
    }
   ],
   "source": [
    "#changement du nom de la colonne Valeur par Population\n",
    "population = population.rename(columns={'Valeur': 'Population'})\n",
    "#Affichage les 5 premières lignes de la table pour voir les modifications\n",
    "print(population.head())"
   ]
  },
  {
   "cell_type": "markdown",
   "id": "7347cc69",
   "metadata": {},
   "source": [
    "   Zone  Année  Population\n",
    "0  Afghanistan   2013   32269.589\n",
    "1  Afghanistan   2014   33370.794\n",
    "2  Afghanistan   2015   34413.603\n",
    "3  Afghanistan   2016   35383.032\n",
    "4  Afghanistan   2017   36296.113"
   ]
  },
  {
   "cell_type": "markdown",
   "id": "4224b896",
   "metadata": {},
   "source": [
    "<div style=\"border: 1px solid RGB(0,150,250);\" >\n",
    "<h3 style=\"margin: auto; padding: 20px; color: RGB(0,150,250); \">2.2 - Analyse exploratoire du fichier disponibilité alimentaire</h3>\n",
    "</div>"
   ]
  },
  {
   "cell_type": "code",
<<<<<<< HEAD
   "execution_count": 626,
=======
   "execution_count": 1410,
>>>>>>> 7a3849ab3370f396efa32897aa7c73e573d96985
   "id": "38f5b838",
   "metadata": {},
   "outputs": [
    {
     "name": "stdout",
     "output_type": "stream",
     "text": [
      "Le tableau comporte 15605 observation(s) ou article(s)\n"
     ]
    }
   ],
   "source": [
    "#Afficher les dimensions du dataset\n",
    "\n",
    "print(\"Le tableau comporte {} observation(s) ou article(s)\".format(dispoAlimentaire.shape[0]))"
   ]
  },
  {
   "cell_type": "markdown",
   "id": "01195f35",
   "metadata": {},
   "source": [
    "Le tableau comporte 15605 observation(s) ou article(s)"
   ]
  },
  {
   "cell_type": "code",
<<<<<<< HEAD
   "execution_count": 627,
=======
   "execution_count": 1411,
>>>>>>> 7a3849ab3370f396efa32897aa7c73e573d96985
   "id": "99735a22",
   "metadata": {},
   "outputs": [
    {
     "name": "stdout",
     "output_type": "stream",
     "text": [
      "Le tableau comporte 18 colonne(s)\n"
     ]
    }
   ],
   "source": [
    "#Consulter le nombre de colonnes\n",
    "print(\"Le tableau comporte {} colonne(s)\".format(dispoAlimentaire.shape[1]))\n"
   ]
  },
  {
   "cell_type": "markdown",
   "id": "9d408e72",
   "metadata": {},
   "source": [
    "Le tableau comporte 18 colonne(s)"
   ]
  },
  {
   "cell_type": "code",
<<<<<<< HEAD
   "execution_count": 628,
=======
   "execution_count": 1412,
>>>>>>> 7a3849ab3370f396efa32897aa7c73e573d96985
   "id": "0058032d",
   "metadata": {},
   "outputs": [
    {
     "name": "stdout",
     "output_type": "stream",
     "text": [
      "Les 5 premières lignes de la table dispositions alimentaires sont :\n",
      "          Zone                Produit   Origine  Aliments pour animaux  \\\n",
      "0  Afghanistan       Abats Comestible   animale                    NaN   \n",
      "1  Afghanistan        Agrumes, Autres  vegetale                    NaN   \n",
      "2  Afghanistan  Aliments pour enfants  vegetale                    NaN   \n",
      "3  Afghanistan                 Ananas  vegetale                    NaN   \n",
      "4  Afghanistan                Bananes  vegetale                    NaN   \n",
      "\n",
      "   Autres Utilisations  Disponibilité alimentaire (Kcal/personne/jour)  \\\n",
      "0                  NaN                                             5.0   \n",
      "1                  NaN                                             1.0   \n",
      "2                  NaN                                             1.0   \n",
      "3                  NaN                                             0.0   \n",
      "4                  NaN                                             4.0   \n",
      "\n",
      "   Disponibilité alimentaire en quantité (kg/personne/an)  \\\n",
      "0                                               1.72        \n",
      "1                                               1.29        \n",
      "2                                               0.06        \n",
      "3                                               0.00        \n",
      "4                                               2.70        \n",
      "\n",
      "   Disponibilité de matière grasse en quantité (g/personne/jour)  \\\n",
      "0                                               0.20               \n",
      "1                                               0.01               \n",
      "2                                               0.01               \n",
      "3                                                NaN               \n",
      "4                                               0.02               \n",
      "\n",
      "   Disponibilité de protéines en quantité (g/personne/jour)  \\\n",
      "0                                               0.77          \n",
      "1                                               0.02          \n",
      "2                                               0.03          \n",
      "3                                                NaN          \n",
      "4                                               0.05          \n",
      "\n",
      "   Disponibilité intérieure  Exportations - Quantité  Importations - Quantité  \\\n",
      "0                      53.0                      NaN                      NaN   \n",
      "1                      41.0                      2.0                     40.0   \n",
      "2                       2.0                      NaN                      2.0   \n",
      "3                       0.0                      NaN                      0.0   \n",
      "4                      82.0                      NaN                     82.0   \n",
      "\n",
      "   Nourriture  Pertes  Production  Semences  Traitement  Variation de stock  \n",
      "0        53.0     NaN        53.0       NaN         NaN                 NaN  \n",
      "1        39.0     2.0         3.0       NaN         NaN                 NaN  \n",
      "2         2.0     NaN         NaN       NaN         NaN                 NaN  \n",
      "3         0.0     NaN         NaN       NaN         NaN                 NaN  \n",
      "4        82.0     NaN         NaN       NaN         NaN                 NaN  \n"
     ]
    }
   ],
   "source": [
    "#Affichage les 5 premières lignes de la table\n",
    "print(\"Les 5 premières lignes de la table dispositions alimentaires sont :\")\n",
    "print(dispoAlimentaire.head())\n"
   ]
  },
  {
   "cell_type": "markdown",
   "id": "8e54a0d6",
   "metadata": {},
   "source": [
    "Les 5 premières lignes de la table dispositions alimentaires sont :\n",
    "          Zone                Produit   Origine  Aliments pour animaux  Autres Utilisations  ...  Pertes  Production  Semences  Traitement  Variation de stock\n",
    "0  Afghanistan       Abats Comestible   animale                    NaN                  NaN  ...     NaN        53.0       NaN         NaN                 NaN\n",
    "1  Afghanistan        Agrumes, Autres  vegetale                    NaN                  NaN  ...     2.0         3.0       NaN         NaN                 NaN\n",
    "2  Afghanistan  Aliments pour enfants  vegetale                    NaN                  NaN  ...     NaN         NaN       NaN         NaN                 NaN\n",
    "3  Afghanistan                 Ananas  vegetale                    NaN                  NaN  ...     NaN         NaN       NaN         NaN                 NaN\n",
    "4  Afghanistan                Bananes  vegetale                    NaN                  NaN  ...     NaN         NaN       NaN         NaN                 NaN"
   ]
  },
  {
   "cell_type": "code",
<<<<<<< HEAD
   "execution_count": 629,
=======
   "execution_count": 1413,
>>>>>>> 7a3849ab3370f396efa32897aa7c73e573d96985
   "id": "f3832569",
   "metadata": {},
   "outputs": [
    {
     "name": "stdout",
     "output_type": "stream",
     "text": [
      "          Zone                Produit   Origine  Aliments pour animaux  \\\n",
      "0  Afghanistan       Abats Comestible   animale                    0.0   \n",
      "1  Afghanistan        Agrumes, Autres  vegetale                    0.0   \n",
      "2  Afghanistan  Aliments pour enfants  vegetale                    0.0   \n",
      "3  Afghanistan                 Ananas  vegetale                    0.0   \n",
      "4  Afghanistan                Bananes  vegetale                    0.0   \n",
      "\n",
      "   Autres Utilisations  Disponibilité alimentaire (Kcal/personne/jour)  \\\n",
      "0                  0.0                                             5.0   \n",
      "1                  0.0                                             1.0   \n",
      "2                  0.0                                             1.0   \n",
      "3                  0.0                                             0.0   \n",
      "4                  0.0                                             4.0   \n",
      "\n",
      "   Disponibilité alimentaire en quantité (kg/personne/an)  \\\n",
      "0                                               1.72        \n",
      "1                                               1.29        \n",
      "2                                               0.06        \n",
      "3                                               0.00        \n",
      "4                                               2.70        \n",
      "\n",
      "   Disponibilité de matière grasse en quantité (g/personne/jour)  \\\n",
      "0                                               0.20               \n",
      "1                                               0.01               \n",
      "2                                               0.01               \n",
      "3                                               0.00               \n",
      "4                                               0.02               \n",
      "\n",
      "   Disponibilité de protéines en quantité (g/personne/jour)  \\\n",
      "0                                               0.77          \n",
      "1                                               0.02          \n",
      "2                                               0.03          \n",
      "3                                               0.00          \n",
      "4                                               0.05          \n",
      "\n",
      "   Disponibilité intérieure  Exportations - Quantité  Importations - Quantité  \\\n",
      "0                      53.0                      0.0                      0.0   \n",
      "1                      41.0                      2.0                     40.0   \n",
      "2                       2.0                      0.0                      2.0   \n",
      "3                       0.0                      0.0                      0.0   \n",
      "4                      82.0                      0.0                     82.0   \n",
      "\n",
      "   Nourriture  Pertes  Production  Semences  Traitement  Variation de stock  \n",
      "0        53.0     0.0        53.0       0.0         0.0                 0.0  \n",
      "1        39.0     2.0         3.0       0.0         0.0                 0.0  \n",
      "2         2.0     0.0         0.0       0.0         0.0                 0.0  \n",
      "3         0.0     0.0         0.0       0.0         0.0                 0.0  \n",
      "4        82.0     0.0         0.0       0.0         0.0                 0.0  \n"
     ]
    }
   ],
   "source": [
    "#remplacement des NaN dans le dataset par des 0\n",
    "dispoAlimentaire = dispoAlimentaire.fillna(0)\n",
    "print(dispoAlimentaire.head())\n"
   ]
  },
  {
   "cell_type": "markdown",
   "id": "6be8a6fa",
   "metadata": {},
   "source": [
    "     Zone                Produit   Origine  Aliments pour animaux  Autres Utilisations  Disponibilité alimentaire (Kcal/personne/jour)  Disponibilité alimentaire en quantité (kg/personne/an)  ...  Importations - Quantité  Nourriture  Pertes  Production  Semences  Traitement  Variation de stock\n",
    "0  Afghanistan       Abats Comestible   animale                    0.0                  0.0                                             5.0                                               1.72       ...                      0.0        53.0     0.0        53.0       0.0         0.0                 0.0\n",
    "1  Afghanistan        Agrumes, Autres  vegetale                    0.0                  0.0                                             1.0                                               1.29       ...                     40.0        39.0     2.0         3.0       0.0         0.0                 0.0\n",
    "2  Afghanistan  Aliments pour enfants  vegetale                    0.0                  0.0                                             1.0                                               0.06       ...                      2.0         2.0     0.0         0.0       0.0         0.0                 0.0\n",
    "3  Afghanistan                 Ananas  vegetale                    0.0                  0.0                                             0.0                                               0.00       ...                      0.0         0.0     0.0         0.0       0.0         0.0                 0.0\n",
    "4  Afghanistan                Bananes  vegetale                    0.0                  0.0                                             4.0                                               2.70       ...                     82.0        82.0     0.0         0.0       0.0         0.0                 0.0"
   ]
  },
  {
   "cell_type": "code",
<<<<<<< HEAD
   "execution_count": 630,
=======
   "execution_count": 1414,
>>>>>>> 7a3849ab3370f396efa32897aa7c73e573d96985
   "id": "db4432e3",
   "metadata": {},
   "outputs": [
    {
     "name": "stdout",
     "output_type": "stream",
     "text": [
      "   Aliments pour animaux  Autres Utilisations  \\\n",
      "0                      0                    0   \n",
      "1                      0                    0   \n",
      "2                      0                    0   \n",
      "3                      0                    0   \n",
      "4                      0                    0   \n",
      "\n",
      "   Disponibilité alimentaire (Kcal/personne/jour)  \\\n",
      "0                                         5000000   \n",
      "1                                         1000000   \n",
      "2                                         1000000   \n",
      "3                                               0   \n",
      "4                                         4000000   \n",
      "\n",
      "   Disponibilité alimentaire en quantité (kg/personne/an)  \\\n",
      "0                                            1720000        \n",
      "1                                            1290000        \n",
      "2                                              60000        \n",
      "3                                                  0        \n",
      "4                                            2700000        \n",
      "\n",
      "   Disponibilité de matière grasse en quantité (g/personne/jour)  \\\n",
      "0                                             200000               \n",
      "1                                              10000               \n",
      "2                                              10000               \n",
      "3                                                  0               \n",
      "4                                              20000               \n",
      "\n",
      "   Disponibilité de protéines en quantité (g/personne/jour)  \\\n",
      "0                                             770000          \n",
      "1                                              20000          \n",
      "2                                              30000          \n",
      "3                                                  0          \n",
      "4                                              50000          \n",
      "\n",
      "   Disponibilité intérieure  Exportations - Quantité  Importations - Quantité  \\\n",
      "0                  53000000                        0                        0   \n",
      "1                  41000000                  2000000                 40000000   \n",
      "2                   2000000                        0                  2000000   \n",
      "3                         0                        0                        0   \n",
      "4                  82000000                        0                 82000000   \n",
      "\n",
      "   Nourriture   Pertes  Production  Semences  Traitement  Variation de stock  \n",
      "0    53000000        0    53000000         0           0                   0  \n",
      "1    39000000  2000000     3000000         0           0                   0  \n",
      "2     2000000        0           0         0           0                   0  \n",
      "3           0        0           0         0           0                   0  \n",
      "4    82000000        0           0         0           0                   0  \n"
     ]
    }
   ],
   "source": [
    "#multiplication de toutes les lignes contenant des milliers de tonnes en Kg\n",
    "NewDispoAlimentaire = dispoAlimentaire.iloc[:, 3:] * 1000000\n",
    "NewDispoAlimentaire_entier = NewDispoAlimentaire.astype(int)\n",
    "\n",
    "# Afficher les premières lignes du DataFrame\n",
    "print(NewDispoAlimentaire_entier.head())\n",
    "\n"
   ]
  },
  {
   "cell_type": "code",
<<<<<<< HEAD
   "execution_count": 631,
=======
   "execution_count": 1415,
>>>>>>> 7a3849ab3370f396efa32897aa7c73e573d96985
   "id": "7f1689bf",
   "metadata": {},
   "outputs": [
    {
     "name": "stdout",
     "output_type": "stream",
     "text": [
      "   Aliments pour animaux  Autres Utilisations  \\\n",
      "0                      0                    0   \n",
      "1                      0                    0   \n",
      "2                      0                    0   \n",
      "3                      0                    0   \n",
      "4                      0                    0   \n",
      "\n",
      "   Disponibilité alimentaire (Kcal/personne/jour)  \\\n",
      "0                                         5000000   \n",
      "1                                         1000000   \n",
      "2                                         1000000   \n",
      "3                                               0   \n",
      "4                                         4000000   \n",
      "\n",
      "   Disponibilité alimentaire en quantité (kg/personne/an)  \\\n",
      "0                                            1720000        \n",
      "1                                            1290000        \n",
      "2                                              60000        \n",
      "3                                                  0        \n",
      "4                                            2700000        \n",
      "\n",
      "   Disponibilité de matière grasse en quantité (g/personne/jour)  \\\n",
      "0                                             200000               \n",
      "1                                              10000               \n",
      "2                                              10000               \n",
      "3                                                  0               \n",
      "4                                              20000               \n",
      "\n",
      "   Disponibilité de protéines en quantité (g/personne/jour)  \\\n",
      "0                                             770000          \n",
      "1                                              20000          \n",
      "2                                              30000          \n",
      "3                                                  0          \n",
      "4                                              50000          \n",
      "\n",
      "   Disponibilité intérieure  Exportations - Quantité  Importations - Quantité  \\\n",
      "0                  53000000                        0                        0   \n",
      "1                  41000000                  2000000                 40000000   \n",
      "2                   2000000                        0                  2000000   \n",
      "3                         0                        0                        0   \n",
      "4                  82000000                        0                 82000000   \n",
      "\n",
      "   Nourriture   Pertes  Production  Semences  Traitement  Variation de stock  \n",
      "0    53000000        0    53000000         0           0                   0  \n",
      "1    39000000  2000000     3000000         0           0                   0  \n",
      "2     2000000        0           0         0           0                   0  \n",
      "3           0        0           0         0           0                   0  \n",
      "4    82000000        0           0         0           0                   0  \n"
     ]
    }
   ],
   "source": [
    "#Affichage les 5 premières lignes de la table\n",
    "print(NewDispoAlimentaire_entier.head())"
   ]
  },
  {
   "cell_type": "markdown",
   "id": "a99b3100",
   "metadata": {},
   "source": [
    " Aliments pour animaux  Autres Utilisations  Disponibilité alimentaire (Kcal/personne/jour)  Disponibilité alimentaire en quantité (kg/personne/an)  Disponibilité de matière grasse en quantité (g/personne/jour)  Disponibilité de protéines en quantité (g/personne/jour)  ...  Nourriture   Pertes  Production  Semences  Traitement  Variation de stock\n",
    "0                      0                    0                                         5000000                                            1720000                                                  200000                                                         770000         ...    53000000        0    53000000         0           0                   0\n",
    "1                      0                    0                                         1000000                                            1290000                                                   10000                                                          20000         ...    39000000  2000000     3000000         0           0                   0\n",
    "2                      0                    0                                         1000000                                              60000                                                   10000                                                          30000         ...     2000000        0           0         0           0                   0\n",
    "3                      0                    0                                               0                                                  0                                                       0                                                              0         ...           0        0           0         0           0                   0\n",
    "4                      0                    0                                         4000000                                            2700000                                                   20000                                                          50000         ...    82000000        0           0         0           0                   0"
   ]
  },
  {
   "cell_type": "markdown",
   "id": "a09233e4",
   "metadata": {},
   "source": [
    "<div style=\"border: 1px solid RGB(0,150,250);\" >\n",
    "<h3 style=\"margin: auto; padding: 20px; color: RGB(0,150,250); \">2.3 - Analyse exploratoire du fichier aide alimentaire</h3>\n",
    "</div>"
   ]
  },
  {
   "cell_type": "code",
<<<<<<< HEAD
   "execution_count": 632,
=======
   "execution_count": 1416,
>>>>>>> 7a3849ab3370f396efa32897aa7c73e573d96985
   "id": "702f6322",
   "metadata": {},
   "outputs": [
    {
     "name": "stdout",
     "output_type": "stream",
     "text": [
      "Le tableau comporte 1475 observation(s) ou article(s)\n",
      "Le tableau comporte 4 colonne(s)\n"
     ]
    }
   ],
   "source": [
    "#Afficher les dimensions du dataset\n",
    "print(\"Le tableau comporte {} observation(s) ou article(s)\".format(aideAlimentaire.shape[0]))\n",
    "print(\"Le tableau comporte {} colonne(s)\".format(aideAlimentaire.shape[1]))"
   ]
  },
  {
   "cell_type": "code",
<<<<<<< HEAD
   "execution_count": 633,
=======
   "execution_count": 1417,
>>>>>>> 7a3849ab3370f396efa32897aa7c73e573d96985
   "id": "8fead3f9",
   "metadata": {},
   "outputs": [
    {
     "name": "stdout",
     "output_type": "stream",
     "text": [
      "Le nombre de colonnes est : 4\n"
     ]
    }
   ],
   "source": [
    "#Consulter le nombre de colonnes\n",
    "print(\"Le nombre de colonnes est : {}\".format(aideAlimentaire.shape[1]))\n"
   ]
  },
  {
   "cell_type": "code",
<<<<<<< HEAD
   "execution_count": 634,
=======
   "execution_count": 1418,
>>>>>>> 7a3849ab3370f396efa32897aa7c73e573d96985
   "id": "443ec245",
   "metadata": {},
   "outputs": [
    {
     "name": "stdout",
     "output_type": "stream",
     "text": [
      "les 5 premières lignes de la table aideAlimentaire sont : \n",
      "  Pays bénéficiaire  Année              Produit  Valeur\n",
      "0       Afghanistan   2013  Autres non-céréales     682\n",
      "1       Afghanistan   2014  Autres non-céréales     335\n",
      "2       Afghanistan   2013         Blé et Farin   39224\n",
      "3       Afghanistan   2014         Blé et Farin   15160\n",
      "4       Afghanistan   2013             Céréales   40504\n"
     ]
    }
   ],
   "source": [
    "#Affichage les 5 premières lignes de la table\n",
    "print(\"les 5 premières lignes de la table aideAlimentaire sont : \")\n",
    "print(aideAlimentaire.head())"
   ]
  },
  {
   "cell_type": "code",
<<<<<<< HEAD
   "execution_count": 635,
=======
   "execution_count": 1419,
>>>>>>> 7a3849ab3370f396efa32897aa7c73e573d96985
   "id": "af47212b",
   "metadata": {},
   "outputs": [
    {
     "name": "stdout",
     "output_type": "stream",
     "text": [
      "          Zone  Année              Produit  Valeur\n",
      "0  Afghanistan   2013  Autres non-céréales     682\n",
      "1  Afghanistan   2014  Autres non-céréales     335\n",
      "2  Afghanistan   2013         Blé et Farin   39224\n",
      "3  Afghanistan   2014         Blé et Farin   15160\n",
      "4  Afghanistan   2013             Céréales   40504\n"
     ]
    }
   ],
   "source": [
    "#changement du nom de la colonne Pays bénéficiaire par Zone\n",
    "aideAlimentaire.rename(columns={'Pays bénéficiaire':'Zone'}, inplace=True)\n",
    "print(aideAlimentaire.head())\n"
   ]
  },
  {
   "cell_type": "code",
<<<<<<< HEAD
   "execution_count": 636,
=======
   "execution_count": 1420,
>>>>>>> 7a3849ab3370f396efa32897aa7c73e573d96985
   "id": "c32cd1d8",
   "metadata": {},
   "outputs": [],
   "source": [
    "#Multiplication de la colonne Aide_alimentaire qui contient des tonnes par 1000 pour avoir des kg\n",
    "aideAlimentaire['Valeur'] = aideAlimentaire['Valeur']*1000\n"
   ]
  },
  {
   "cell_type": "code",
<<<<<<< HEAD
   "execution_count": 637,
=======
   "execution_count": 1421,
>>>>>>> 7a3849ab3370f396efa32897aa7c73e573d96985
   "id": "d951d8df",
   "metadata": {},
   "outputs": [
    {
     "name": "stdout",
     "output_type": "stream",
     "text": [
      "          Zone  Année              Produit    Valeur\n",
      "0  Afghanistan   2013  Autres non-céréales    682000\n",
      "1  Afghanistan   2014  Autres non-céréales    335000\n",
      "2  Afghanistan   2013         Blé et Farin  39224000\n",
      "3  Afghanistan   2014         Blé et Farin  15160000\n",
      "4  Afghanistan   2013             Céréales  40504000\n"
     ]
    }
   ],
   "source": [
    "#Affichage les 5 premières lignes de la table\n",
    "print(aideAlimentaire.head())"
   ]
  },
  {
   "cell_type": "markdown",
   "id": "eeae9043",
   "metadata": {},
   "source": [
    "<div style=\"border: 1px solid RGB(0,150,250);\" >\n",
    "<h3 style=\"margin: auto; padding: 20px; color: RGB(0,150,250); \">2.3 - Analyse exploratoire du fichier sous nutrition</h3>\n",
    "</div>"
   ]
  },
  {
   "cell_type": "code",
<<<<<<< HEAD
   "execution_count": 638,
=======
   "execution_count": 1422,
>>>>>>> 7a3849ab3370f396efa32897aa7c73e573d96985
   "id": "882add3d",
   "metadata": {},
   "outputs": [
    {
     "name": "stdout",
     "output_type": "stream",
     "text": [
      "Le tableau comporte 1218 observation(s) ou article(s)\n"
     ]
    }
   ],
   "source": [
    "#Afficher les dimensions du dataset\n",
    "print(\"Le tableau comporte {} observation(s) ou article(s)\".format(sousNutrition.shape[0]))\n"
   ]
  },
  {
   "cell_type": "code",
<<<<<<< HEAD
   "execution_count": 639,
=======
   "execution_count": 1423,
>>>>>>> 7a3849ab3370f396efa32897aa7c73e573d96985
   "id": "70c1a7a9",
   "metadata": {},
   "outputs": [
    {
     "name": "stdout",
     "output_type": "stream",
     "text": [
      "Le tableau comporte 3 colonne(s)\n"
     ]
    }
   ],
   "source": [
    "#Consulter le nombre de colonnes\n",
    "print(\"Le tableau comporte {} colonne(s)\".format(sousNutrition.shape[1]))"
   ]
  },
  {
   "cell_type": "code",
<<<<<<< HEAD
   "execution_count": 640,
=======
   "execution_count": 1424,
>>>>>>> 7a3849ab3370f396efa32897aa7c73e573d96985
   "id": "5c6469e5",
   "metadata": {},
   "outputs": [
    {
     "name": "stdout",
     "output_type": "stream",
     "text": [
      "          Zone      Année Valeur\n",
      "0  Afghanistan  2012-2014    8.6\n",
      "1  Afghanistan  2013-2015    8.8\n",
      "2  Afghanistan  2014-2016    8.9\n",
      "3  Afghanistan  2015-2017    9.7\n",
      "4  Afghanistan  2016-2018   10.5\n"
     ]
    }
   ],
   "source": [
    "#Afficher les 5 premières lignes de la table\n",
    "print(sousNutrition.head())\n"
   ]
  },
  {
   "cell_type": "code",
<<<<<<< HEAD
   "execution_count": 641,
=======
   "execution_count": 1425,
>>>>>>> 7a3849ab3370f396efa32897aa7c73e573d96985
   "id": "11b6a6c8",
   "metadata": {},
   "outputs": [],
   "source": [
    "#Conversion de la colonne sous nutrition en numérique\n",
    "sousNutrition['Valeur'] = pd.to_numeric(sousNutrition['Valeur'], errors='coerce')"
   ]
  },
  {
   "cell_type": "code",
<<<<<<< HEAD
   "execution_count": 642,
=======
   "execution_count": 1426,
>>>>>>> 7a3849ab3370f396efa32897aa7c73e573d96985
   "id": "d31d2724",
   "metadata": {},
   "outputs": [
    {
     "name": "stdout",
     "output_type": "stream",
     "text": [
      "0        8.6\n",
      "1        8.8\n",
      "2        8.9\n",
      "3        9.7\n",
      "4       10.5\n",
      "        ... \n",
      "1213     0.0\n",
      "1214     0.0\n",
      "1215     0.0\n",
      "1216     0.0\n",
      "1217     0.0\n",
      "Name: Valeur, Length: 1218, dtype: float64\n"
     ]
    }
   ],
   "source": [
    "#Conversion de la colonne (avec l'argument errors=coerce qui permet de convertir automatiquement les lignes qui ne sont pas des nombres en NaN)\n",
    "#Puis remplacement des NaN en 0\n",
    "sousNutrition['Valeur'] = sousNutrition['Valeur'].fillna(0)\n",
    "print(sousNutrition['Valeur'])\n"
   ]
  },
  {
   "cell_type": "code",
<<<<<<< HEAD
   "execution_count": 643,
=======
   "execution_count": 1427,
>>>>>>> 7a3849ab3370f396efa32897aa7c73e573d96985
   "id": "34c98232",
   "metadata": {},
   "outputs": [
    {
     "name": "stdout",
     "output_type": "stream",
     "text": [
      "             Zone      Année  sous_nutrition\n",
      "0     Afghanistan  2012-2014             8.6\n",
      "1     Afghanistan  2013-2015             8.8\n",
      "2     Afghanistan  2014-2016             8.9\n",
      "3     Afghanistan  2015-2017             9.7\n",
      "4     Afghanistan  2016-2018            10.5\n",
      "...           ...        ...             ...\n",
      "1213     Zimbabwe  2013-2015             0.0\n",
      "1214     Zimbabwe  2014-2016             0.0\n",
      "1215     Zimbabwe  2015-2017             0.0\n",
      "1216     Zimbabwe  2016-2018             0.0\n",
      "1217     Zimbabwe  2017-2019             0.0\n",
      "\n",
      "[1218 rows x 3 columns]\n"
     ]
    }
   ],
   "source": [
    "#changement du nom de la colonne Valeur par sous_nutrition\n",
    "sousNutrition = sousNutrition.rename(columns={'Valeur': 'sous_nutrition'})\n",
    "print(sousNutrition)"
   ]
  },
  {
   "cell_type": "code",
<<<<<<< HEAD
   "execution_count": 644,
=======
   "execution_count": 1428,
>>>>>>> 7a3849ab3370f396efa32897aa7c73e573d96985
   "id": "002110fa",
   "metadata": {},
   "outputs": [],
   "source": [
    "#Multiplication de la colonne sous_nutrition par 1000000\n",
    "sousNutrition['sous_nutrition'] *= 1000000\n",
    "\n",
    "# Conversion en chiffres entiers\n",
    "sousNutrition['sous_nutrition'] = sousNutrition['sous_nutrition'].astype(int)\n"
   ]
  },
  {
   "cell_type": "code",
<<<<<<< HEAD
   "execution_count": 645,
=======
   "execution_count": 1429,
>>>>>>> 7a3849ab3370f396efa32897aa7c73e573d96985
   "id": "58259b55",
   "metadata": {},
   "outputs": [
    {
     "name": "stdout",
     "output_type": "stream",
     "text": [
      "          Zone      Année  sous_nutrition\n",
      "0  Afghanistan  2012-2014         8600000\n",
      "1  Afghanistan  2013-2015         8800000\n",
      "2  Afghanistan  2014-2016         8900000\n",
      "3  Afghanistan  2015-2017         9700000\n",
      "4  Afghanistan  2016-2018        10500000\n"
     ]
    }
   ],
   "source": [
    "#Afficher les 5 premières lignes de la table\n",
    "print(sousNutrition.head())"
   ]
  },
  {
   "cell_type": "markdown",
   "id": "df6dcabd",
   "metadata": {},
   "source": [
    "<div style=\"border: 1px solid RGB(0,150,250);\" >\n",
    "<h3 style=\"margin: auto; padding: 20px; color: RGB(0,150,250); \">3.1 - Proportion de personnes en sous nutrition</h3>\n",
    "</div>"
   ]
  },
  {
   "cell_type": "code",
<<<<<<< HEAD
   "execution_count": 646,
=======
   "execution_count": 1430,
>>>>>>> 7a3849ab3370f396efa32897aa7c73e573d96985
   "id": "a63e1567",
   "metadata": {},
   "outputs": [],
   "source": [
    "# Faire concorder les structures des données pour les jointures (Année des tables de population et de sous-nutrition)\n",
    "\n",
    "# TRAVAIL SUR LA TABLE SOUS NUTRITION\n",
    "\n",
    "# Déploiement du groupe d'année sur une ligne ['2012-2014'] => ['2012', '2013', '2014']\n",
    "sousNutrition['Année'] = sousNutrition['Année'].apply(lambda x: '-'.join([str(year) for year in range(int(x.split('-')[0]), int(x.split('-')[1]) + 1)]))\n",
    "\n",
    "# Dupliquer les lignes pour chaque année\n",
    "sousNutrition = sousNutrition.assign(Année=sousNutrition['Année'].str.split('-')).explode('Année')\n",
    "# Réinitialiser les index /garantit que chaque ligne a un index unique et que les index sont contigus, ce qui facilite l'accès et la manipulation des données.\n",
    "sousNutrition = sousNutrition.reset_index(drop=True)\n",
    "\n",
    "# Convertir la colonne 'Année' en type entier (int)\n",
    "sousNutrition['Année'] = sousNutrition['Année'].astype(int)\n",
    "\n",
    "# ************************************************************\n",
    "\n",
    "\n",
    "# Jointure entre les tables population et sousNutrition\n",
    "jointure = pd.merge(sousNutrition, population, on=['Zone', 'Année'])\n",
    "\n",
    "# Filtrer les résultats pour ne conserver que les lignes avec l'année 2017\n",
    "resultats_2017 = jointure[jointure['Année'] == 2017]\n",
    "\n",
    "\n",
    "\n",
    "\n",
    "\n"
   ]
  },
  {
   "cell_type": "code",
<<<<<<< HEAD
   "execution_count": 647,
=======
   "execution_count": 1431,
>>>>>>> 7a3849ab3370f396efa32897aa7c73e573d96985
   "id": "731eea39",
   "metadata": {},
   "outputs": [
    {
     "name": "stdout",
     "output_type": "stream",
     "text": [
      "                Zone  Année  sous_nutrition  Population\n",
      "11       Afghanistan   2017         9700000   36296.113\n",
      "12       Afghanistan   2017        10500000   36296.113\n",
      "13       Afghanistan   2017        11100000   36296.113\n",
      "27    Afrique du Sud   2017         3000000   57009.756\n",
      "28    Afrique du Sud   2017         3100000   57009.756\n",
      "...              ...    ...             ...         ...\n",
      "3228          Zambie   2017               0   16853.599\n",
      "3229          Zambie   2017               0   16853.599\n",
      "3243        Zimbabwe   2017               0   14236.595\n",
      "3244        Zimbabwe   2017               0   14236.595\n",
      "3245        Zimbabwe   2017               0   14236.595\n",
      "\n",
      "[609 rows x 4 columns]\n"
     ]
    }
   ],
   "source": [
    "#Affichage du dataset\n",
    "# Afficher le DataFrame résultant\n",
    "print(resultats_2017)"
   ]
  },
  {
   "cell_type": "code",
<<<<<<< HEAD
   "execution_count": 648,
   "id": "28e2741f",
   "metadata": {},
   "outputs": [
    {
     "name": "stdout",
     "output_type": "stream",
     "text": [
      "Le nombre de personnes en état de sous nutrition en 2017 est de :  1 608 499 999\n"
     ]
    }
   ],
   "source": [
    "#Calcul et affichage du nombre de personnes en état de sous nutrition\n",
    "\n",
    "resultat_formate = '{:,}'.format(resultats_2017['sous_nutrition'].sum()).replace(',', ' ')\n",
    "print(\"Le nombre de personnes en état de sous nutrition en 2017 est de : \", resultat_formate)\n",
    "\n",
    "\n",
    "\n",
    "\n",
    "\n"
=======
   "execution_count": 1432,
   "id": "28e2741f",
   "metadata": {},
   "outputs": [],
   "source": [
    "#Calcul et affichage du nombre de personnes en état de sous nutrition\n"
>>>>>>> 7a3849ab3370f396efa32897aa7c73e573d96985
   ]
  },
  {
   "cell_type": "markdown",
   "id": "b4134a24",
   "metadata": {},
   "source": [
    "<div style=\"border: 1px solid RGB(0,150,250);\" >\n",
    "<h3 style=\"margin: auto; padding: 20px; color: RGB(0,150,250); \">3.2 - Nombre théorique de personne qui pourrait être nourries</h3>\n",
    "</div>"
   ]
  },
  {
   "cell_type": "code",
<<<<<<< HEAD
   "execution_count": 649,
=======
   "execution_count": 1433,
>>>>>>> 7a3849ab3370f396efa32897aa7c73e573d96985
   "id": "2b63df85",
   "metadata": {},
   "outputs": [],
   "source": [
    "#Combien mange en moyenne un être humain ? Source => "
   ]
  },
  {
   "cell_type": "code",
<<<<<<< HEAD
   "execution_count": 650,
=======
   "execution_count": 1434,
>>>>>>> 7a3849ab3370f396efa32897aa7c73e573d96985
   "id": "5e3f262d",
   "metadata": {},
   "outputs": [],
   "source": [
    "#On commence par faire une jointure entre le data frame population et Dispo_alimentaire afin d'ajouter dans ce dernier la population\n"
   ]
  },
  {
   "cell_type": "code",
<<<<<<< HEAD
   "execution_count": 651,
=======
   "execution_count": 1435,
>>>>>>> 7a3849ab3370f396efa32897aa7c73e573d96985
   "id": "4538126c",
   "metadata": {},
   "outputs": [],
   "source": [
    "#Affichage du nouveau dataframe\n"
   ]
  },
  {
   "cell_type": "code",
<<<<<<< HEAD
   "execution_count": 652,
=======
   "execution_count": 1436,
>>>>>>> 7a3849ab3370f396efa32897aa7c73e573d96985
   "id": "5305ba25",
   "metadata": {},
   "outputs": [],
   "source": [
    "#Création de la colonne dispo_kcal avec calcul des kcal disponibles mondialement\n"
   ]
  },
  {
   "cell_type": "code",
<<<<<<< HEAD
   "execution_count": 653,
=======
   "execution_count": 1437,
>>>>>>> 7a3849ab3370f396efa32897aa7c73e573d96985
   "id": "a6d4af90",
   "metadata": {},
   "outputs": [],
   "source": [
    "#Calcul du nombre d'humains pouvant être nourris\n"
   ]
  },
  {
   "cell_type": "markdown",
   "id": "e97c8886",
   "metadata": {},
   "source": [
    "<div style=\"border: 1px solid RGB(0,150,250);\" >\n",
    "<h3 style=\"margin: auto; padding: 20px; color: RGB(0,150,250); \">3.3 - Nombre théorique de personne qui pourrait être nourrie avec les produits végétaux</h3>\n",
    "</div>"
   ]
  },
  {
   "cell_type": "code",
<<<<<<< HEAD
   "execution_count": 654,
=======
   "execution_count": 1438,
>>>>>>> 7a3849ab3370f396efa32897aa7c73e573d96985
   "id": "c2e3c87c",
   "metadata": {},
   "outputs": [],
   "source": [
    "#Transfert des données avec les végétaux dans un nouveau dataframe\n"
   ]
  },
  {
   "cell_type": "code",
<<<<<<< HEAD
   "execution_count": 655,
=======
   "execution_count": 1439,
>>>>>>> 7a3849ab3370f396efa32897aa7c73e573d96985
   "id": "534f3ad7",
   "metadata": {},
   "outputs": [],
   "source": [
    "#Calcul du nombre de kcal disponible pour les végétaux\n"
   ]
  },
  {
   "cell_type": "code",
<<<<<<< HEAD
   "execution_count": 656,
=======
   "execution_count": 1440,
>>>>>>> 7a3849ab3370f396efa32897aa7c73e573d96985
   "id": "8c82da41",
   "metadata": {},
   "outputs": [],
   "source": [
    "#Calcul du nombre d'humains pouvant être nourris avec les végétaux\n"
   ]
  },
  {
   "cell_type": "markdown",
   "id": "cd07afb1",
   "metadata": {},
   "source": [
    "<div style=\"border: 1px solid RGB(0,150,250);\" >\n",
    "<h3 style=\"margin: auto; padding: 20px; color: RGB(0,150,250); \">3.4 - Utilisation de la disponibilité intérieure</h3>\n",
    "</div>"
   ]
  },
  {
   "cell_type": "code",
<<<<<<< HEAD
   "execution_count": 657,
=======
   "execution_count": 1441,
>>>>>>> 7a3849ab3370f396efa32897aa7c73e573d96985
   "id": "71328746",
   "metadata": {},
   "outputs": [],
   "source": [
    "#Calcul de la disponibilité totale\n"
   ]
  },
  {
   "cell_type": "code",
<<<<<<< HEAD
   "execution_count": 658,
=======
   "execution_count": 1442,
>>>>>>> 7a3849ab3370f396efa32897aa7c73e573d96985
   "id": "03248095",
   "metadata": {},
   "outputs": [],
   "source": [
    "#création d'une boucle for pour afficher les différentes valeurs en fonction des colonnes aliments pour animaux, pertes, nourritures, \n"
   ]
  },
  {
   "cell_type": "markdown",
   "id": "141d05df",
   "metadata": {},
   "source": [
    "<div style=\"border: 1px solid RGB(0,150,250);\" >\n",
    "<h3 style=\"margin: auto; padding: 20px; color: RGB(0,150,250); \">3.5 - Utilisation des céréales</h3>\n",
    "</div>"
   ]
  },
  {
   "cell_type": "code",
<<<<<<< HEAD
   "execution_count": 659,
=======
   "execution_count": 1443,
>>>>>>> 7a3849ab3370f396efa32897aa7c73e573d96985
   "id": "c27448ff",
   "metadata": {},
   "outputs": [],
   "source": [
    "#Création d'une liste avec toutes les variables\n"
   ]
  },
  {
   "cell_type": "code",
<<<<<<< HEAD
   "execution_count": 660,
=======
   "execution_count": 1444,
>>>>>>> 7a3849ab3370f396efa32897aa7c73e573d96985
   "id": "5dc5586d",
   "metadata": {},
   "outputs": [],
   "source": [
    "#Création d'un dataframe avec les informations uniquement pour ces céréales\n"
   ]
  },
  {
   "cell_type": "code",
<<<<<<< HEAD
   "execution_count": 661,
=======
   "execution_count": 1445,
>>>>>>> 7a3849ab3370f396efa32897aa7c73e573d96985
   "id": "8365de95",
   "metadata": {},
   "outputs": [],
   "source": [
    "#Affichage de la proportion d'alimentation animale\n"
   ]
  },
  {
   "cell_type": "code",
<<<<<<< HEAD
   "execution_count": 662,
=======
   "execution_count": 1446,
>>>>>>> 7a3849ab3370f396efa32897aa7c73e573d96985
   "id": "6f5e93c7",
   "metadata": {},
   "outputs": [],
   "source": [
    "#Affichage de la proportion d'alimentation animale\n"
   ]
  },
  {
   "cell_type": "markdown",
   "id": "a603be79",
   "metadata": {},
   "source": [
    "<div style=\"border: 1px solid RGB(0,150,250);\" >\n",
    "<h3 style=\"margin: auto; padding: 20px; color: RGB(0,150,250); \">3.6 - Pays avec la proportion de personnes sous-alimentée la plus forte en 2017</h3>\n",
    "</div>"
   ]
  },
  {
   "cell_type": "code",
<<<<<<< HEAD
   "execution_count": 663,
=======
   "execution_count": 1447,
>>>>>>> 7a3849ab3370f396efa32897aa7c73e573d96985
   "id": "1884c270",
   "metadata": {},
   "outputs": [],
   "source": [
    "#Création de la colonne proportion par pays\n"
   ]
  },
  {
   "cell_type": "code",
<<<<<<< HEAD
   "execution_count": 664,
=======
   "execution_count": 1448,
>>>>>>> 7a3849ab3370f396efa32897aa7c73e573d96985
   "id": "25a185b6",
   "metadata": {},
   "outputs": [],
   "source": [
    "#affichage après trie des 10 pires pays\n"
   ]
  },
  {
   "cell_type": "markdown",
   "id": "4f610008",
   "metadata": {},
   "source": [
    "<div style=\"border: 1px solid RGB(0,150,250);\" >\n",
    "<h3 style=\"margin: auto; padding: 20px; color: RGB(0,150,250); \">3.7 - Pays qui ont le plus bénéficié d'aide alimentaire depuis 2013</h3>\n",
    "</div>"
   ]
  },
  {
   "cell_type": "code",
<<<<<<< HEAD
   "execution_count": 665,
=======
   "execution_count": 1449,
>>>>>>> 7a3849ab3370f396efa32897aa7c73e573d96985
   "id": "ff1b24a3",
   "metadata": {},
   "outputs": [],
   "source": [
    "#calcul du total de l'aide alimentaire par pays\n"
   ]
  },
  {
   "cell_type": "code",
<<<<<<< HEAD
   "execution_count": 666,
=======
   "execution_count": 1450,
>>>>>>> 7a3849ab3370f396efa32897aa7c73e573d96985
   "id": "ee1ac6fb",
   "metadata": {},
   "outputs": [],
   "source": [
    "#affichage après trie des 10 pays qui ont bénéficié le plus de l'aide alimentaire\n"
   ]
  },
  {
   "cell_type": "markdown",
   "id": "a361ce61",
   "metadata": {},
   "source": [
    "<div style=\"border: 1px solid RGB(0,150,250);\" >\n",
    "<h3 style=\"margin: auto; padding: 20px; color: RGB(0,150,250); \">3.8 - Evolution des 5 pays qui ont le plus bénéficiés de l'aide alimentaire entre 2013 et 2016</h3>\n",
    "</div>"
   ]
  },
  {
   "cell_type": "code",
<<<<<<< HEAD
   "execution_count": 667,
=======
   "execution_count": 1451,
>>>>>>> 7a3849ab3370f396efa32897aa7c73e573d96985
   "id": "09d55114",
   "metadata": {},
   "outputs": [],
   "source": [
    "#Création d'un dataframe avec la zone, l'année et l'aide alimentaire puis groupby sur zone et année \n"
   ]
  },
  {
   "cell_type": "code",
<<<<<<< HEAD
   "execution_count": 668,
=======
   "execution_count": 1452,
>>>>>>> 7a3849ab3370f396efa32897aa7c73e573d96985
   "id": "6bd577b0",
   "metadata": {},
   "outputs": [],
   "source": [
    "#Création d'une liste contenant les 5 pays qui ont le plus bénéficiées de l'aide alimentaire\n"
   ]
  },
  {
   "cell_type": "code",
<<<<<<< HEAD
   "execution_count": 669,
=======
   "execution_count": 1453,
>>>>>>> 7a3849ab3370f396efa32897aa7c73e573d96985
   "id": "41612dbd",
   "metadata": {},
   "outputs": [],
   "source": [
    "#On filtre sur le dataframe avec notre liste\n"
   ]
  },
  {
   "cell_type": "code",
<<<<<<< HEAD
   "execution_count": 670,
=======
   "execution_count": 1454,
>>>>>>> 7a3849ab3370f396efa32897aa7c73e573d96985
   "id": "5680e72d",
   "metadata": {},
   "outputs": [],
   "source": [
    "# Affichage des pays avec l'aide alimentaire par année\n"
   ]
  },
  {
   "cell_type": "markdown",
   "id": "bd392dac",
   "metadata": {},
   "source": [
    "<div style=\"border: 1px solid RGB(0,150,250);\" >\n",
    "<h3 style=\"margin: auto; padding: 20px; color: RGB(0,150,250); \">3.9 - Pays avec le moins de disponibilité par habitant</h3>\n",
    "</div>"
   ]
  },
  {
   "cell_type": "code",
<<<<<<< HEAD
   "execution_count": 671,
=======
   "execution_count": 1455,
>>>>>>> 7a3849ab3370f396efa32897aa7c73e573d96985
   "id": "fb3a378b",
   "metadata": {},
   "outputs": [],
   "source": [
    "#Calcul de la disponibilité en kcal par personne par jour par pays\n"
   ]
  },
  {
   "cell_type": "code",
<<<<<<< HEAD
   "execution_count": 672,
=======
   "execution_count": 1456,
>>>>>>> 7a3849ab3370f396efa32897aa7c73e573d96985
   "id": "70c0f689",
   "metadata": {},
   "outputs": [],
   "source": [
    "#Affichage des 10 pays qui ont le moins de dispo alimentaire par personne \n"
   ]
  },
  {
   "cell_type": "markdown",
   "id": "2553ed12",
   "metadata": {},
   "source": [
    "<div style=\"border: 1px solid RGB(0,150,250);\" >\n",
    "<h3 style=\"margin: auto; padding: 20px; color: RGB(0,150,250); \">3.10 - Pays avec le plus de disponibilité par habitant</h3>\n",
    "</div>"
   ]
  },
  {
   "cell_type": "code",
<<<<<<< HEAD
   "execution_count": 673,
=======
   "execution_count": 1457,
>>>>>>> 7a3849ab3370f396efa32897aa7c73e573d96985
   "id": "63e835c6",
   "metadata": {},
   "outputs": [],
   "source": [
    "#Affichage des 10 pays qui ont le plus de dispo alimentaire par personne \n"
   ]
  },
  {
   "cell_type": "markdown",
   "id": "58d7248b",
   "metadata": {},
   "source": [
    "<div style=\"border: 1px solid RGB(0,150,250);\" >\n",
    "<h3 style=\"margin: auto; padding: 20px; color: RGB(0,150,250); \">3.11 - Exemple de la Thaïlande pour le Manioc</h3>\n",
    "</div>"
   ]
  },
  {
   "cell_type": "code",
<<<<<<< HEAD
   "execution_count": 674,
=======
   "execution_count": 1458,
>>>>>>> 7a3849ab3370f396efa32897aa7c73e573d96985
   "id": "ec9ca912",
   "metadata": {},
   "outputs": [],
   "source": [
    "#création d'un dataframe avec uniquement la Thaïlande \n"
   ]
  },
  {
   "cell_type": "code",
<<<<<<< HEAD
   "execution_count": 675,
=======
   "execution_count": 1459,
>>>>>>> 7a3849ab3370f396efa32897aa7c73e573d96985
   "id": "85693912",
   "metadata": {},
   "outputs": [],
   "source": [
    "#Calcul de la sous nutrition en Thaïlande\n"
   ]
  },
  {
   "cell_type": "code",
<<<<<<< HEAD
   "execution_count": 676,
=======
   "execution_count": 1460,
>>>>>>> 7a3849ab3370f396efa32897aa7c73e573d96985
   "id": "f19cd96e",
   "metadata": {},
   "outputs": [],
   "source": [
    "# On calcule la proportion exportée en fonction de la proportion\n"
   ]
  },
  {
   "cell_type": "markdown",
   "id": "7de4e914",
   "metadata": {},
   "source": [
    "<div style=\"background-color: RGB(0,150,250);\" >\n",
    "<h2 style=\"margin: auto; padding: 20px; color:#fff; \">Etape 6 - Analyse complémentaires</h2>\n",
    "</div>"
   ]
  },
  {
   "cell_type": "code",
<<<<<<< HEAD
   "execution_count": 677,
=======
   "execution_count": 1461,
>>>>>>> 7a3849ab3370f396efa32897aa7c73e573d96985
   "id": "e42062e9",
   "metadata": {},
   "outputs": [],
   "source": [
    "#Rajouter en dessous toutes les analyses complémtaires suite à la demande de mélanie :\n",
    "#\"et toutes les infos que tu trouverais utiles pour mettre en relief les pays qui semblent être \n",
    "#le plus en difficulté au niveau alimentaire\""
   ]
  }
 ],
 "metadata": {
  "kernelspec": {
   "display_name": "Python 3",
   "language": "python",
   "name": "python3"
  },
  "language_info": {
   "codemirror_mode": {
    "name": "ipython",
    "version": 3
   },
   "file_extension": ".py",
   "mimetype": "text/x-python",
   "name": "python",
   "nbconvert_exporter": "python",
   "pygments_lexer": "ipython3",
   "version": "3.11.7"
  }
 },
 "nbformat": 4,
 "nbformat_minor": 5
}
