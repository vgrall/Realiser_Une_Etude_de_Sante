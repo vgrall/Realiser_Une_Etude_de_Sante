{
 "cells": [
  {
   "cell_type": "markdown",
   "id": "e7316a32",
   "metadata": {},
   "source": [
    "<div style=\" background-color: RGB(0,114,200);\" >\n",
    "<h1 style=\"margin: auto; padding: 20px 0; color:#fff; text-align: center\">PROJET 4 DATA ANALYST</h1>\n",
    "<h2 style=\"margin: auto; padding: 20px 0; color:#fff; text-align: center\">Réalisez une étude de santé publique avec R ou Python\n",
    "</h2>\n",
    "</div>"
   ]
  },
  {
   "cell_type": "markdown",
   "id": "c33bcf57",
   "metadata": {},
   "source": [
    "Note jeremy \n",
    "Est ce qu'il faut faire le calcul de la sous nutrition sur les pays qu'on a ? \n",
    "Est ce qu'il faut faire des graphiques ?\n",
    "Rajouter le soja\n",
    "La liste des céréales est difficile a trouver ..."
   ]
  },
  {
   "cell_type": "markdown",
   "id": "9dad8326",
   "metadata": {},
   "source": [
    "<div style=\"background-color: RGB(0,150,250);\" >\n",
    "<h2 style=\"margin: auto; padding: 20px; color:#fff; \">Etape 1 - Importation des librairies et chargement des fichiers</h2>\n",
    "</div>"
   ]
  },
  {
   "cell_type": "markdown",
   "id": "4ee69457",
   "metadata": {},
   "source": [
    "<div style=\"border: 1px solid RGB(0,150,250);\" >\n",
    "<h3 style=\"margin: auto; padding: 20px; color: RGB(0,150,250); \">1.1 - Importation des librairies</h3>\n",
    "</div>"
   ]
  },
  {
   "cell_type": "code",
   "execution_count": 56,
   "id": "ffe62b56",
   "metadata": {},
   "outputs": [],
   "source": [
    "#Importation de la librairie Pandas\n",
    "import pandas as pd"
   ]
  },
  {
   "cell_type": "markdown",
   "id": "8bd8e7ed",
   "metadata": {},
   "source": [
    "<div style=\"border: 1px solid RGB(0,150,250);\" >\n",
    "<h3 style=\"margin: auto; padding: 20px; color: RGB(0,150,250); \">1.2 - Chargement des fichiers Excel</h3>\n",
    "</div>"
   ]
  },
  {
   "cell_type": "code",
   "execution_count": 57,
   "id": "b304f108",
   "metadata": {},
   "outputs": [],
   "source": [
    "#Importation du fichier population.csv\n",
    "population = pd.read_csv('population.csv')\n",
    "\n",
    "#Importation du fichier dispo_alimentaire.csv\n",
    "dispoAlimentaire = pd.read_csv('dispo_alimentaire.csv')\n",
    "\n",
    "#Importation du fichier aide_alimentaire.csv\n",
    "aideAlimentaire = pd.read_csv('aide_alimentaire.csv')\n",
    "\n",
    "#Importation du fichier sous_nutrition.csv\n",
    "sousNutrition = pd.read_csv('sous_nutrition.csv')"
   ]
  },
  {
   "cell_type": "markdown",
   "id": "1249847a",
   "metadata": {},
   "source": [
    "<div style=\"background-color: RGB(0,150,250);\" >\n",
    "<h2 style=\"margin: auto; padding: 20px; color:#fff; \">Etape 2 - Analyse exploratoire des fichiers</h2>\n",
    "</div>"
   ]
  },
  {
   "cell_type": "markdown",
   "id": "235e6e91",
   "metadata": {},
   "source": [
    "<div style=\"border: 1px solid RGB(0,150,250);\" >\n",
    "<h3 style=\"margin: auto; padding: 20px; color: RGB(0,150,250); \">2.1 - Analyse exploratoire du fichier population</h3>\n",
    "</div>"
   ]
  },
  {
   "cell_type": "code",
   "execution_count": 58,
   "id": "e6b639d2",
   "metadata": {},
   "outputs": [
    {
     "name": "stdout",
     "output_type": "stream",
     "text": [
      "Le tableau comporte 1416 observation(s) ou article(s)\n",
      "Le tableau comporte 3 colonne(s)\n"
     ]
    }
   ],
   "source": [
    "#Afficher les dimensions du dataset\n",
    "print(\"Le tableau comporte {} observation(s) ou article(s)\".format(population.shape[0]))\n",
    "print(\"Le tableau comporte {} colonne(s)\".format(population.shape[1]))"
   ]
  },
  {
   "cell_type": "code",
   "execution_count": 59,
   "id": "08f5061e",
   "metadata": {},
   "outputs": [
    {
     "name": "stdout",
     "output_type": "stream",
     "text": [
      "Le tableau comporte 3 colonne(s)\n",
      "La nature des colonnes est :\n",
      "              0\n",
      "Zone     object\n",
      "Année     int64\n",
      "Valeur  float64\n",
      "Le nombre de valeurs présentes dans chacune des colonnes est :\n",
      "Zone      1416\n",
      "Année     1416\n",
      "Valeur    1416\n",
      "dtype: int64\n"
     ]
    }
   ],
   "source": [
    "#Consulter le nombre de colonnes\n",
    "print(\"Le tableau comporte {} colonne(s)\".format(len(population.columns)))\n",
    "\n",
    "#La nature des données dans chacune des colonnes\n",
    "# Convertir la série des types de données en un DataFrame\n",
    "dtypes_df = population.dtypes.to_frame()\n",
    "# Formater le DataFrame en une chaîne\n",
    "dtypes_str = dtypes_df.to_string()\n",
    "# Afficher le résultat\n",
    "print(\"La nature des colonnes est :\\n{}\".format(dtypes_str))\n",
    "\n",
    "#Le nombre de valeurs présentes dans chacune des colonnes\n",
    "print(\"Le nombre de valeurs présentes dans chacune des colonnes est :\\n{}\".format(population.count()))"
   ]
  },
  {
   "cell_type": "markdown",
   "id": "d2a1eb61",
   "metadata": {},
   "source": [
    "Le tableau comporte 3 colonne(s)\n",
    "\n",
    "La nature des colonnes est :\n",
    "Zone     object\n",
    "Année     int64\n",
    "Valeur  float64\n",
    "\n",
    "Le nombre de valeurs présentes dans chacune des colonnes est :\n",
    "Zone      1416\n",
    "Année     1416\n",
    "Valeur    1416"
   ]
  },
  {
   "cell_type": "code",
   "execution_count": 60,
   "id": "3e50d9e6",
   "metadata": {},
   "outputs": [
    {
     "name": "stdout",
     "output_type": "stream",
     "text": [
      "Les 5 premières lignes de la table population\n",
      "          Zone  Année     Valeur\n",
      "0  Afghanistan   2013  32269.589\n",
      "1  Afghanistan   2014  33370.794\n",
      "2  Afghanistan   2015  34413.603\n",
      "3  Afghanistan   2016  35383.032\n",
      "4  Afghanistan   2017  36296.113\n"
     ]
    }
   ],
   "source": [
    "#Affichage les 5 premières lignes de la table\n",
    "print(\"Les 5 premières lignes de la table population\")\n",
    "print(population.head())\n"
   ]
  },
  {
   "cell_type": "markdown",
   "id": "927c83f9",
   "metadata": {},
   "source": [
    "Les 5 premières lignes de la table population\n",
    "          Zone  Année     Valeur\n",
    "0  Afghanistan   2013  32269.589\n",
    "1  Afghanistan   2014  33370.794\n",
    "2  Afghanistan   2015  34413.603\n",
    "3  Afghanistan   2016  35383.032\n",
    "4  Afghanistan   2017  36296.113"
   ]
  },
  {
   "cell_type": "code",
   "execution_count": 61,
   "id": "ab1a4af4",
   "metadata": {},
   "outputs": [
    {
     "name": "stdout",
     "output_type": "stream",
     "text": [
      "Nous allons harmoniser les unités en multipliant la population par 1000.\n",
      "Nous avons harmonisé les unités en multipliant la population par 1000 :\n",
      "             Zone  Année     Valeur  Population\n",
      "0     Afghanistan   2013  32269.589    32269589\n",
      "1     Afghanistan   2014  33370.794    33370794\n",
      "2     Afghanistan   2015  34413.603    34413603\n",
      "3     Afghanistan   2016  35383.032    35383032\n",
      "4     Afghanistan   2017  36296.113    36296113\n",
      "...           ...    ...        ...         ...\n",
      "1411     Zimbabwe   2014  13586.707    13586707\n",
      "1412     Zimbabwe   2015  13814.629    13814629\n",
      "1413     Zimbabwe   2016  14030.331    14030331\n",
      "1414     Zimbabwe   2017  14236.595    14236595\n",
      "1415     Zimbabwe   2018  14438.802    14438802\n",
      "\n",
      "[1416 rows x 4 columns]\n"
     ]
    }
   ],
   "source": [
    "#Nous allons harmoniser les unités. Pour cela, nous avons décidé de multiplier la population par 1000\n",
    "#Multiplication de la colonne valeur par 1000\n",
    "\n",
    "print(\"Nous allons harmoniser les unités en multipliant la population par 1000.\")\n",
    "\n",
    "# Multiplication de la colonne \"Valeur\" par 1000\n",
    "population['Population'] = population['Valeur'] * 1000\n",
    "\n",
    "# Convertir les valeurs en entiers\n",
    "population['Population'] = population['Population'].astype(int)\n",
    "\n",
    "# Afficher le résultat\n",
    "print(\"Nous avons harmonisé les unités en multipliant la population par 1000 :\\n{}\".format(population))\n"
   ]
  },
  {
   "cell_type": "markdown",
   "id": "e7dca7d6",
   "metadata": {},
   "source": [
    "Nous avons harmonisé les unités en multipliant la population par 1000 :\n",
    "0       32269589\n",
    "1       33370794\n",
    "2       34413603\n",
    "3       35383032\n",
    "4       36296113\n",
    "          ...   \n",
    "1411    13586707\n",
    "1412    13814629\n",
    "1413    14030331\n",
    "1414    14236595\n",
    "1415    14438802"
   ]
  },
  {
   "cell_type": "code",
   "execution_count": 62,
   "id": "38836b61",
   "metadata": {},
   "outputs": [
    {
     "name": "stdout",
     "output_type": "stream",
     "text": [
      "          Zone  Année  Population\n",
      "0  Afghanistan   2013    32269589\n",
      "1  Afghanistan   2014    33370794\n",
      "2  Afghanistan   2015    34413603\n",
      "3  Afghanistan   2016    35383032\n",
      "4  Afghanistan   2017    36296113\n"
     ]
    }
   ],
   "source": [
    "# Supprimer la colonne \"Valeur\" originale\n",
    "population.drop(columns=['Valeur'], inplace=True)\n",
    "\n",
    "# Afficher le résultat\n",
    "print(population.head())"
   ]
  },
  {
   "cell_type": "markdown",
   "id": "7347cc69",
   "metadata": {},
   "source": [
    "   Zone  Année  Population\n",
    "0  Afghanistan   2013   32269.589\n",
    "1  Afghanistan   2014   33370.794\n",
    "2  Afghanistan   2015   34413.603\n",
    "3  Afghanistan   2016   35383.032\n",
    "4  Afghanistan   2017   36296.113"
   ]
  },
  {
   "cell_type": "markdown",
   "id": "4224b896",
   "metadata": {},
   "source": [
    "<div style=\"border: 1px solid RGB(0,150,250);\" >\n",
    "<h3 style=\"margin: auto; padding: 20px; color: RGB(0,150,250); \">2.2 - Analyse exploratoire du fichier disponibilité alimentaire</h3>\n",
    "</div>"
   ]
  },
  {
   "cell_type": "code",
   "execution_count": 63,
   "id": "38f5b838",
   "metadata": {},
   "outputs": [
    {
     "name": "stdout",
     "output_type": "stream",
     "text": [
      "Le tableau comporte 15605 observation(s) ou article(s)\n"
     ]
    }
   ],
   "source": [
    "#Afficher les dimensions du dataset\n",
    "\n",
    "print(\"Le tableau comporte {} observation(s) ou article(s)\".format(dispoAlimentaire.shape[0]))"
   ]
  },
  {
   "cell_type": "markdown",
   "id": "01195f35",
   "metadata": {},
   "source": [
    "Le tableau comporte 15605 observation(s) ou article(s)"
   ]
  },
  {
   "cell_type": "code",
   "execution_count": 64,
   "id": "99735a22",
   "metadata": {},
   "outputs": [
    {
     "name": "stdout",
     "output_type": "stream",
     "text": [
      "Le tableau comporte 18 colonne(s)\n"
     ]
    }
   ],
   "source": [
    "#Consulter le nombre de colonnes\n",
    "print(\"Le tableau comporte {} colonne(s)\".format(dispoAlimentaire.shape[1]))\n"
   ]
  },
  {
   "cell_type": "markdown",
   "id": "9d408e72",
   "metadata": {},
   "source": [
    "Le tableau comporte 18 colonne(s)"
   ]
  },
  {
   "cell_type": "code",
   "execution_count": 65,
   "id": "0058032d",
   "metadata": {},
   "outputs": [
    {
     "name": "stdout",
     "output_type": "stream",
     "text": [
      "Les 5 premières lignes de la table dispositions alimentaires sont :\n",
      "          Zone                Produit   Origine  Aliments pour animaux  \\\n",
      "0  Afghanistan       Abats Comestible   animale                    NaN   \n",
      "1  Afghanistan        Agrumes, Autres  vegetale                    NaN   \n",
      "2  Afghanistan  Aliments pour enfants  vegetale                    NaN   \n",
      "3  Afghanistan                 Ananas  vegetale                    NaN   \n",
      "4  Afghanistan                Bananes  vegetale                    NaN   \n",
      "\n",
      "   Autres Utilisations  Disponibilité alimentaire (Kcal/personne/jour)  \\\n",
      "0                  NaN                                             5.0   \n",
      "1                  NaN                                             1.0   \n",
      "2                  NaN                                             1.0   \n",
      "3                  NaN                                             0.0   \n",
      "4                  NaN                                             4.0   \n",
      "\n",
      "   Disponibilité alimentaire en quantité (kg/personne/an)  \\\n",
      "0                                               1.72        \n",
      "1                                               1.29        \n",
      "2                                               0.06        \n",
      "3                                               0.00        \n",
      "4                                               2.70        \n",
      "\n",
      "   Disponibilité de matière grasse en quantité (g/personne/jour)  \\\n",
      "0                                               0.20               \n",
      "1                                               0.01               \n",
      "2                                               0.01               \n",
      "3                                                NaN               \n",
      "4                                               0.02               \n",
      "\n",
      "   Disponibilité de protéines en quantité (g/personne/jour)  \\\n",
      "0                                               0.77          \n",
      "1                                               0.02          \n",
      "2                                               0.03          \n",
      "3                                                NaN          \n",
      "4                                               0.05          \n",
      "\n",
      "   Disponibilité intérieure  Exportations - Quantité  Importations - Quantité  \\\n",
      "0                      53.0                      NaN                      NaN   \n",
      "1                      41.0                      2.0                     40.0   \n",
      "2                       2.0                      NaN                      2.0   \n",
      "3                       0.0                      NaN                      0.0   \n",
      "4                      82.0                      NaN                     82.0   \n",
      "\n",
      "   Nourriture  Pertes  Production  Semences  Traitement  Variation de stock  \n",
      "0        53.0     NaN        53.0       NaN         NaN                 NaN  \n",
      "1        39.0     2.0         3.0       NaN         NaN                 NaN  \n",
      "2         2.0     NaN         NaN       NaN         NaN                 NaN  \n",
      "3         0.0     NaN         NaN       NaN         NaN                 NaN  \n",
      "4        82.0     NaN         NaN       NaN         NaN                 NaN  \n"
     ]
    }
   ],
   "source": [
    "#Affichage les 5 premières lignes de la table\n",
    "print(\"Les 5 premières lignes de la table dispositions alimentaires sont :\")\n",
    "print(dispoAlimentaire.head())\n"
   ]
  },
  {
   "cell_type": "markdown",
   "id": "8e54a0d6",
   "metadata": {},
   "source": [
    "Les 5 premières lignes de la table dispositions alimentaires sont :\n",
    "          Zone                Produit   Origine  Aliments pour animaux  Autres Utilisations  ...  Pertes  Production  Semences  Traitement  Variation de stock\n",
    "0  Afghanistan       Abats Comestible   animale                    NaN                  NaN  ...     NaN        53.0       NaN         NaN                 NaN\n",
    "1  Afghanistan        Agrumes, Autres  vegetale                    NaN                  NaN  ...     2.0         3.0       NaN         NaN                 NaN\n",
    "2  Afghanistan  Aliments pour enfants  vegetale                    NaN                  NaN  ...     NaN         NaN       NaN         NaN                 NaN\n",
    "3  Afghanistan                 Ananas  vegetale                    NaN                  NaN  ...     NaN         NaN       NaN         NaN                 NaN\n",
    "4  Afghanistan                Bananes  vegetale                    NaN                  NaN  ...     NaN         NaN       NaN         NaN                 NaN"
   ]
  },
  {
   "cell_type": "code",
   "execution_count": 66,
   "id": "f3832569",
   "metadata": {},
   "outputs": [
    {
     "name": "stdout",
     "output_type": "stream",
     "text": [
      "          Zone                Produit   Origine  Aliments pour animaux  \\\n",
      "0  Afghanistan       Abats Comestible   animale                    0.0   \n",
      "1  Afghanistan        Agrumes, Autres  vegetale                    0.0   \n",
      "2  Afghanistan  Aliments pour enfants  vegetale                    0.0   \n",
      "3  Afghanistan                 Ananas  vegetale                    0.0   \n",
      "4  Afghanistan                Bananes  vegetale                    0.0   \n",
      "\n",
      "   Autres Utilisations  Disponibilité alimentaire (Kcal/personne/jour)  \\\n",
      "0                  0.0                                             5.0   \n",
      "1                  0.0                                             1.0   \n",
      "2                  0.0                                             1.0   \n",
      "3                  0.0                                             0.0   \n",
      "4                  0.0                                             4.0   \n",
      "\n",
      "   Disponibilité alimentaire en quantité (kg/personne/an)  \\\n",
      "0                                               1.72        \n",
      "1                                               1.29        \n",
      "2                                               0.06        \n",
      "3                                               0.00        \n",
      "4                                               2.70        \n",
      "\n",
      "   Disponibilité de matière grasse en quantité (g/personne/jour)  \\\n",
      "0                                               0.20               \n",
      "1                                               0.01               \n",
      "2                                               0.01               \n",
      "3                                               0.00               \n",
      "4                                               0.02               \n",
      "\n",
      "   Disponibilité de protéines en quantité (g/personne/jour)  \\\n",
      "0                                               0.77          \n",
      "1                                               0.02          \n",
      "2                                               0.03          \n",
      "3                                               0.00          \n",
      "4                                               0.05          \n",
      "\n",
      "   Disponibilité intérieure  Exportations - Quantité  Importations - Quantité  \\\n",
      "0                      53.0                      0.0                      0.0   \n",
      "1                      41.0                      2.0                     40.0   \n",
      "2                       2.0                      0.0                      2.0   \n",
      "3                       0.0                      0.0                      0.0   \n",
      "4                      82.0                      0.0                     82.0   \n",
      "\n",
      "   Nourriture  Pertes  Production  Semences  Traitement  Variation de stock  \n",
      "0        53.0     0.0        53.0       0.0         0.0                 0.0  \n",
      "1        39.0     2.0         3.0       0.0         0.0                 0.0  \n",
      "2         2.0     0.0         0.0       0.0         0.0                 0.0  \n",
      "3         0.0     0.0         0.0       0.0         0.0                 0.0  \n",
      "4        82.0     0.0         0.0       0.0         0.0                 0.0  \n"
     ]
    }
   ],
   "source": [
    "#remplacement des NaN dans le dataset par des 0\n",
    "dispoAlimentaire = dispoAlimentaire.fillna(0)\n",
    "print(dispoAlimentaire.head())\n"
   ]
  },
  {
   "cell_type": "markdown",
   "id": "6be8a6fa",
   "metadata": {},
   "source": [
    "     Zone                Produit   Origine  Aliments pour animaux  Autres Utilisations  Disponibilité alimentaire (Kcal/personne/jour)  Disponibilité alimentaire en quantité (kg/personne/an)  ...  Importations - Quantité  Nourriture  Pertes  Production  Semences  Traitement  Variation de stock\n",
    "0  Afghanistan       Abats Comestible   animale                    0.0                  0.0                                             5.0                                               1.72       ...                      0.0        53.0     0.0        53.0       0.0         0.0                 0.0\n",
    "1  Afghanistan        Agrumes, Autres  vegetale                    0.0                  0.0                                             1.0                                               1.29       ...                     40.0        39.0     2.0         3.0       0.0         0.0                 0.0\n",
    "2  Afghanistan  Aliments pour enfants  vegetale                    0.0                  0.0                                             1.0                                               0.06       ...                      2.0         2.0     0.0         0.0       0.0         0.0                 0.0\n",
    "3  Afghanistan                 Ananas  vegetale                    0.0                  0.0                                             0.0                                               0.00       ...                      0.0         0.0     0.0         0.0       0.0         0.0                 0.0\n",
    "4  Afghanistan                Bananes  vegetale                    0.0                  0.0                                             4.0                                               2.70       ...                     82.0        82.0     0.0         0.0       0.0         0.0                 0.0"
   ]
  },
  {
   "cell_type": "code",
   "execution_count": 67,
   "id": "db4432e3",
   "metadata": {},
   "outputs": [],
   "source": [
    "#multiplication de toutes les lignes contenant des milliers de tonnes en Kg\n",
    "colonnes_a_convertir = ['Autres Utilisations', 'Disponibilité intérieure', 'Exportations - Quantité',\n",
    "                        'Importations - Quantité', 'Nourriture', 'Pertes', 'Production', 'Semences', \n",
    "                        'Traitement', 'Variation de stock', 'Aliments pour animaux']\n",
    "\n",
    "for colonne in colonnes_a_convertir:\n",
    "    dispoAlimentaire[colonne] *= 1000  # Convertir de milliers de tonnes à kg\n",
    "\n"
   ]
  },
  {
   "cell_type": "code",
   "execution_count": 68,
   "id": "7f1689bf",
   "metadata": {},
   "outputs": [
    {
     "name": "stdout",
     "output_type": "stream",
     "text": [
      "          Zone                Produit   Origine  Aliments pour animaux  \\\n",
      "0  Afghanistan       Abats Comestible   animale                    0.0   \n",
      "1  Afghanistan        Agrumes, Autres  vegetale                    0.0   \n",
      "2  Afghanistan  Aliments pour enfants  vegetale                    0.0   \n",
      "3  Afghanistan                 Ananas  vegetale                    0.0   \n",
      "4  Afghanistan                Bananes  vegetale                    0.0   \n",
      "\n",
      "   Autres Utilisations  Disponibilité alimentaire (Kcal/personne/jour)  \\\n",
      "0                  0.0                                             5.0   \n",
      "1                  0.0                                             1.0   \n",
      "2                  0.0                                             1.0   \n",
      "3                  0.0                                             0.0   \n",
      "4                  0.0                                             4.0   \n",
      "\n",
      "   Disponibilité alimentaire en quantité (kg/personne/an)  \\\n",
      "0                                               1.72        \n",
      "1                                               1.29        \n",
      "2                                               0.06        \n",
      "3                                               0.00        \n",
      "4                                               2.70        \n",
      "\n",
      "   Disponibilité de matière grasse en quantité (g/personne/jour)  \\\n",
      "0                                               0.20               \n",
      "1                                               0.01               \n",
      "2                                               0.01               \n",
      "3                                               0.00               \n",
      "4                                               0.02               \n",
      "\n",
      "   Disponibilité de protéines en quantité (g/personne/jour)  \\\n",
      "0                                               0.77          \n",
      "1                                               0.02          \n",
      "2                                               0.03          \n",
      "3                                               0.00          \n",
      "4                                               0.05          \n",
      "\n",
      "   Disponibilité intérieure  Exportations - Quantité  Importations - Quantité  \\\n",
      "0                   53000.0                      0.0                      0.0   \n",
      "1                   41000.0                   2000.0                  40000.0   \n",
      "2                    2000.0                      0.0                   2000.0   \n",
      "3                       0.0                      0.0                      0.0   \n",
      "4                   82000.0                      0.0                  82000.0   \n",
      "\n",
      "   Nourriture  Pertes  Production  Semences  Traitement  Variation de stock  \n",
      "0     53000.0     0.0     53000.0       0.0         0.0                 0.0  \n",
      "1     39000.0  2000.0      3000.0       0.0         0.0                 0.0  \n",
      "2      2000.0     0.0         0.0       0.0         0.0                 0.0  \n",
      "3         0.0     0.0         0.0       0.0         0.0                 0.0  \n",
      "4     82000.0     0.0         0.0       0.0         0.0                 0.0  \n"
     ]
    }
   ],
   "source": [
    "#Affichage les 5 premières lignes de la table\n",
    "print(dispoAlimentaire.head())"
   ]
  },
  {
   "cell_type": "markdown",
   "id": "a99b3100",
   "metadata": {},
   "source": [
    " Aliments pour animaux  Autres Utilisations  Disponibilité alimentaire (Kcal/personne/jour)  Disponibilité alimentaire en quantité (kg/personne/an)  Disponibilité de matière grasse en quantité (g/personne/jour)  Disponibilité de protéines en quantité (g/personne/jour)  ...  Nourriture   Pertes  Production  Semences  Traitement  Variation de stock\n",
    "0                      0                    0                                         5000000                                            1720000                                                  200000                                                         770000         ...    53000000        0    53000000         0           0                   0\n",
    "1                      0                    0                                         1000000                                            1290000                                                   10000                                                          20000         ...    39000000  2000000     3000000         0           0                   0\n",
    "2                      0                    0                                         1000000                                              60000                                                   10000                                                          30000         ...     2000000        0           0         0           0                   0\n",
    "3                      0                    0                                               0                                                  0                                                       0                                                              0         ...           0        0           0         0           0                   0\n",
    "4                      0                    0                                         4000000                                            2700000                                                   20000                                                          50000         ...    82000000        0           0         0           0                   0"
   ]
  },
  {
   "cell_type": "markdown",
   "id": "a09233e4",
   "metadata": {},
   "source": [
    "<div style=\"border: 1px solid RGB(0,150,250);\" >\n",
    "<h3 style=\"margin: auto; padding: 20px; color: RGB(0,150,250); \">2.3 - Analyse exploratoire du fichier aide alimentaire</h3>\n",
    "</div>"
   ]
  },
  {
   "cell_type": "code",
   "execution_count": 69,
   "id": "702f6322",
   "metadata": {},
   "outputs": [
    {
     "name": "stdout",
     "output_type": "stream",
     "text": [
      "Le tableau comporte 1475 observation(s) ou article(s)\n",
      "Le tableau comporte 4 colonne(s)\n"
     ]
    }
   ],
   "source": [
    "#Afficher les dimensions du dataset\n",
    "print(\"Le tableau comporte {} observation(s) ou article(s)\".format(aideAlimentaire.shape[0]))\n",
    "print(\"Le tableau comporte {} colonne(s)\".format(aideAlimentaire.shape[1]))"
   ]
  },
  {
   "cell_type": "code",
   "execution_count": 70,
   "id": "8fead3f9",
   "metadata": {},
   "outputs": [
    {
     "name": "stdout",
     "output_type": "stream",
     "text": [
      "Le nombre de colonnes est : 4\n"
     ]
    }
   ],
   "source": [
    "#Consulter le nombre de colonnes\n",
    "print(\"Le nombre de colonnes est : {}\".format(aideAlimentaire.shape[1]))\n"
   ]
  },
  {
   "cell_type": "code",
   "execution_count": 71,
   "id": "443ec245",
   "metadata": {},
   "outputs": [
    {
     "name": "stdout",
     "output_type": "stream",
     "text": [
      "les 5 premières lignes de la table aideAlimentaire sont : \n",
      "  Pays bénéficiaire  Année              Produit  Valeur\n",
      "0       Afghanistan   2013  Autres non-céréales     682\n",
      "1       Afghanistan   2014  Autres non-céréales     335\n",
      "2       Afghanistan   2013         Blé et Farin   39224\n",
      "3       Afghanistan   2014         Blé et Farin   15160\n",
      "4       Afghanistan   2013             Céréales   40504\n"
     ]
    }
   ],
   "source": [
    "#Affichage les 5 premières lignes de la table\n",
    "print(\"les 5 premières lignes de la table aideAlimentaire sont : \")\n",
    "print(aideAlimentaire.head())"
   ]
  },
  {
   "cell_type": "code",
   "execution_count": 72,
   "id": "af47212b",
   "metadata": {},
   "outputs": [
    {
     "name": "stdout",
     "output_type": "stream",
     "text": [
      "          Zone  Année              Produit  Valeur\n",
      "0  Afghanistan   2013  Autres non-céréales     682\n",
      "1  Afghanistan   2014  Autres non-céréales     335\n",
      "2  Afghanistan   2013         Blé et Farin   39224\n",
      "3  Afghanistan   2014         Blé et Farin   15160\n",
      "4  Afghanistan   2013             Céréales   40504\n"
     ]
    }
   ],
   "source": [
    "#changement du nom de la colonne Pays bénéficiaire par Zone\n",
    "aideAlimentaire.rename(columns={'Pays bénéficiaire':'Zone'}, inplace=True)\n",
    "print(aideAlimentaire.head())\n"
   ]
  },
  {
   "cell_type": "code",
   "execution_count": 73,
   "id": "c32cd1d8",
   "metadata": {},
   "outputs": [],
   "source": [
    "#Multiplication de la colonne Aide_alimentaire qui contient des tonnes par 1000 pour avoir des kg\n",
    "aideAlimentaire['Valeur'] = aideAlimentaire['Valeur']*1000\n"
   ]
  },
  {
   "cell_type": "code",
   "execution_count": 74,
   "id": "d951d8df",
   "metadata": {},
   "outputs": [
    {
     "name": "stdout",
     "output_type": "stream",
     "text": [
      "          Zone  Année              Produit    Valeur\n",
      "0  Afghanistan   2013  Autres non-céréales    682000\n",
      "1  Afghanistan   2014  Autres non-céréales    335000\n",
      "2  Afghanistan   2013         Blé et Farin  39224000\n",
      "3  Afghanistan   2014         Blé et Farin  15160000\n",
      "4  Afghanistan   2013             Céréales  40504000\n"
     ]
    }
   ],
   "source": [
    "#Affichage les 5 premières lignes de la table\n",
    "print(aideAlimentaire.head())"
   ]
  },
  {
   "cell_type": "markdown",
   "id": "eeae9043",
   "metadata": {},
   "source": [
    "<div style=\"border: 1px solid RGB(0,150,250);\" >\n",
    "<h3 style=\"margin: auto; padding: 20px; color: RGB(0,150,250); \">2.3 - Analyse exploratoire du fichier sous nutrition</h3>\n",
    "</div>"
   ]
  },
  {
   "cell_type": "code",
   "execution_count": 75,
   "id": "882add3d",
   "metadata": {},
   "outputs": [
    {
     "name": "stdout",
     "output_type": "stream",
     "text": [
      "Le tableau comporte 1218 observation(s) ou article(s)\n"
     ]
    }
   ],
   "source": [
    "#Afficher les dimensions du dataset\n",
    "print(\"Le tableau comporte {} observation(s) ou article(s)\".format(sousNutrition.shape[0]))\n"
   ]
  },
  {
   "cell_type": "code",
   "execution_count": 76,
   "id": "70c1a7a9",
   "metadata": {},
   "outputs": [
    {
     "name": "stdout",
     "output_type": "stream",
     "text": [
      "Le tableau comporte 3 colonne(s)\n"
     ]
    }
   ],
   "source": [
    "#Consulter le nombre de colonnes\n",
    "print(\"Le tableau comporte {} colonne(s)\".format(sousNutrition.shape[1]))"
   ]
  },
  {
   "cell_type": "code",
   "execution_count": 77,
   "id": "5c6469e5",
   "metadata": {},
   "outputs": [
    {
     "name": "stdout",
     "output_type": "stream",
     "text": [
      "          Zone      Année Valeur\n",
      "0  Afghanistan  2012-2014    8.6\n",
      "1  Afghanistan  2013-2015    8.8\n",
      "2  Afghanistan  2014-2016    8.9\n",
      "3  Afghanistan  2015-2017    9.7\n",
      "4  Afghanistan  2016-2018   10.5\n"
     ]
    }
   ],
   "source": [
    "#Afficher les 5 premières lignes de la table\n",
    "print(sousNutrition.head())\n"
   ]
  },
  {
   "cell_type": "code",
   "execution_count": 78,
   "id": "11b6a6c8",
   "metadata": {},
   "outputs": [],
   "source": [
    "#Conversion de la colonne sous nutrition en numérique\n",
    "sousNutrition['Valeur'] = pd.to_numeric(sousNutrition['Valeur'], errors='coerce')\n",
    "\n"
   ]
  },
  {
   "cell_type": "code",
   "execution_count": 79,
   "id": "d31d2724",
   "metadata": {},
   "outputs": [
    {
     "name": "stdout",
     "output_type": "stream",
     "text": [
      "0        8.6\n",
      "1        8.8\n",
      "2        8.9\n",
      "3        9.7\n",
      "4       10.5\n",
      "        ... \n",
      "1213     0.0\n",
      "1214     0.0\n",
      "1215     0.0\n",
      "1216     0.0\n",
      "1217     0.0\n",
      "Name: Valeur, Length: 1218, dtype: float64\n"
     ]
    }
   ],
   "source": [
    "#Conversion de la colonne (avec l'argument errors=coerce qui permet de convertir automatiquement les lignes qui ne sont pas des nombres en NaN)\n",
    "#Puis remplacement des NaN en 0\n",
    "sousNutrition['Valeur'] = sousNutrition['Valeur'].fillna(0)\n",
    "print(sousNutrition['Valeur'])\n"
   ]
  },
  {
   "cell_type": "code",
   "execution_count": 80,
   "id": "34c98232",
   "metadata": {},
   "outputs": [
    {
     "name": "stdout",
     "output_type": "stream",
     "text": [
      "             Zone      Année  sous_nutrition\n",
      "0     Afghanistan  2012-2014             8.6\n",
      "1     Afghanistan  2013-2015             8.8\n",
      "2     Afghanistan  2014-2016             8.9\n",
      "3     Afghanistan  2015-2017             9.7\n",
      "4     Afghanistan  2016-2018            10.5\n",
      "...           ...        ...             ...\n",
      "1213     Zimbabwe  2013-2015             0.0\n",
      "1214     Zimbabwe  2014-2016             0.0\n",
      "1215     Zimbabwe  2015-2017             0.0\n",
      "1216     Zimbabwe  2016-2018             0.0\n",
      "1217     Zimbabwe  2017-2019             0.0\n",
      "\n",
      "[1218 rows x 3 columns]\n"
     ]
    }
   ],
   "source": [
    "#changement du nom de la colonne Valeur par sous_nutrition\n",
    "sousNutrition = sousNutrition.rename(columns={'Valeur': 'sous_nutrition'})\n",
    "print(sousNutrition)"
   ]
  },
  {
   "cell_type": "code",
   "execution_count": 81,
   "id": "002110fa",
   "metadata": {},
   "outputs": [],
   "source": [
    "#Multiplication de la colonne sous_nutrition par 1000000\n",
    "sousNutrition['sous_nutrition'] *= 1000000\n",
    "\n",
    "# Conversion en chiffres entiers\n",
    "sousNutrition['sous_nutrition'] = sousNutrition['sous_nutrition'].astype(int)\n",
    "\n",
    "\n",
    "\n",
    "\n"
   ]
  },
  {
   "cell_type": "code",
   "execution_count": 82,
   "id": "58259b55",
   "metadata": {},
   "outputs": [
    {
     "name": "stdout",
     "output_type": "stream",
     "text": [
      "          Zone      Année  sous_nutrition\n",
      "0  Afghanistan  2012-2014         8600000\n",
      "1  Afghanistan  2013-2015         8800000\n",
      "2  Afghanistan  2014-2016         8900000\n",
      "3  Afghanistan  2015-2017         9700000\n",
      "4  Afghanistan  2016-2018        10500000\n"
     ]
    }
   ],
   "source": [
    "#Afficher les 5 premières lignes de la table\n",
    "print(sousNutrition.head())"
   ]
  },
  {
   "cell_type": "markdown",
   "id": "df6dcabd",
   "metadata": {},
   "source": [
    "<div style=\"border: 1px solid RGB(0,150,250);\" >\n",
    "<h3 style=\"margin: auto; padding: 20px; color: RGB(0,150,250); \">3.1 - Proportion de personnes en sous nutrition</h3>\n",
    "</div>"
   ]
  },
  {
   "cell_type": "code",
   "execution_count": 83,
   "id": "a63e1567",
   "metadata": {},
   "outputs": [],
   "source": [
    "# TRAVAIL SUR LA TABLE SOUS NUTRITION\n",
    "\n",
    "# Définition de la fonction create_year_list (créer une liste d'années)\n",
    "def create_year_list(year_range):\n",
    "    start_year, end_year = map(int, year_range.split('-'))\n",
    "    return list(range(start_year, end_year + 1))\n",
    "\n",
    "# Utilisation de la fonction pour spliter les groupes d'années\n",
    "sousNutrition['Année'] = sousNutrition['Année'].apply(create_year_list)\n",
    "\n",
    "# Déplier la liste d'années pour chaque ligne (une ligne par année)\n",
    "sousNutrition = sousNutrition.explode('Année')\n",
    "\n",
    "# Réinitialiser les index /garantit que chaque ligne a un index unique et que les index sont contigus, ce qui facilite l'accès et la manipulation des données.\n",
    "sousNutrition = sousNutrition.reset_index(drop=True)\n",
    "\n",
    "\n",
    "# ************************************************************\n",
    "\n",
    "\n",
    "# Jointure entre les tables population et sousNutrition sur les colonnes 'Zone' et 'Année'\n",
    "'''Inner join par défaut car on veut les données qui sont dans les deux tables\n",
    "fichier population contient plus de pays que fichier sous-nutrition et retourne des Nan dans le résultat\n",
    "donc on ne peut pas convertir en entier la colonne sous_nutrition'''\n",
    "jointure = pd.merge(population, sousNutrition, on=['Zone', 'Année'])\n",
    "\n",
    "# Filtrer les résultats pour ne conserver que les lignes avec l'année 2017\n",
    "resultats_2017 = jointure[jointure['Année'] == 2017]\n",
    "\n",
    "#Regrouper les données en fonction de la colonne Zone \n",
    "#puis retenir la première valeur de la colonne Population et la dernière valeurs de la colonne sous_nutrition\n",
    "# les données de la FAO en sous-nutrition sont déjà une moyenne sur trois ans (vérification sur le site FAOSTAT), donc je récupère la valeur la plus récente\n",
    "# Trouver la valeur de personnes en sous-nutrition pour chaque pays en 2017\n",
    "resultats_2017 = resultats_2017.groupby('Zone').agg({'Population': 'first', 'sous_nutrition': 'last'}).reset_index()\n",
    "\n",
    "# Convertir la colonne 'sous_nutrition' en type entier\n",
    "resultats_2017['sous_nutrition'] = resultats_2017['sous_nutrition'].astype(int)\n",
    "\n",
    "# Calculer la proportion de sous-nutrition\n",
    "resultats_2017['proportion_sous_nutrition'] = resultats_2017['sous_nutrition'] / resultats_2017['Population']*100\n",
    "\n",
    "# Arrondir les valeurs à deux chiffres après la virgule et rajouter le signe % à la fin\n",
    "resultats_2017['proportion_sous_nutrition'] = resultats_2017['proportion_sous_nutrition'].round(2).astype(str) + '%'\n",
    "\n"
   ]
  },
  {
   "cell_type": "code",
   "execution_count": 84,
   "id": "731eea39",
   "metadata": {},
   "outputs": [
    {
     "name": "stdout",
     "output_type": "stream",
     "text": [
      "                      Zone  Population  sous_nutrition  \\\n",
      "0              Afghanistan    36296113        11100000   \n",
      "1           Afrique du Sud    57009756         3300000   \n",
      "2                  Albanie     2884169          100000   \n",
      "3                  Algérie    41389189         1200000   \n",
      "4                Allemagne    82658409               0   \n",
      "..                     ...         ...             ...   \n",
      "198  États-Unis d'Amérique   325084756               0   \n",
      "199               Éthiopie   106399924        21500000   \n",
      "200              Îles Cook       17507               0   \n",
      "201          Îles Marshall       58058               0   \n",
      "202           Îles Salomon      636039               0   \n",
      "\n",
      "    proportion_sous_nutrition  \n",
      "0                      30.58%  \n",
      "1                       5.79%  \n",
      "2                       3.47%  \n",
      "3                        2.9%  \n",
      "4                        0.0%  \n",
      "..                        ...  \n",
      "198                      0.0%  \n",
      "199                    20.21%  \n",
      "200                      0.0%  \n",
      "201                      0.0%  \n",
      "202                      0.0%  \n",
      "\n",
      "[203 rows x 4 columns]\n"
     ]
    }
   ],
   "source": [
    "#Affichage du dataset\n",
    "print(resultats_2017)\n"
   ]
  },
  {
   "cell_type": "code",
   "execution_count": 85,
   "id": "28e2741f",
   "metadata": {},
   "outputs": [
    {
     "name": "stdout",
     "output_type": "stream",
     "text": [
      "Le nombre de personnes en état de sous-nutrition en 2017 est de : 544,200,000 personnes\n",
      "Le nombre de personnes dans la population mondiale en 2017 est de : 7,543,798,769 personnes\n",
      "Le pourcentage de personnes en état de sous-nutrition dans le monde en 2017 est de : 7.21%\n"
     ]
    }
   ],
   "source": [
    "\n",
    "# Calcul et affichage du nombre de personnes en état de sous-nutrition en 2017 avec des séparateurs entre les milliers\n",
    "total_sous_nutrition = round(resultats_2017['sous_nutrition'].sum())\n",
    "\n",
    "# Utiliser la méthode format avec le spécificateur de format {:,} pour ajouter des séparateurs entre les milliers\n",
    "formatted_total_sous_nutrition = \"{:,.0f}\".format(total_sous_nutrition)\n",
    "\n",
    "print(\"Le nombre de personnes en état de sous-nutrition en 2017 est de : {} personnes\".format(formatted_total_sous_nutrition))\n",
    "\n",
    "#calcul du nombre de personnes dans la population mondiale en 2017\n",
    "total_population = round(resultats_2017['Population'].sum())\n",
    "formatted_total_population = \"{:,.0f}\".format(total_population)\n",
    "print(\"Le nombre de personnes dans la population mondiale en 2017 est de : {} personnes\".format(formatted_total_population))\n",
    "\n",
    "# Calcul et affichage du pourcentage de personnes en état de sous-nutrition dans le monde en 2017\n",
    "pourcentage_sous_nutrition = total_sous_nutrition / total_population * 100\n",
    "pourcentage_sous_nutrition_arrondi = round(pourcentage_sous_nutrition, 2)\n",
    "print(\"Le pourcentage de personnes en état de sous-nutrition dans le monde en 2017 est de : {}%\".format(pourcentage_sous_nutrition_arrondi))\n"
   ]
  },
  {
   "cell_type": "markdown",
   "id": "674c116e",
   "metadata": {},
   "source": [
    "\n",
    "### FOCUS SUR MANQUE DE DONNEES DE SOUS-NUTRITION\n",
    "\n",
    "Afficher la somme de Population dont sous_nutrition = 0\n",
    "```\n",
    "print('Nombre de personnes dont nous n\"avons pas de données de sous-nutrition :')\n",
    "print(resultats_2017[resultats_2017['sous_nutrition'] == 0]['Population'].sum())\n",
    "```\n",
    "\n",
    "Nombre de personnes total du fichier\n",
    "```\n",
    "print('Nombre total de personnes :')\n",
    "print(resultats_2017['Population'].sum())\n",
    "```\n",
    "Calculer la proportion de la population ayant une sous-nutrition égale à zéro\n",
    "```\n",
    "proportion_sous_nutrition_0 = (resultats_2017[resultats_2017['sous_nutrition'] == 0]['Population'].sum() / resultats_2017['Population'].sum()) * 100\n",
    "#print(\"Proportion de la population sans données de sous-nutrition: {:.2f}%\".format(proportion_sous_nutrition_0))\n",
    "```\n",
    "\n",
    "liste des pays sans données de sous-nutrition\n",
    "```\n",
    "print('Pays sans données de sous-nutrition :')\n",
    "print(resultats_2017[resultats_2017['sous_nutrition'] == 0]['Zone'])\n",
    "```\n",
    "\n",
    "Les 118 pays sans données ou valeur nulle de sous nutrition sont des pays riches ou des pays en guerre.\n",
    "Ils me semblent important de les conserver pour ne pas fausser les résultats.\n",
    "les exclures revient à exclure presque la moitié de la population mondiale, sachant que dans cette liste\n",
    "il y a un bon nombre qui ne sont pas en sous-nutrition.\n"
   ]
  },
  {
   "cell_type": "markdown",
   "id": "b4134a24",
   "metadata": {},
   "source": [
    "<div style=\"border: 1px solid RGB(0,150,250);\" >\n",
    "<h3 style=\"margin: auto; padding: 20px; color: RGB(0,150,250); \">3.2 - Nombre théorique de personnes qui pourraient être nourries</h3>\n",
    "</div>"
   ]
  },
  {
   "cell_type": "code",
   "execution_count": 86,
   "id": "2b63df85",
   "metadata": {},
   "outputs": [
    {
     "name": "stdout",
     "output_type": "stream",
     "text": [
      "                        Disponibilité alimentaire en quantité (kg/personne/an)\n",
      "Produit                                                                       \n",
      "Abats Comestible                                                 2.730345     \n",
      "Agrumes, Autres                                                  1.306688     \n",
      "Alcool, non Comestible                                           0.000000     \n",
      "Aliments pour enfants                                            0.380936     \n",
      "Ananas                                                           3.890536     \n",
      "...                                                                   ...     \n",
      "Viande de Suides                                                14.407616     \n",
      "Viande de Volailles                                             20.561322     \n",
      "Viande, Autre                                                    1.800977     \n",
      "Vin                                                              6.161337     \n",
      "Épices, Autres                                                   0.622616     \n",
      "\n",
      "[98 rows x 1 columns]\n"
     ]
    }
   ],
   "source": [
    "#Combien mange en moyenne un être humain ? Source => dispoAlimentaire\n",
    "# Calculer la disponibilité alimentaire moyenne par personne par produit\n",
    "\n",
    "disponibilite_moyenne_par_personne = dispoAlimentaire[['Produit', 'Disponibilité alimentaire en quantité (kg/personne/an)']].groupby('Produit').mean()\n",
    "print(disponibilite_moyenne_par_personne)"
   ]
  },
  {
   "cell_type": "code",
   "execution_count": 87,
   "id": "5e3f262d",
   "metadata": {},
   "outputs": [
    {
     "name": "stdout",
     "output_type": "stream",
     "text": [
      "Le nombre de pays dans le DataFrame population_2017 est de : 236\n",
      "Le nombre de pays dans le DataFrame dispoAlimentaire est de : 174\n"
     ]
    }
   ],
   "source": [
    "#Filtrer la table population sur l'année 2017 \n",
    "population_2017 = population[population['Année'] == 2017]\n",
    "\n",
    "#compter le nombre de Pays dans le DataFrame population_2017\n",
    "nombre_pays = population_2017['Zone'].nunique()\n",
    "print(\"Le nombre de pays dans le DataFrame population_2017 est de : {}\".format(nombre_pays))\n",
    "#compter le nombre de pays dans dispoAlimentaire\n",
    "nombre_pays_dispoAlimentaire = dispoAlimentaire['Zone'].nunique()\n",
    "print(\"Le nombre de pays dans le DataFrame dispoAlimentaire est de : {}\".format(nombre_pays_dispoAlimentaire))\n",
    "\n",
    "#Faire une jointure entre les tables disponibilité alimentaire et population sur la colonne Zone\n",
    "'''Inner join par défaut car on veut les données qui sont dans les deux tables\n",
    "dispoAlimentaire contient moins de pays que population et retourne des Nan dans le résultat'''\n",
    "dispoAlimentaire = pd.merge(dispoAlimentaire, population_2017, on='Zone')\n",
    "\n"
   ]
  },
  {
   "cell_type": "code",
   "execution_count": 88,
   "id": "4538126c",
   "metadata": {},
   "outputs": [
    {
     "name": "stdout",
     "output_type": "stream",
     "text": [
      "          Zone                Produit   Origine  Aliments pour animaux  \\\n",
      "0  Afghanistan       Abats Comestible   animale                    0.0   \n",
      "1  Afghanistan        Agrumes, Autres  vegetale                    0.0   \n",
      "2  Afghanistan  Aliments pour enfants  vegetale                    0.0   \n",
      "3  Afghanistan                 Ananas  vegetale                    0.0   \n",
      "4  Afghanistan                Bananes  vegetale                    0.0   \n",
      "\n",
      "   Autres Utilisations  Disponibilité alimentaire (Kcal/personne/jour)  \\\n",
      "0                  0.0                                             5.0   \n",
      "1                  0.0                                             1.0   \n",
      "2                  0.0                                             1.0   \n",
      "3                  0.0                                             0.0   \n",
      "4                  0.0                                             4.0   \n",
      "\n",
      "   Disponibilité alimentaire en quantité (kg/personne/an)  \\\n",
      "0                                               1.72        \n",
      "1                                               1.29        \n",
      "2                                               0.06        \n",
      "3                                               0.00        \n",
      "4                                               2.70        \n",
      "\n",
      "   Disponibilité de matière grasse en quantité (g/personne/jour)  \\\n",
      "0                                               0.20               \n",
      "1                                               0.01               \n",
      "2                                               0.01               \n",
      "3                                               0.00               \n",
      "4                                               0.02               \n",
      "\n",
      "   Disponibilité de protéines en quantité (g/personne/jour)  \\\n",
      "0                                               0.77          \n",
      "1                                               0.02          \n",
      "2                                               0.03          \n",
      "3                                               0.00          \n",
      "4                                               0.05          \n",
      "\n",
      "   Disponibilité intérieure  Exportations - Quantité  Importations - Quantité  \\\n",
      "0                   53000.0                      0.0                      0.0   \n",
      "1                   41000.0                   2000.0                  40000.0   \n",
      "2                    2000.0                      0.0                   2000.0   \n",
      "3                       0.0                      0.0                      0.0   \n",
      "4                   82000.0                      0.0                  82000.0   \n",
      "\n",
      "   Nourriture  Pertes  Production  Semences  Traitement  Variation de stock  \\\n",
      "0     53000.0     0.0     53000.0       0.0         0.0                 0.0   \n",
      "1     39000.0  2000.0      3000.0       0.0         0.0                 0.0   \n",
      "2      2000.0     0.0         0.0       0.0         0.0                 0.0   \n",
      "3         0.0     0.0         0.0       0.0         0.0                 0.0   \n",
      "4     82000.0     0.0         0.0       0.0         0.0                 0.0   \n",
      "\n",
      "   Année  Population  \n",
      "0   2017    36296113  \n",
      "1   2017    36296113  \n",
      "2   2017    36296113  \n",
      "3   2017    36296113  \n",
      "4   2017    36296113  \n"
     ]
    }
   ],
   "source": [
    "#Affichage du nouveau dataframe\n",
    "# Afficher les premières lignes du DataFrame\n",
    "print(dispoAlimentaire.head())"
   ]
  },
  {
   "cell_type": "code",
   "execution_count": 89,
   "id": "5305ba25",
   "metadata": {},
   "outputs": [
    {
     "name": "stdout",
     "output_type": "stream",
     "text": [
      "             Zone  Population  Nbre_cal_journaliere_par_personne_disponibles  \\\n",
      "0     Afghanistan    36296113                                         2087.0   \n",
      "1  Afrique du Sud    57009756                                         3020.0   \n",
      "2         Albanie     2884169                                         3188.0   \n",
      "3         Algérie    41389189                                         3293.0   \n",
      "4       Allemagne    82658409                                         3503.0   \n",
      "\n",
      "   Nbre_cal_dispo_totale  \n",
      "0           7.574999e+10  \n",
      "1           1.721695e+11  \n",
      "2           9.194731e+09  \n",
      "3           1.362946e+11  \n",
      "4           2.895524e+11  \n"
     ]
    }
   ],
   "source": [
    "# Calculer la somme de la disponibilité alimentaire en calories par personne et par jour par pays\n",
    "Nbre_cal_journaliere_par_personne_disponibles = dispoAlimentaire.groupby('Zone')['Disponibilité alimentaire (Kcal/personne/jour)'].sum().reset_index()\n",
    "Nbre_cal_journaliere_par_personne_disponibles.rename(columns={'Disponibilité alimentaire (Kcal/personne/jour)': 'Nbre_cal_journaliere_par_personne_disponibles'}, inplace=True)\n",
    "\n",
    "# Fusionner les DataFrames sur la colonne 'Zone'\n",
    "dispoAlimentaire = pd.merge(dispoAlimentaire, Nbre_cal_journaliere_par_personne_disponibles, on='Zone', how='outer')\n",
    "'''outer join pour prendre en compte l'entiereté des données de dispoAlimentaire et de Nbre_cal_journaliere_par_personne_disponibles'''\n",
    "\n",
    "# Grouper par pays et obtenir la première ligne de chaque groupe\n",
    "NourritureDispo = dispoAlimentaire.groupby('Zone').first().reset_index()[['Zone', 'Population', 'Nbre_cal_journaliere_par_personne_disponibles']]\n",
    "'''le fichier disopAlimentaire duplique les zones en fonction des produits, donc je n'ai besoin de récupérer que la première ligne pour chaque zone\n",
    "pour éviter de cumuler les calories'''\n",
    "\n",
    "# Calculer la colonne Nbre_cal_dispo_totale\n",
    "NourritureDispo['Nbre_cal_dispo_totale'] = NourritureDispo['Population'] * NourritureDispo['Nbre_cal_journaliere_par_personne_disponibles']\n",
    "\n",
    "# Afficher les premières lignes du DataFrame mis à jour\n",
    "print(NourritureDispo.head())\n",
    "\n"
   ]
  },
  {
   "cell_type": "code",
   "execution_count": 90,
   "id": "a6d4af90",
   "metadata": {},
   "outputs": [
    {
     "name": "stdout",
     "output_type": "stream",
     "text": [
      "Le nombre total d'humains pouvant être nourris est d'environ : 8.90 milliards d'humains\n"
     ]
    }
   ],
   "source": [
    "\n",
    "# Nombre moyen de calories nécessaires par personne par jour (valeur fictive)\n",
    "calories_necessaires_par_personne = 2350  # en calories\n",
    "\n",
    "# Calculer le nombre d'humains pouvant être nourris\n",
    "NourritureDispo['Nb_humains_nourris'] = NourritureDispo['Nbre_cal_dispo_totale'] / calories_necessaires_par_personne\n",
    "\n",
    "# Calculer le nombre total d'humains nourris\n",
    "nombre_total_humains_nourris = NourritureDispo['Nb_humains_nourris'].sum()\n",
    "\n",
    "print(\"Le nombre total d'humains pouvant être nourris est d'environ : {:.2f} milliards d'humains\".format(nombre_total_humains_nourris / 1e9))\n",
    "\n",
    "\n"
   ]
  },
  {
   "cell_type": "markdown",
   "id": "e97c8886",
   "metadata": {},
   "source": [
    "<div style=\"border: 1px solid RGB(0,150,250);\" >\n",
    "<h3 style=\"margin: auto; padding: 20px; color: RGB(0,150,250); \">3.3 - Nombre théorique de personne qui pourrait être nourrie avec les produits végétaux</h3>\n",
    "</div>"
   ]
  },
  {
   "cell_type": "code",
   "execution_count": 91,
   "id": "c2e3c87c",
   "metadata": {},
   "outputs": [
    {
     "name": "stdout",
     "output_type": "stream",
     "text": [
      "          Zone                Produit   Origine  Aliments pour animaux  \\\n",
      "1  Afghanistan        Agrumes, Autres  vegetale                    0.0   \n",
      "2  Afghanistan  Aliments pour enfants  vegetale                    0.0   \n",
      "3  Afghanistan                 Ananas  vegetale                    0.0   \n",
      "4  Afghanistan                Bananes  vegetale                    0.0   \n",
      "6  Afghanistan                  Bière  vegetale                    0.0   \n",
      "\n",
      "   Autres Utilisations  Disponibilité alimentaire (Kcal/personne/jour)  \\\n",
      "1                  0.0                                             1.0   \n",
      "2                  0.0                                             1.0   \n",
      "3                  0.0                                             0.0   \n",
      "4                  0.0                                             4.0   \n",
      "6                  0.0                                             0.0   \n",
      "\n",
      "   Disponibilité alimentaire en quantité (kg/personne/an)  \\\n",
      "1                                               1.29        \n",
      "2                                               0.06        \n",
      "3                                               0.00        \n",
      "4                                               2.70        \n",
      "6                                               0.09        \n",
      "\n",
      "   Disponibilité de matière grasse en quantité (g/personne/jour)  \\\n",
      "1                                               0.01               \n",
      "2                                               0.01               \n",
      "3                                               0.00               \n",
      "4                                               0.02               \n",
      "6                                               0.00               \n",
      "\n",
      "   Disponibilité de protéines en quantité (g/personne/jour)  \\\n",
      "1                                               0.02          \n",
      "2                                               0.03          \n",
      "3                                               0.00          \n",
      "4                                               0.05          \n",
      "6                                               0.00          \n",
      "\n",
      "   Disponibilité intérieure  ...  Importations - Quantité  Nourriture  Pertes  \\\n",
      "1                   41000.0  ...                  40000.0     39000.0  2000.0   \n",
      "2                    2000.0  ...                   2000.0      2000.0     0.0   \n",
      "3                       0.0  ...                      0.0         0.0     0.0   \n",
      "4                   82000.0  ...                  82000.0     82000.0     0.0   \n",
      "6                    3000.0  ...                   3000.0      3000.0     0.0   \n",
      "\n",
      "   Production  Semences  Traitement  Variation de stock  Année  Population  \\\n",
      "1      3000.0       0.0         0.0                 0.0   2017    36296113   \n",
      "2         0.0       0.0         0.0                 0.0   2017    36296113   \n",
      "3         0.0       0.0         0.0                 0.0   2017    36296113   \n",
      "4         0.0       0.0         0.0                 0.0   2017    36296113   \n",
      "6         0.0       0.0         0.0                 0.0   2017    36296113   \n",
      "\n",
      "   Nbre_cal_journaliere_par_personne_disponibles  \n",
      "1                                         2087.0  \n",
      "2                                         2087.0  \n",
      "3                                         2087.0  \n",
      "4                                         2087.0  \n",
      "6                                         2087.0  \n",
      "\n",
      "[5 rows x 21 columns]\n"
     ]
    }
   ],
   "source": [
    "#Transfert des données avec les végétaux dans un nouveau dataframe\n",
    "dispoAlimentaire_vegetaux = dispoAlimentaire[dispoAlimentaire['Origine'] == 'vegetale']\n",
    "print(dispoAlimentaire_vegetaux.head())"
   ]
  },
  {
   "cell_type": "code",
   "execution_count": 92,
   "id": "534f3ad7",
   "metadata": {},
   "outputs": [
    {
     "name": "stdout",
     "output_type": "stream",
     "text": [
      "             Zone  Population  \\\n",
      "0     Afghanistan    36296113   \n",
      "1  Afrique du Sud    57009756   \n",
      "2         Albanie     2884169   \n",
      "3         Algérie    41389189   \n",
      "4       Allemagne    82658409   \n",
      "\n",
      "   Nbre_cal_vege_journaliere_par_personne_disponibles  \n",
      "0                                             1871.0   \n",
      "1                                             2533.0   \n",
      "2                                             2203.0   \n",
      "3                                             2915.0   \n",
      "4                                             2461.0   \n"
     ]
    }
   ],
   "source": [
    "#Calcul du nombre de kcal disponible pour les végétaux\n",
    "\n",
    "# Supprimer la colonne 'Nbre_cal_journaliere_par_personne_disponibles' du DataFrame dispoAlimentaire_vegetaux car elle regroupe toutes les origines\n",
    "dispoAlimentaire_vegetaux = dispoAlimentaire_vegetaux.drop('Nbre_cal_journaliere_par_personne_disponibles', axis=1)\n",
    "\n",
    "#calculer le Nbre_cal_vege_journaliere_par_personne_disponibles pour les produits végétaux\n",
    "Nbre_cal_vege_journaliere_par_personne_disponibles = dispoAlimentaire_vegetaux.groupby('Zone')['Disponibilité alimentaire (Kcal/personne/jour)'].sum().reset_index()\n",
    "Nbre_cal_vege_journaliere_par_personne_disponibles.rename(columns={'Disponibilité alimentaire (Kcal/personne/jour)': 'Nbre_cal_vege_journaliere_par_personne_disponibles'}, inplace=True)\n",
    "\n",
    "#Ajouter cette colonne au DataFrame dispoAlimentaire_vegetaux\n",
    "dispoAlimentaire_vegetaux = pd.merge(dispoAlimentaire_vegetaux, Nbre_cal_vege_journaliere_par_personne_disponibles, on='Zone', how='outer')\n",
    "'''outer join pour prendre en compte l'entiereté des données de dispoAlimentaire et de Nbre_cal_journaliere_par_personne_disponibles'''\n",
    "\n",
    "#Grouper par pays et obtenir la première ligne de chaque groupe\n",
    "NourritureDispo_vegetaux = dispoAlimentaire_vegetaux.groupby('Zone').first().reset_index()[['Zone', 'Population', 'Nbre_cal_vege_journaliere_par_personne_disponibles']]\n",
    "print(NourritureDispo_vegetaux.head())"
   ]
  },
  {
   "cell_type": "code",
   "execution_count": 93,
   "id": "8c82da41",
   "metadata": {},
   "outputs": [
    {
     "name": "stdout",
     "output_type": "stream",
     "text": [
      "Le nombre total d'humains pouvant être nourris avec les produits végétaux est d'environ : 7.35 milliards d'humains\n"
     ]
    }
   ],
   "source": [
    "#Calculer la colonne Nbre_cal_vege_dispo_totale\n",
    "NourritureDispo_vegetaux['Nbre_cal_vege_dispo_totale'] = NourritureDispo_vegetaux['Population'] * NourritureDispo_vegetaux['Nbre_cal_vege_journaliere_par_personne_disponibles']\n",
    "\n",
    "#Calculer le nombre d'humains pouvant être nourris avec les produits végétaux\n",
    "NourritureDispo_vegetaux['Nb_humains_nourris_vegetaux'] = NourritureDispo_vegetaux['Nbre_cal_vege_dispo_totale'] / calories_necessaires_par_personne\n",
    "\n",
    "#Calculer le nombre total d'humains nourris avec les produits végétaux\n",
    "nombre_total_humains_nourris_vegetaux = NourritureDispo_vegetaux['Nb_humains_nourris_vegetaux'].sum()\n",
    "print(\"Le nombre total d'humains pouvant être nourris avec les produits végétaux est d'environ : {:.2f} milliards d'humains\".format(nombre_total_humains_nourris_vegetaux / 1e9))"
   ]
  },
  {
   "cell_type": "markdown",
   "id": "cd07afb1",
   "metadata": {},
   "source": [
    "<div style=\"border: 1px solid RGB(0,150,250);\" >\n",
    "<h3 style=\"margin: auto; padding: 20px; color: RGB(0,150,250); \">3.4 - Utilisation de la disponibilité intérieure</h3>\n",
    "</div>"
   ]
  },
  {
   "cell_type": "code",
   "execution_count": 94,
   "id": "71328746",
   "metadata": {},
   "outputs": [
    {
     "name": "stdout",
     "output_type": "stream",
     "text": [
      "La disponibilité intérieure mondiale est de : 9733927000.00 kilos\n",
      "La disponibilité intérieure mondiale est de : 9733927.00 tonnes\n"
     ]
    }
   ],
   "source": [
    "#Calcul de la disponibilité totale\n",
    "dispo_int = dispoAlimentaire['Disponibilité intérieure'].sum()\n",
    "print(\"La disponibilité intérieure mondiale est de : {:.2f} kilos\".format(dispo_int))\n",
    "print(\"La disponibilité intérieure mondiale est de : {:.2f} tonnes\".format(dispo_int/1000))\n"
   ]
  },
  {
   "cell_type": "code",
   "execution_count": 95,
   "id": "03248095",
   "metadata": {},
   "outputs": [
    {
     "name": "stdout",
     "output_type": "stream",
     "text": [
      "La disponibilité intérieure mondiale en Aliments pour animaux est de : 1288002000.00 kilos\n",
      "La disponibilité intérieure mondiale en Pertes est de : 452283000.00 kilos\n",
      "La disponibilité intérieure mondiale en Nourriture est de : 4805525000.00 kilos\n"
     ]
    }
   ],
   "source": [
    "#création d'une boucle for pour afficher les différentes valeurs en fonction des colonnes aliments pour animaux, pertes, nourritures, \n",
    "colonnes = ['Aliments pour animaux', 'Pertes', 'Nourriture']\n",
    "for colonne in colonnes:\n",
    "    dispo_int_colonne = dispoAlimentaire[colonne].sum()\n",
    "    print(\"La disponibilité intérieure mondiale en {} est de : {:.2f} kilos\".format(colonne, dispo_int_colonne))\n"
   ]
  },
  {
   "cell_type": "markdown",
   "id": "141d05df",
   "metadata": {},
   "source": [
    "<div style=\"border: 1px solid RGB(0,150,250);\" >\n",
    "<h3 style=\"margin: auto; padding: 20px; color: RGB(0,150,250); \">3.5 - Utilisation des céréales</h3>\n",
    "</div>"
   ]
  },
  {
   "cell_type": "code",
   "execution_count": 96,
   "id": "c27448ff",
   "metadata": {},
   "outputs": [],
   "source": [
    "#Création d'une liste avec toutes les variables du fichier DispoAlimentaire\n",
    "variables = ['Autres Utilisations', \n",
    "             'Aliments pour animaux',\n",
    "             'Nourriture', \n",
    "             'Pertes', \n",
    "             'Semences', \n",
    "             'Traitement',\n",
    "             'Exportations - Quantité',\n",
    "             'Importations - Quantité',\n",
    "             'Production',\n",
    "             'Variation de stock',\n",
    "             'Disponibilité intérieure'\n",
    "             ]\n"
   ]
  },
  {
   "cell_type": "code",
   "execution_count": 97,
   "id": "5dc5586d",
   "metadata": {},
   "outputs": [],
   "source": [
    "#création d'un dataframe qui filtre sur toutes les céréales ['Blé', 'Riz (Eq Blanchi)', 'Orge', 'Maïs', 'Millet', 'Seigle', 'Avoine', 'Sorgho', 'Céréales, Autres']\n",
    "cereales = dispoAlimentaire[dispoAlimentaire['Produit'].isin(['Blé', 'Riz (Eq Blanchi)', 'Orge', 'Maïs', 'Millet', 'Seigle', 'Avoine', 'Sorgho', 'Céréales, Autres'])]\n"
   ]
  },
  {
   "cell_type": "code",
   "execution_count": 98,
   "id": "8365de95",
   "metadata": {},
   "outputs": [
    {
     "name": "stdout",
     "output_type": "stream",
     "text": [
      "La quantité totale de céréales utilisée pour les animaux est de : 859615000.00 kilos\n",
      "La quantité totale de céréales pour la disponibilité intérieure est de : 2378371000.00 kilos\n",
      "La proportion totale d'Aliments pour animaux par rapport à la disponibilité intérieure totale est de : 36.14%\n"
     ]
    }
   ],
   "source": [
    "#Calcul de la quantité totale de céréales utilisée pour les animaux\n",
    "quantite_totale_cereales_animaux = cereales['Aliments pour animaux'].sum()\n",
    "print(\"La quantité totale de céréales utilisée pour les animaux est de : {:.2f} kilos\".format(quantite_totale_cereales_animaux))\n",
    "\n",
    "# Calculer la proportion totale de 'Aliments pour animaux' par rapport à la disponibilité intérieure totale\n",
    "quantite_totale_dispo_int = cereales['Disponibilité intérieure'].sum()\n",
    "print(\"La quantité totale de céréales pour la disponibilité intérieure est de : {:.2f} kilos\".format(quantite_totale_dispo_int))\n",
    "\n",
    "# Calculer la proportion totale de 'Aliments pour animaux' par rapport à la disponibilité intérieure totale\n",
    "proportion_aliments_animaux = quantite_totale_cereales_animaux/ quantite_totale_dispo_int * 100\n",
    "print(\"La proportion totale d'Aliments pour animaux par rapport à la disponibilité intérieure totale est de : {:.2f}%\".format(proportion_aliments_animaux))\n"
   ]
  },
  {
   "cell_type": "code",
   "execution_count": 99,
   "id": "6f5e93c7",
   "metadata": {},
   "outputs": [
    {
     "name": "stdout",
     "output_type": "stream",
     "text": [
      "La quantité totale de céréales utilisée pour les Humains est de : 1020464000.00 kilos\n",
      "La proportion totale de Nourriture humaine par rapport à la disponibilité intérieure totale est de : 42.91%\n"
     ]
    }
   ],
   "source": [
    "quantite_totale_cereales_humains = cereales['Nourriture'].sum()\n",
    "print(\"La quantité totale de céréales utilisée pour les Humains est de : {:.2f} kilos\".format(quantite_totale_cereales_humains))\n",
    "\n",
    "# Calculer la proportion totale de 'Nourriture'humaine par rapport à la disponibilité intérieure totale\n",
    "proportion_nourriture = cereales['Nourriture'].sum() / cereales['Disponibilité intérieure'].sum() * 100\n",
    "print(\"La proportion totale de Nourriture humaine par rapport à la disponibilité intérieure totale est de : {:.2f}%\".format(proportion_nourriture))"
   ]
  },
  {
   "cell_type": "code",
   "execution_count": 100,
   "id": "c3ea4f92",
   "metadata": {},
   "outputs": [
    {
     "name": "stdout",
     "output_type": "stream",
     "text": [
      "Autres Utilisations           9.782830\n",
      "Aliments pour animaux        36.143016\n",
      "Nourriture                   42.906006\n",
      "Pertes                        4.486516\n",
      "Semences                      2.847285\n",
      "Traitement                    3.858986\n",
      "Exportations - Quantité      17.636483\n",
      "Importations - Quantité      16.461814\n",
      "Production                  104.934974\n",
      "Variation de stock           -3.760053\n",
      "Disponibilité intérieure    100.000000\n",
      "dtype: float64\n"
     ]
    }
   ],
   "source": [
    "\n",
    "# Calculer la proportion totale par variable par rapport à la disponibilité intérieure totale\n",
    "proportions = cereales[variables].sum() / cereales['Disponibilité intérieure'].sum() * 100\n",
    "print(proportions)\n"
   ]
  },
  {
   "cell_type": "markdown",
   "id": "a603be79",
   "metadata": {},
   "source": [
    "<div style=\"border: 1px solid RGB(0,150,250);\" >\n",
    "<h3 style=\"margin: auto; padding: 20px; color: RGB(0,150,250); \">3.6 - Pays avec la proportion de personnes sous-alimentée la plus forte en 2017</h3>\n",
    "</div>"
   ]
  },
  {
   "cell_type": "code",
   "execution_count": 101,
   "id": "1884c270",
   "metadata": {},
   "outputs": [
    {
     "name": "stdout",
     "output_type": "stream",
     "text": [
      "Zone                         object\n",
      "Population                    int64\n",
      "sous_nutrition                int64\n",
      "proportion_sous_nutrition    object\n",
      "dtype: object\n",
      "                                           Zone  proportion_sous_nutrition\n",
      "72                                        Haïti                      49.17\n",
      "151  République populaire démocratique de Corée                      47.98\n",
      "99                                   Madagascar                      43.02\n",
      "174                                       Tchad                      40.62\n",
      "95                                      Libéria                      38.28\n",
      "143                                      Rwanda                      36.72\n",
      "112                                  Mozambique                      33.51\n",
      "91                                      Lesotho                      33.47\n",
      "177                                 Timor-Leste                      32.17\n",
      "189      Venezuela (République bolivarienne du)                      30.95\n"
     ]
    }
   ],
   "source": [
    "#trouver le type de données de chaque colonne du dataFrame resultats_2017\n",
    "print(resultats_2017.dtypes)\n",
    "\n",
    "#modifier le type de données proportion_sous_nutrition en float\n",
    "resultats_2017['proportion_sous_nutrition'] = resultats_2017['proportion_sous_nutrition'].str.replace('%', '').astype(float)\n",
    "\n",
    "# Trier le DataFrame par proportion_sous_nutrition de manière décroissante\n",
    "resultats_tries = resultats_2017.sort_values(by='proportion_sous_nutrition', ascending=False)\n",
    "\n",
    "# Afficher les 10 premières lignes du DataFrame trié\n",
    "print(resultats_tries[['Zone', 'proportion_sous_nutrition']].head(10))"
   ]
  },
  {
   "cell_type": "markdown",
   "id": "4f610008",
   "metadata": {},
   "source": [
    "<div style=\"border: 1px solid RGB(0,150,250);\" >\n",
    "<h3 style=\"margin: auto; padding: 20px; color: RGB(0,150,250); \">3.7 - Pays qui ont le plus bénéficié d'aide alimentaire depuis 2013</h3>\n",
    "</div>"
   ]
  },
  {
   "cell_type": "code",
   "execution_count": 102,
   "id": "ff1b24a3",
   "metadata": {},
   "outputs": [
    {
     "name": "stdout",
     "output_type": "stream",
     "text": [
      "LA TABLE PIVOT : \n",
      "Année         Zone       2013       2014      2015     2016  Valeur Totale\n",
      "0      Afghanistan  128238000   57214000         0        0      185452000\n",
      "1          Algérie   35234000   18980000  17424000  9476000       81114000\n",
      "2           Angola    5000000      14000         0        0        5014000\n",
      "3       Bangladesh  131018000  194628000  22542000        0      348188000\n",
      "4          Bhoutan    1724000     146000    578000   218000        2666000\n"
     ]
    }
   ],
   "source": [
    "#création d'une table pivot pour avoir le montant total de l'aide alimentaire par pays et par année sur une ligne\n",
    "pivot_aideAlimentaire = aideAlimentaire.pivot_table(index='Zone', columns='Année', values='Valeur', aggfunc='sum', fill_value=0)\n",
    "pivot_aideAlimentaire['Valeur Totale'] = pivot_aideAlimentaire.sum(axis=1)\n",
    "\n",
    "pivot_aideAlimentaire.reset_index(inplace=True)\n",
    "print('LA TABLE PIVOT : ')\n",
    "print (pivot_aideAlimentaire.head())\n",
    "\n"
   ]
  },
  {
   "cell_type": "code",
   "execution_count": 103,
   "id": "ee1ac6fb",
   "metadata": {},
   "outputs": [
    {
     "name": "stdout",
     "output_type": "stream",
     "text": [
      "Les 10 premiers pays selon la valeur totale de l'aide alimentaire :\n",
      "Année                              Zone       2013       2014       2015  \\\n",
      "50            République arabe syrienne  563566000  651870000  524949000   \n",
      "75                             Éthiopie  591404000  586624000  203266000   \n",
      "70                                Yémen  264764000  103840000  372306000   \n",
      "61                        Soudan du Sud  196330000  450610000   48308000   \n",
      "60                               Soudan  330230000  321904000   17650000   \n",
      "30                                Kenya  220966000  217418000  114452000   \n",
      "3                            Bangladesh  131018000  194628000   22542000   \n",
      "59                              Somalie  139800000   81180000   71698000   \n",
      "53     République démocratique du Congo  150320000   70134000   68048000   \n",
      "43                                Niger   62720000   66226000   54656000   \n",
      "\n",
      "Année       2016  Valeur Totale  \n",
      "50     118558000     1858943000  \n",
      "75             0     1381294000  \n",
      "70     465574000     1206484000  \n",
      "61             0      695248000  \n",
      "60             0      669784000  \n",
      "30             0      552836000  \n",
      "3              0      348188000  \n",
      "59             0      292678000  \n",
      "53             0      288502000  \n",
      "43      92742000      276344000  \n"
     ]
    }
   ],
   "source": [
    "# Tri décroissant par la colonne 'Valeur Totale'\n",
    "pivot_aideAlimentaire_sorted = pivot_aideAlimentaire.sort_values(by='Valeur Totale', ascending=False)\n",
    "top_10 = pivot_aideAlimentaire_sorted.head(10)\n",
    "print('Les 10 premiers pays selon la valeur totale de l\\'aide alimentaire :')\n",
    "print(top_10)"
   ]
  },
  {
   "cell_type": "markdown",
   "id": "a361ce61",
   "metadata": {},
   "source": [
    "<div style=\"border: 1px solid RGB(0,150,250);\" >\n",
    "<h3 style=\"margin: auto; padding: 20px; color: RGB(0,150,250); \">3.8 - Evolution des 5 pays qui ont le plus bénéficiés de l'aide alimentaire entre 2013 et 2016</h3>\n",
    "</div>"
   ]
  },
  {
   "cell_type": "code",
   "execution_count": 104,
   "id": "09d55114",
   "metadata": {},
   "outputs": [
    {
     "name": "stdout",
     "output_type": "stream",
     "text": [
      "Les 5 premiers pays selon la valeur totale de l'aide alimentaire :\n",
      "Année                       Zone       2013       2014       2015       2016  \\\n",
      "50     République arabe syrienne  563566000  651870000  524949000  118558000   \n",
      "75                      Éthiopie  591404000  586624000  203266000          0   \n",
      "70                         Yémen  264764000  103840000  372306000  465574000   \n",
      "61                 Soudan du Sud  196330000  450610000   48308000          0   \n",
      "60                        Soudan  330230000  321904000   17650000          0   \n",
      "\n",
      "Année  Valeur Totale  \n",
      "50        1858943000  \n",
      "75        1381294000  \n",
      "70        1206484000  \n",
      "61         695248000  \n",
      "60         669784000  \n"
     ]
    }
   ],
   "source": [
    "#calcul des 5 pays qui ont reçu le plus d'aide alimentaire entre 2013 et 2016\n",
    "top_5 = pivot_aideAlimentaire_sorted.head(5)\n",
    "print('Les 5 premiers pays selon la valeur totale de l\\'aide alimentaire :')\n",
    "print(top_5)\n"
   ]
  },
  {
   "cell_type": "markdown",
   "id": "bd392dac",
   "metadata": {},
   "source": [
    "<div style=\"border: 1px solid RGB(0,150,250);\" >\n",
    "<h3 style=\"margin: auto; padding: 20px; color: RGB(0,150,250); \">3.9 - Pays avec le moins de disponibilité par habitant</h3>\n",
    "</div>"
   ]
  },
  {
   "cell_type": "code",
   "execution_count": 105,
   "id": "fb3a378b",
   "metadata": {},
   "outputs": [
    {
     "name": "stdout",
     "output_type": "stream",
     "text": [
      "Les 10 pays avec la disponibilité alimentaire la plus faible sont :\n",
      "                                           Zone  \\\n",
      "127                   République centrafricaine   \n",
      "164                                      Zambie   \n",
      "91                                   Madagascar   \n",
      "0                                   Afghanistan   \n",
      "65                                        Haïti   \n",
      "132  République populaire démocratique de Corée   \n",
      "150                                       Tchad   \n",
      "165                                    Zimbabwe   \n",
      "114                                     Ouganda   \n",
      "152                                 Timor-Leste   \n",
      "\n",
      "     Disponibilité alimentaire (Kcal/personne/jour)  \n",
      "127                                          1879.0  \n",
      "164                                          1924.0  \n",
      "91                                           2056.0  \n",
      "0                                            2087.0  \n",
      "65                                           2089.0  \n",
      "132                                          2093.0  \n",
      "150                                          2109.0  \n",
      "165                                          2113.0  \n",
      "114                                          2126.0  \n",
      "152                                          2129.0  \n"
     ]
    }
   ],
   "source": [
    "# Calculer la somme totale de Disponibilité alimentaire en quantité par pays\n",
    "dispo_total_par_pays = dispoAlimentaire.groupby('Zone')['Disponibilité alimentaire (Kcal/personne/jour)'].sum().reset_index()\n",
    "\n",
    "# Trier les pays par ordre croissant selon leur Disponibilité alimentaire en quantité\n",
    "pays_dispo_faible = dispo_total_par_pays.sort_values(by='Disponibilité alimentaire (Kcal/personne/jour)')\n",
    "print(\"Les 10 pays avec la disponibilité alimentaire la plus faible sont :\")\n",
    "print(pays_dispo_faible.head(10))\n"
   ]
  },
  {
   "cell_type": "markdown",
   "id": "2553ed12",
   "metadata": {},
   "source": [
    "<div style=\"border: 1px solid RGB(0,150,250);\" >\n",
    "<h3 style=\"margin: auto; padding: 20px; color: RGB(0,150,250); \">3.10 - Pays avec le plus de disponibilité par habitant</h3>\n",
    "</div>"
   ]
  },
  {
   "cell_type": "code",
   "execution_count": 106,
   "id": "63e835c6",
   "metadata": {},
   "outputs": [
    {
     "name": "stdout",
     "output_type": "stream",
     "text": [
      "Les 10 pays ayant la Disponibilité alimentaire en quantité la plus haute sont :\n",
      "                      Zone  Disponibilité alimentaire (Kcal/personne/jour)\n",
      "11                Autriche                                          3770.0\n",
      "16                Belgique                                          3737.0\n",
      "157                Turquie                                          3708.0\n",
      "169  États-Unis d'Amérique                                          3682.0\n",
      "74                  Israël                                          3610.0\n",
      "72                 Irlande                                          3602.0\n",
      "75                  Italie                                          3578.0\n",
      "89              Luxembourg                                          3540.0\n",
      "166                 Égypte                                          3518.0\n",
      "4                Allemagne                                          3503.0\n"
     ]
    }
   ],
   "source": [
    "# Trier les pays par ordre décroissant selon la Disponibilité alimentaire en quantité\n",
    "pays_dispo_elevee = dispo_total_par_pays.sort_values(by='Disponibilité alimentaire (Kcal/personne/jour)', ascending=False)\n",
    "\n",
    "# Afficher les 10 premiers pays ayant la Disponibilité alimentaire en quantité la plus haute\n",
    "print(\"Les 10 pays ayant la Disponibilité alimentaire en quantité la plus haute sont :\")\n",
    "print(pays_dispo_elevee.head(10))\n"
   ]
  },
  {
   "cell_type": "markdown",
   "id": "58d7248b",
   "metadata": {},
   "source": [
    "<div style=\"border: 1px solid RGB(0,150,250);\" >\n",
    "<h3 style=\"margin: auto; padding: 20px; color: RGB(0,150,250); \">3.11 - Exemple de la Thaïlande pour le Manioc</h3>\n",
    "</div>"
   ]
  },
  {
   "cell_type": "code",
   "execution_count": 107,
   "id": "ec9ca912",
   "metadata": {},
   "outputs": [
    {
     "name": "stdout",
     "output_type": "stream",
     "text": [
      "          Zone  Population  sous_nutrition  proportion_sous_nutrition\n",
      "176  Thaïlande    69209810         6500000                       9.39\n"
     ]
    }
   ],
   "source": [
    "\n",
    "#création d'un dataframe avec uniquement la Thaïlande \n",
    "# Filtrer les résultats pour ne conserver que les lignes avec l'année 2017 et la Thaïlande\n",
    "resultats_thailande_2017 = resultats_2017[resultats_2017['Zone'] == 'Thaïlande']\n",
    "print(resultats_thailande_2017)"
   ]
  },
  {
   "cell_type": "code",
   "execution_count": 108,
   "id": "85693912",
   "metadata": {},
   "outputs": [
    {
     "name": "stdout",
     "output_type": "stream",
     "text": [
      "Le nombre de personnes en état de sous-nutrition en Thaïlande en 2017 est de : 6,500,000 personnes\n",
      "Le nombre de personnes dans la population en Thaïlande en 2017 est de : 69,209,810 personnes\n",
      "Le pourcentage de sous-nutrition en Thaïlande en 2017 est de : 9.39%\n"
     ]
    }
   ],
   "source": [
    "# Calculer le nombre de personnes en état de sous-nutrition en Thaïlande en 2017\n",
    "sous_nutrition_thailande_2017 = resultats_thailande_2017['sous_nutrition'].sum()\n",
    "print(\"Le nombre de personnes en état de sous-nutrition en Thaïlande en 2017 est de : {:,.0f} personnes\".format(sous_nutrition_thailande_2017))\n",
    "\n",
    "# Calculer le nombre de personnes dans la population en Thaïlande en 2017\n",
    "population_thailande_2017 = population[(population['Zone'] == 'Thaïlande') & (population['Année'] == 2017)]['Population'].values[0]\n",
    "print(\"Le nombre de personnes dans la population en Thaïlande en 2017 est de : {:,.0f} personnes\".format(population_thailande_2017))\n",
    "\n",
    "# Calculer le pourcentage de sous-nutrition en Thaïlande en 2017\n",
    "pourcentage_sous_nutrition_thailande = (sous_nutrition_thailande_2017 / population_thailande_2017) * 100\n",
    "print(f\"Le pourcentage de sous-nutrition en Thaïlande en 2017 est de : {pourcentage_sous_nutrition_thailande:.2f}%\")\n"
   ]
  },
  {
   "cell_type": "code",
   "execution_count": 109,
   "id": "f19cd96e",
   "metadata": {},
   "outputs": [
    {
     "name": "stdout",
     "output_type": "stream",
     "text": [
      "La quantité de Manioc exportée par la Thaïlande est de : 25214000.00 kilos\n",
      "La production de Manioc en Thaïlande est de : 30228000.00 kilos\n",
      "Proportion d'exportations de Manioc par rapport à la production : 83.41%\n"
     ]
    }
   ],
   "source": [
    "# Filtrer les données pour ne conserver que celles concernant le Manioc en Thaïlande\n",
    "manioc_thailande_data = dispoAlimentaire[(dispoAlimentaire['Zone'] == 'Thaïlande') & (dispoAlimentaire['Produit'] == 'Manioc')]\n",
    "\n",
    "# Calculer la quantité de Manioc Thaïlandais exporté\n",
    "exportations_manioc_thailande = manioc_thailande_data['Exportations - Quantité'].sum()\n",
    "print(f\"La quantité de Manioc exportée par la Thaïlande est de : {exportations_manioc_thailande:.2f} kilos\")\n",
    "\n",
    "\n",
    "#Calculer la production de Manioc en Thaïlande\n",
    "production_manioc_thailande = manioc_thailande_data['Production'].sum()\n",
    "print(f\"La production de Manioc en Thaïlande est de : {production_manioc_thailande:.2f} kilos\")\n",
    "\n",
    "# Calculer la proportion d'exportations par rapport à la production\n",
    "proportion_export_production = exportations_manioc_thailande / production_manioc_thailande\n",
    "\n",
    "print(f\"Proportion d'exportations de Manioc par rapport à la production : {proportion_export_production:.2%}\")\n"
   ]
  },
  {
   "cell_type": "code",
   "execution_count": 110,
   "id": "2bf5ae62",
   "metadata": {},
   "outputs": [
    {
     "name": "stdout",
     "output_type": "stream",
     "text": [
      "La disponibilité alimentaire en manioc (kg/personne/an) en Thaïlande est de : 13.00 kg\n"
     ]
    }
   ],
   "source": [
    "#Quelle est la disponibilité alimentaire en manioc pour la Thaïlande\n",
    "\n",
    "# Calculer la disponibilité par personne de manioc en Thaïlande (kg)\n",
    "dispo_totale_manioc_thailande = manioc_thailande_data['Disponibilité alimentaire en quantité (kg/personne/an)'].sum()\n",
    "print(f\"La disponibilité alimentaire en manioc (kg/personne/an) en Thaïlande est de : {dispo_totale_manioc_thailande:.2f} kg\")\n"
   ]
  },
  {
   "cell_type": "markdown",
   "id": "607444ac",
   "metadata": {},
   "source": [
    "Les exportations de manioc vers la nouvelle Zélande progressent fortement (400% en janvier 2020) Cette augmentation est due à la demande croissante en alimentation animale dans les fermes laitières (source https://asian-agribiz.com/2020/04/13/thailands-cassava-exports-to-new-zealand-jumps-400/)"
   ]
  },
  {
   "cell_type": "markdown",
   "id": "7de4e914",
   "metadata": {},
   "source": [
    "<div style=\"background-color: RGB(0,150,250);\" >\n",
    "<h2 style=\"margin: auto; padding: 20px; color:#fff; \">Etape 6 - CONCLUSION</h2>\n",
    "</div>"
   ]
  },
  {
   "cell_type": "markdown",
   "id": "2aac950e",
   "metadata": {},
   "source": [
    "### Causes principales de sous-nutrition dans le monde\n",
    "Troubles politiques / corruption   \n",
    "Guerres (Tchad ...)  \n",
    "Fermeture des frontières (Corée du Nord)   \n",
    "Catastrophes naturelles (Haïti..)    \n",
    "Manque d'infrastructures   \n",
    "Education...   \n",
    "\n",
    "### Réponses possibles\n",
    "1- Intégrer des protéines végétales dans nos assiettes pour réduire la production destinée aux animaux d'élevage  \n",
    "2 - Utiliser plus efficacement les terres agricoles et les ressources d'eau  \n",
    "3 - Obtenir plus de financement pour des organismes comme le PAM  \n",
    "4 - Réduire les pertes alimentaires (4,6% de la dispo alimentaire mondiale)  \n"
   ]
  },
  {
   "cell_type": "markdown",
   "id": "ae9799f0",
   "metadata": {},
   "source": [
    "À l'aube du XXIe siècle, la sécurité alimentaire mondiale représente un défi de taille alors que nous faisons face à une population mondiale croissante et à des ressources limitées. Cependant, une lueur d'espoir émerge à travers les récentes recherches et les pratiques durables : en repensant nos habitudes alimentaires et en adoptant une approche plus équilibrée et durable, nous pourrions non seulement /\n",
    "* améliorer notre santé \n",
    "mais aussi \n",
    "* contribuer à nourrir une population mondiale en pleine expansion.\n",
    "\n",
    "L'une des pistes les plus prometteuses réside dans la transition vers une alimentation plus végétale et l'intégration de protéines végétales dans notre régime alimentaire. Ce changement pourrait avoir un impact significatif sur la quantité de nourriture nécessaire pour subvenir à nos besoins alimentaires : \n",
    "\n",
    "* En réduisant la part des produits destinés à l'élevage animal \n",
    "  et \n",
    "* en accordant une place plus importante aux végétaux dans nos assiettes, \n",
    "\n",
    "nous pourrions libérer des ressources précieuses et contribuer à une utilisation plus efficace des terres agricoles et des ressources en eau.\n"
   ]
  },
  {
   "cell_type": "markdown",
   "id": "f62f97d0",
   "metadata": {},
   "source": [
    "Sources : \n",
    "\n",
    "Rapports des Nations Unies et de la FAO :  \n",
    "Rapport de la FAO : \"The State of Food and Agriculture\" - Ce rapport explore les tendances mondiales de la sécurité alimentaire et met en lumière l'importance des choix alimentaires durables pour l'avenir de la sécurité alimentaire mondiale.  \n",
    "\n",
    "Rapport du Panel international des ressources : \"Creating a Sustainable Food Future\" - Ce rapport examine les défis et les opportunités pour nourrir une population mondiale croissante de manière durable.  \n",
    "\n",
    "\n",
    "The World Resources Institute (WRI) : Le WRI publie des recherches et des analyses approfondies sur les systèmes alimentaires durables et l'impact des choix alimentaires sur l'environnement.  \n",
    "\n",
    "The EAT-Lancet Commission : Cette commission a élaboré un régime alimentaire sain pour les personnes et la planète, appelé le régime de référence de la Commission EAT-Lancet, qui met en avant une alimentation riche en végétaux.\n",
    "\n"
   ]
  }
 ],
 "metadata": {
  "kernelspec": {
   "display_name": "Python 3",
   "language": "python",
   "name": "python3"
  },
  "language_info": {
   "codemirror_mode": {
    "name": "ipython",
    "version": 3
   },
   "file_extension": ".py",
   "mimetype": "text/x-python",
   "name": "python",
   "nbconvert_exporter": "python",
   "pygments_lexer": "ipython3",
   "version": "3.11.7"
  }
 },
 "nbformat": 4,
 "nbformat_minor": 5
}
